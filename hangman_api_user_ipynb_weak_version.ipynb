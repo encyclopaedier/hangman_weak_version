{
  "cells": [
    {
      "cell_type": "markdown",
      "source": [
        "# **This code will not meet the minimum requirement, because I deleted several important mechanism and tricks I used in training. Also, if you can understand what I am doing, why dont you just use transformer based models? That's a better solution LOL**"
      ],
      "metadata": {
        "id": "bZ-y2mpUOBy8"
      }
    },
    {
      "cell_type": "markdown",
      "metadata": {
        "id": "MUd6ajtKWaDH"
      },
      "source": [
        "## Strategy Explanation:\n",
        "1. **strategy intuition**\n",
        "\n",
        "\n",
        "\n",
        "I used a deep learning model to play this game.\n",
        "I built a model which will generate a probability distribution of the appearance of each letter at each position based on the input, and use the letter with highest probability as our guess.\n",
        "For example, the input can be '\\<ha_gma_>', where '<' is the start of input and '>' is the end of input, and our target is to get a probability distribution of letters at the '\\_' position. The model will generate a tensor with shape of (1,7,26), where the first dimension(1) is batch size(which is not important), second dimension(7) representing 7 positions in the word, and the third dimension(26) is probability distribution of 26 words.\n",
        "I then mask the guessed letters position, only leaving the probability of all letters at the two '_'s (a tensor with (1,2,26)). I also masked the incorrect letters as well.\n",
        "For the first guess, I started with vowels. Once the model finds a vowel it will start guessing with the model I trained.\n",
        "2. **model structure and training tricks**\n",
        "\n",
        "The model is a encoder-decoder structure based model with attention mechanism and teacher forcing which helped improve the performance. The model originates from LAS model in 2015 paper 'Listen, Attend and Spell'https://arxiv.org/pdf/1508.01211.pdf.\n",
        "For encoder I used pyramid lstm.\n",
        "For the decoder I used attention mechanism and lstm to generate predictions. I also added teacher forcing and grumble noise to improve the performance.\n",
        "For the loss function, I modified pytorch nnEntropyLoss, reallocating weights of guessed letters to help the model focus on the unguessed letters.\n",
        "3. **dataset**\n",
        "\n",
        "My input looks like '\\<h#gma#>', where #s are masks(unguessed letters), '<' is start of input and '>' is end of input.\n",
        "targets are words like 'hangman>' (no start of word sign, only end of word sign).\n",
        "4. **further improvement**\n",
        "This model certainly has some flaws. It didn't effectively use the information from guessed but incorrect letters, and it averaged the probability of all possible letters, which is not quite reasonable.\n",
        "One way to solve this problem is that we can add a max pooling layer at the end of the model, thus the model will only generate one letter that has the largest probability, correspondingly, we have to modify the loss function so that as long as the model generates a letter that appears in the word, it will not punish the model. Also we have to build another encoder to encode the incorrect letters and send the incorrect guesses into the decoder so as to let the model learn to avoid incorrect guesses.\n",
        "These ideas are promising, but unfortunately because I am in final weeks at school, I didn't have enough time to implement all these ideas."
      ]
    },
    {
      "cell_type": "code",
      "source": [],
      "metadata": {
        "id": "YHwoQvnbOWkz"
      },
      "execution_count": null,
      "outputs": []
    },
    {
      "cell_type": "code",
      "execution_count": null,
      "metadata": {
        "collapsed": true,
        "id": "tXIt-kzAWaDI"
      },
      "outputs": [],
      "source": [
        "import json\n",
        "import requests\n",
        "import random\n",
        "import string\n",
        "import secrets\n",
        "import time\n",
        "import re\n",
        "import collections\n",
        "try:\n",
        "    from urllib.parse import parse_qs, urlencode, urlparse\n",
        "except ImportError:\n",
        "    from urlparse import parse_qs, urlparse\n",
        "    from urllib import urlencode\n",
        "from sklearn.model_selection import train_test_split\n",
        "import pandas as pd"
      ]
    },
    {
      "cell_type": "code",
      "execution_count": null,
      "metadata": {
        "id": "exiOx0siZLZG"
      },
      "outputs": [],
      "source": [
        "from google.colab import drive\n",
        "\n",
        "drive.mount(\"/content/gdrive\", force_remount=True)\n",
        "! ls /content/gdrive/MyDrive"
      ]
    },
    {
      "cell_type": "markdown",
      "metadata": {
        "id": "t0xCO1JosSlV"
      },
      "source": [
        "##Data_preprocess##"
      ]
    },
    {
      "cell_type": "markdown",
      "metadata": {
        "id": "KgmRfDK71n9s"
      },
      "source": [
        "generate training data"
      ]
    },
    {
      "cell_type": "code",
      "execution_count": null,
      "metadata": {
        "id": "ep8YJtOOzdEF",
        "colab": {
          "base_uri": "https://localhost:8080/"
        },
        "outputId": "0af23aa5-0bd7-4302-e490-f588157cd39a"
      },
      "outputs": [
        {
          "output_type": "stream",
          "name": "stdout",
          "text": [
            "0\n"
          ]
        }
      ],
      "source": [
        "import numpy as np\n",
        "from numba.typed import List\n",
        "from numba import jit, prange\n",
        "\n",
        "\n",
        "def remove_one_length_word(words):\n",
        "    return [w for w in words if len(np.unique(list(w))) > 1]\n",
        "\n",
        "\n",
        "with open(\"words_250000_train.txt\") as f:\n",
        "    words = f.read().split('\\n')\n",
        "\n",
        "mask_char = '#'\n",
        "\n",
        "np.random.shuffle(words)\n",
        "\n",
        "\n",
        "n_words = len(words)\n",
        "train_ratio = 0.8\n",
        "dev_ratio = 0.1\n",
        "test_ratio = 0.1\n",
        "repeat=1\n",
        "\n",
        "train_words = words[:int(n_words * train_ratio)]*repeat\n",
        "dev_words = words[int(n_words * train_ratio): int(n_words * (train_ratio + dev_ratio))]*repeat\n",
        "test_words = words[int(n_words * (train_ratio + dev_ratio)):]*repeat\n",
        "\n",
        "train_words = remove_one_length_word(train_words)\n",
        "dev_words = remove_one_length_word(dev_words)\n",
        "test_words = remove_one_length_word(test_words)\n",
        "\n",
        "\n",
        "with open('words_250000_train.txt', 'w') as f:\n",
        "    f.write(\"\\n\".join(train_words))\n",
        "\n",
        "with open('words_250000_train.txt', 'w') as f:\n",
        "    f.write('\\n'.join(dev_words))\n",
        "\n",
        "with open('words_250000_train.txt', 'w') as f:\n",
        "    f.write('\\n'.join(test_words))\n",
        "\n",
        "mask_rate=0.4\n",
        "@jit(nopython=True, nogil=True)\n",
        "def create_mask_words(words):\n",
        "    result = []\n",
        "\n",
        "    for i in prange(len(words)):\n",
        "        word_lst = list(words[i])\n",
        "        word_len = len(word_lst)\n",
        "        n_mask = max(int(word_len * mask_rate), 1)\n",
        "        indices = np.random.choice(np.arange(word_len), size=n_mask)\n",
        "        for j in prange(len(indices)):\n",
        "            word_lst[indices[j]] = mask_char\n",
        "        masked_word = ''.join(word_lst)\n",
        "        result.append(masked_word)\n",
        "    return result\n",
        "\n",
        "\n",
        "# @jit(nopython=True, nogil=True)\n",
        "def create_mask_words_unique(words):\n",
        "    result = []\n",
        "\n",
        "    for i in range(len(words)):\n",
        "        word_ = list(words[i])\n",
        "        word_lst = np.unique(word_)\n",
        "        word_len = len(word_lst)\n",
        "        n_mask = max(int(word_len * mask_rate), 1)\n",
        "        indices = np.random.choice(np.arange(word_len), size=n_mask)\n",
        "        letters = word_lst[indices]\n",
        "        for l in letters:\n",
        "            for j, w in enumerate(word_):\n",
        "                if w == l:\n",
        "                    word_[j] = '#'\n",
        "        masked_word = ''.join(word_)\n",
        "        result.append(masked_word)\n",
        "    return result\n",
        "\n",
        "\n",
        "def create_typed_list(words):\n",
        "    typed_list = List()\n",
        "    for word in words:\n",
        "        typed_list.append(word)\n",
        "    return typed_list\n",
        "\n",
        "\n",
        "def write_train_dev_test():\n",
        "    train_mask_words = []\n",
        "    dev_mask_words = []\n",
        "    test_mask_words =[]\n",
        "    for i in range(repeat):\n",
        "        print(len(train_mask_words))\n",
        "        train_mask_words+= create_mask_words_unique(create_typed_list(train_words))\n",
        "        dev_mask_words+= create_mask_words_unique(create_typed_list(dev_words))\n",
        "        test_mask_words+= create_mask_words_unique(create_typed_list(test_words))\n",
        "\n",
        "    with open('words_alpha_train_unique_big.txt', 'a') as f:\n",
        "        for masked_word, word in zip(train_mask_words, train_words):\n",
        "            f.write(','.join([masked_word, word])+'\\n')\n",
        "    with open('words_alpha_dev_unique_big.txt', 'a') as f:\n",
        "        for masked_word, word in zip(dev_mask_words, dev_words):\n",
        "            f.write(','.join([masked_word, word])+'\\n')\n",
        "    with open('words_alpha_test_unique_big.txt', 'a') as f:\n",
        "        for masked_word, word in zip(test_mask_words, test_words):\n",
        "            f.write(','.join([masked_word, word])+'\\n')\n",
        "\n",
        "\n",
        "write_train_dev_test()"
      ]
    },
    {
      "cell_type": "markdown",
      "metadata": {
        "id": "vBrRbAnz731A"
      },
      "source": [
        "generate letter2index and index2letter mappings"
      ]
    },
    {
      "cell_type": "code",
      "execution_count": null,
      "metadata": {
        "id": "Ccr45mbhmQrp",
        "colab": {
          "base_uri": "https://localhost:8080/"
        },
        "outputId": "fcc2e724-a7f5-4443-ee16-462793f6ebce"
      },
      "outputs": [
        {
          "output_type": "execute_result",
          "data": {
            "text/plain": [
              "({' ': 0,\n",
              "  '#': 27,\n",
              "  '/': 30,\n",
              "  '<': 29,\n",
              "  '>': 28,\n",
              "  'a': 1,\n",
              "  'b': 2,\n",
              "  'c': 3,\n",
              "  'd': 4,\n",
              "  'e': 5,\n",
              "  'f': 6,\n",
              "  'g': 7,\n",
              "  'h': 8,\n",
              "  'i': 9,\n",
              "  'j': 10,\n",
              "  'k': 11,\n",
              "  'l': 12,\n",
              "  'm': 13,\n",
              "  'n': 14,\n",
              "  'o': 15,\n",
              "  'p': 16,\n",
              "  'q': 17,\n",
              "  'r': 18,\n",
              "  's': 19,\n",
              "  't': 20,\n",
              "  'u': 21,\n",
              "  'v': 22,\n",
              "  'w': 23,\n",
              "  'x': 24,\n",
              "  'y': 25,\n",
              "  'z': 26},\n",
              " {0: ' ',\n",
              "  1: 'a',\n",
              "  2: 'b',\n",
              "  3: 'c',\n",
              "  4: 'd',\n",
              "  5: 'e',\n",
              "  6: 'f',\n",
              "  7: 'g',\n",
              "  8: 'h',\n",
              "  9: 'i',\n",
              "  10: 'j',\n",
              "  11: 'k',\n",
              "  12: 'l',\n",
              "  13: 'm',\n",
              "  14: 'n',\n",
              "  15: 'o',\n",
              "  16: 'p',\n",
              "  17: 'q',\n",
              "  18: 'r',\n",
              "  19: 's',\n",
              "  20: 't',\n",
              "  21: 'u',\n",
              "  22: 'v',\n",
              "  23: 'w',\n",
              "  24: 'x',\n",
              "  25: 'y',\n",
              "  26: 'z',\n",
              "  27: '#',\n",
              "  28: '>',\n",
              "  29: '<',\n",
              "  30: '/'})"
            ]
          },
          "metadata": {},
          "execution_count": 3
        }
      ],
      "source": [
        "LETTER_LIST = [ ' ','a', 'b', 'c', 'd', 'e', \\\n",
        "          'f', 'g', 'h', 'i', 'j', 'k', \\\n",
        "          'l', 'm', 'n', 'o', 'p', 'q', \\\n",
        "         'r', 's', 't', 'u', 'v', 'w', \\\n",
        "         'x', 'y', 'z', '#','>','<','/']\n",
        "\n",
        "def create_dictionaries(letter_list):\n",
        "    '''\n",
        "    Create dictionaries for letter2index and index2letter transformations\n",
        "    based on LETTER_LIST\n",
        "\n",
        "    Args:\n",
        "        letter_list: LETTER_LIST\n",
        "\n",
        "    Return:\n",
        "        letter2index: Dictionary mapping from letters to indices\n",
        "        index2letter: Dictionary mapping from indices to letters\n",
        "    '''\n",
        "    n = len(letter_list)\n",
        "    letter2index = {letter_list[i]:i for i in range(0, n)}\n",
        "    index2letter = {i:letter_list[i] for i in range(0, n)}\n",
        "    return letter2index, index2letter\n",
        "letter2index, index2letter = create_dictionaries(LETTER_LIST)\n",
        "\n",
        "def transform_letter_to_index(transcript):\n",
        "    '''\n",
        "    :param transcript :(N, ) Transcripts are the text input\n",
        "    :param letter_list: Letter list defined above\n",
        "    :return letter_to_index_list: Returns a list for all the transcript sentence to index\n",
        "    '''\n",
        "    #for sent in transcript:\n",
        "    letters = []\n",
        "    for word in transcript:\n",
        "        # Converte from byte format to string for mapping\n",
        "        s = word.encode('utf-8').decode('utf-8')\n",
        "        for c in s:\n",
        "            letters.append(letter2index[c])\n",
        "        # Space between each word\n",
        "\n",
        "    return letters\n",
        "\n",
        "def transform_index_to_letter(batch_indices):\n",
        "    '''\n",
        "    Transforms numerical index input to string output by converting each index \n",
        "    to its corresponding letter from LETTER_LIST\n",
        "\n",
        "    Args:\n",
        "        batch_indices: List of indices from LETTER_LIST with the shape of (N, )\n",
        "    \n",
        "    Return:\n",
        "        transcripts: List of converted string transcripts. This would be a list with a length of N\n",
        "    '''\n",
        "\n",
        "    index_to_letter_list = []\n",
        "    for r in batch_indices:\n",
        "        curr = \"\"\n",
        "        for i in r:\n",
        "            # Reached the end of the sentence\n",
        "            if i ==0:\n",
        "              break\n",
        "            curr += index2letter[i]\n",
        "        index_to_letter_list.append(curr)\n",
        "    return index_to_letter_list\n",
        "create_dictionaries(LETTER_LIST)"
      ]
    },
    {
      "cell_type": "code",
      "execution_count": null,
      "metadata": {
        "colab": {
          "base_uri": "https://localhost:8080/"
        },
        "id": "rJKicq9oR6dU",
        "outputId": "7d01e81d-b6f1-4957-cda4-6c722b76a0a8"
      },
      "outputs": [
        {
          "output_type": "stream",
          "name": "stdout",
          "text": [
            "[1, 19, 4, 6]\n"
          ]
        }
      ],
      "source": [
        "print(transform_letter_to_index('asdf'))"
      ]
    },
    {
      "cell_type": "markdown",
      "source": [
        "##DataLoader"
      ],
      "metadata": {
        "id": "gmxwJ6lz1oQJ"
      }
    },
    {
      "cell_type": "code",
      "execution_count": null,
      "metadata": {
        "id": "gJf9rGsNiNdp"
      },
      "outputs": [],
      "source": [
        "import torch\n",
        "from torch.nn.utils.rnn import pad_sequence, pack_padded_sequence, pad_packed_sequence\n",
        "\n",
        "\n",
        "class LibriSamples(torch.utils.data.Dataset):\n",
        "\n",
        "    def __init__(self, data_path):\n",
        "\n",
        "        self.file = data_path\n",
        "        with open(data_path) as f:\n",
        "          words = f.read().split('\\n')\n",
        "\n",
        "        self.X = []\n",
        "        self.y = [] \n",
        "        for i in words:\n",
        "          temp=i.split(',')\n",
        "          if len(temp)==2:\n",
        "            self.X.append(temp[0])\n",
        "            self.y.append(temp[1])\n",
        "    def __len__(self):\n",
        "\n",
        "        return len(self.X)\n",
        "\n",
        "    def __getitem__(self, ind):\n",
        "\n",
        "        X=self.X[ind]\n",
        "        y=self.y[ind]\n",
        "        y='<'+y+'>'\n",
        "        X=transform_letter_to_index(X)\n",
        "        y=transform_letter_to_index(y)\n",
        "        \n",
        "        X=torch.tensor(X).to(\"cpu\")\n",
        "        X=torch.unsqueeze(X,1)\n",
        "        y=torch.tensor(y).to(\"cpu\")\n",
        "\n",
        "        return X, y\n",
        "\n",
        "    def collate_fn(self, batch_data):\n",
        "        inputs, targets = zip(*batch_data)\n",
        "        batch_size = len(inputs)\n",
        "        feature_dim = inputs[0].shape[-1]\n",
        "\n",
        "        inputs = list(inputs)\n",
        "        input_lens = [len(_input) for _input in inputs]\n",
        "        longest_input = max(input_lens)\n",
        "        padded_input = torch.zeros(batch_size, longest_input, feature_dim)\n",
        "        \n",
        "\n",
        "        for i, input_len in enumerate(input_lens):\n",
        "\n",
        "            cur_input = inputs[i]\n",
        "            padded_input[i, 0:input_len] = cur_input\n",
        "        padded_input = padded_input.permute(1, 0, 2)  # (T, B, D)\n",
        "        \n",
        "        \n",
        "\n",
        "        targets = list(targets)\n",
        "        target_lens = [len(label) for label in targets]\n",
        "        longest_target = max(target_lens)\n",
        "        padded_decoder = torch.zeros((batch_size, longest_target), dtype=torch.int64)\n",
        "        padded_target = torch.zeros((batch_size, longest_target), dtype=torch.int64)  # (B, T)\n",
        "        for i, target_len in enumerate(target_lens):\n",
        "            cur_target = targets[i]\n",
        "\n",
        "            padded_decoder[i, :target_len-1] = cur_target[:-1]\n",
        "            padded_target[i, :target_len-1] = cur_target[1:]\n",
        "        return padded_input, padded_target, padded_decoder, input_lens, target_lens\n"
      ]
    },
    {
      "cell_type": "code",
      "execution_count": null,
      "metadata": {
        "id": "bmLFo9UDpVmt"
      },
      "outputs": [],
      "source": [
        "batch_size=512*8\n",
        "train_data = LibriSamples('/content/words_alpha_train_unique_big.txt')\n",
        "val_data = LibriSamples('/content/words_alpha_dev_unique_big.txt')\n",
        "test_data = LibriSamples('/content/words_alpha_test_unique_big.txt')\n",
        "\n",
        "train_loader = torch.utils.data.DataLoader(train_data,collate_fn=train_data.collate_fn, batch_size=batch_size, shuffle=True)\n",
        "val_loader = torch.utils.data.DataLoader(val_data,collate_fn=val_data.collate_fn, batch_size=batch_size, shuffle=True)\n",
        "test_loader = torch.utils.data.DataLoader(test_data,collate_fn=test_data.collate_fn, batch_size=batch_size, shuffle=True)"
      ]
    },
    {
      "cell_type": "markdown",
      "source": [
        "test dataloader"
      ],
      "metadata": {
        "id": "PsnjTXjO1tHA"
      }
    },
    {
      "cell_type": "code",
      "execution_count": null,
      "metadata": {
        "colab": {
          "base_uri": "https://localhost:8080/"
        },
        "id": "borBUDvjOOIU",
        "outputId": "5550392d-a3f6-48f8-e735-483ab4f0faf8"
      },
      "outputs": [
        {
          "output_type": "stream",
          "name": "stdout",
          "text": [
            "<class 'torch.Tensor'> <class 'torch.Tensor'> <class 'torch.Tensor'> <class 'list'> <class 'list'>\n",
            "tensor([16,  9, 22, 15, 20,  1,  2, 12,  5, 28,  0,  0,  0,  0,  0,  0,  0,  0,\n",
            "         0,  0,  0,  0,  0,  0])\n",
            "torch.Size([22, 4096, 1]) torch.Size([4096, 24]) torch.Size([4096, 24]) 4096 4096\n",
            "torch.Size([4096, 22])\n",
            "['#iv#t#ble', 'th#oc#eso#', 'tru##edu#', '#n#iele##ron#', 'alleli#m#', 'go##ism', 'unineb#i##edness', '#o#ori#uge', '#asewood', 'sym##t#etectom#es', '#bb#d', 'm###ki#i', '#wa#d', 'ne##li#e', '#usti', '#eneti#ism', '##bbini#tic', 'exte##io#a#i#m', 'eu#ipos', 'cla####a#ion', 'elect#omobili#m', 'g##d#ess', 's#l#ite', 'i#v#lid#t#d', 'ciliotom#', '#inda#e#', 'phil#delphi#', 'te#ida#i#m', 'v#d#od#sk', 'nig#n#ss', 'boy#ng', 'co#ce##ualiza#io##', 'u#d###at#m##t', 'jugg#er#', 'overemp##si#ed', '#etonie#', 'ple##colo#s', '#entishmen', '#isaffectati##', '#a#ess', '#u#s#myth#c##', 'pon#wee##', 'h#rry', 't#bb#t', 'fo#spo#en', '#d#', '#orma#i#t', '#deolat#y', 'kell#', 'm#r#hm#n', '#o#orcab', '#e#pairin#', 'po##ifica#i#y', '#arrin#ton', '#z#ba', 're#rder', 'dep#ct##ed', '#and#aid', '##ddling', 'cord#la#thu#', '#u#pect#n#', 'hada##ah', '#ap#tar#t#', '#ure', 'en#re##er', 'unst#w#d', 'den#t#on###z#t#on', 'e#t#a#c##gl#', 'rubb###ly', 'bh#', 'u##vo#ativ#', 'con#ent#n#ne##', 'chlo#is', 'gaff##g', 's#riden#', 'phe#o##o#s', 'o#e#intensif#ing', 'br##io##s', 'none#ibi#ity', 'radioprot##ti##', 'ch#stis##', 'bri##la#', 'm#nsei#nev#', 'conc##tiz#', '#r#judic#ti##', 't##rmog#l##nom#t#r', 'wu###r', '#r#m#ters', 'l#nd#u#', 'sax#n#', '##tic##sori#l', 'bola#', 'la##en', 'gau###erase', 'h#lfv###ble', '##derstra##', '#o##ias#a#ic', '#pr#ced', 'w#sters', 're#e#tive', '#ubm#ni#', '#r##ite', 'sq#e##nk', 'a#g#o#r##h##m', 'holo#e#a#ol#an', '#w#tted', 'l##ules', 'unquer#', 'p#rt###b#e', 'pr##hipp#d', '##perel##tic#ll#', 'sheepste#l', '#o#pare#ls', '#kk#la', 'c##oma#odysopia', 'els#', '#ain#w#ale', 'lu##rn#', 'a#gu##ike', '#p#ay', 'nigh#ro#n##', 'sol#bl#', 's#b###ing', '#ccide#tl#', 'i#terpo##ter', 's##pleto##a##s#', 'eye##l', 'un#gois#ica###', '#ou#hhou#in#', 'icec#tting', 't#uj#', '#ar#ar#ty', '#iolini#ti#', 'cu#a#a', 's#on#coa##d', 'bap##a', 'luc#an', 'e#rt##ove', 'cr##bi#l#gic#ll#', 'gr##d', '#rae#ead', '#erli#hingen', 'eb#rn#', 'cover#e##', 'irrig#tiv#', 'wh###b#oad', 'nonautono#ou#', '#asew##ms', '##cro#echa##c#', 'd#ph#i#', '#o###trayal', 'ke#osu##ini#', 'bac#p#da##d', '#ynta#ti#ian', 'mis#il#s', 'endo#raniu#', '#eps', '#eddle', 'quin#lin#', '#etres#ip', '#nre#engef##ness', 'sh#ea#i#g', 'es#nart#e#', '#arcell#ne', '##se#at#on', 'un#ro#a##eness', '#n#r###rti#nality', 'gra#i##id', '##agee', '#iace#za', 'ajan#', 'y##rocolum#i##', '#t#id#ana', 'h#rmi##ik#', 'tea##ard', '#ynthet##t', 'c#a#ts', 'p#tterer', 'fir#tco##r', '##rr#fil#', 'opso#iz#', 's###rv#nosity', '#u####oati#g', 'q##siin##rior', '#oomy', '#rob#te#', '#l#ac#ive', 'unpu###ed', '#nbottl#ng', '#u##vim', 'pse#d#ne#r#p#er##s', 'murmure#', 'g#p', 'ald#r#a#at#', 'larg#dia##t#r', 'suicido#og#', 'j##kte#eg', 'over#o#er', '##u#o#astic', '#toma#', 'm#dd#astol##', '#hr#w', 'hana#er#', 'ru#i#olou#', 'rh#o#an', 's#emba', 'revili##l#', 'ind#s#rib#b#y', 'e#o#om#zes', 'mi##i#arad', 'i#n#sph#ric', 'po##cre', 'la#i#', 'hi#hmuc#amuc#', 'hi#torio#og#', 'p##t#mammalian', 'bi#d', 'ca#hme#e', 'ne#r#vi#cer#l', 'sw#d##borgi##is#', 'bl#nno#hobia', 'divin##', 'imm#n#iv#', 'e#ider###h#t#n', 'a#h##ri#izatio#', '#exdigi#i##', '##ccant', '#rth###r##lity', 'f###dli#g', '#eo#o#ica#', 'pata##te', 'fore#or#', '#am#s#le', 'a#ti#emite', 'b#bl', 'soonconsol##', 'diffe#e#ti#ble', 'en#h#all#ngl#', '#hm#d', '#t##h##ra#y', 'aut#ta', 's##gn##rag#', '##obos', 'd###st#v#ly', 'unre##n#n#', 'engr##ing', 'ove#chi##', 'r##ppro#ch##l#', '##lam', '#pa#wif#', 'a#tima#k', 'fau#t##ss##ss', 'ca###lla', 'h#rlba#', 'con##aposaune', 'en##ur#ger', '#y#atter', '#urindi#', 'cha##e#', 'l#ss#mph#b##', 'de#oil', 'hangf###s', 'sm#t#hless', 'di#pici#n', 'ps#ud##p#pl#ctic#l', 'dehg#n', '#cy#oin', 'bd#', 's#iggaio#', '##nit#ry', 't##c###sh#d', '#ur#s', 'covell##e', 'd#phne', 'un#a#ou#ing', 'ave##ed', 'eryt#em#t#c', 'roma#t#ca##y', 'h#rn#ish', 'pay#ay', 'c#a#mi#g', 'trideca#e', 'ophtha#mist', 'som#l#l#nd', 'o###wilily', 'di##trual', '#nsacr#f#cea##y', '##raf#l', 'c#p#c#tors', '#s#erless', '####bje#tive', '#unc#', 'lo#', 'befall#', 't#zz#es', '#eli#ities', 'fl####whi##', 'du#h#', '##ere###a#ic#', 'b#li#vin#l#', 'm#t#lc##ft', 'aq#a#ii', 'a#nu#', 'hear#ener', '#ltran#t', 'nonderiv##i#ity', 'sa#to####c', 'a#ot#r#as', '#ro##tic#ess', 'pa#a#l#', 'coercen##', 'yard#r#ad', 'mi##ort', '#hyrohy#l', 'rootb#ilt', 'atta##lgite', 'w#om', 'x#', 'long##ads', 'e##op', '##licy', 'he#ilin#ual', '#ubt##k#', 'fo#da#ts', '#elen#', '###son#liz#d', 'o#nipr#s#n##', 'b#dy#ak#r', 'q#a#ip#pillar#', '#araflocc#lar', 's#p####ogation', 's##tbespe##le#', '#one##a', '#itterin#', 'im#edient', 'h##dpos#', 're#bea#e#', '#ss#g#i#d', '#ounter##ass####at#ons', 'r#nt#er', 'de#ro#ra##ers', 'cle#c#', 'comp#i#ed', 'fr###anc#r', '#ist#nings', 'di#k#', '#u#o#gglu##n###on', 'good#ornot#ingn#ss', 'inq#isito#i#ll#', 'see#n#s', '#npe##imi#tic', 'r#usseauis#', 're#ince', 'zoo#om##al', 't#r#adl###', 'do#mi#ion', 'spa##p#ug', 'hi#h#ise#', 'k##noi', 'cee#t', '#ell', 'whi#l', 'dolci##i#o', 'acc#pti####ss', 'unpa##icipa#in#', 'da#lil#', '#e#tr#u#', '#toope##', '#our##e', '##efash##n', 'indim#le', '##lph#ro##ne##', 'mu#ou#ne##', 'eme#ge', '#illibar#', 'ba#in##y', 'saxo#ho##s', '#a##l#graft', 'ov##f##ds', '##uiarti#ulat#', '##nd#l#y', '#ud#k', 'lot#so#e', 'p#otozoon', '##i#a#na', 'ol#fo#yism', '#r#ptogr#mm#t#st', 'un#tymo#og#z#b##', '#loodcolor#d', '#i#ho##hate', '#a#ti#gal#s', 'non#a##st', 'al#gism', 'fi##er', 'tra#kho#n#', 'd#ew', 'ant##ilu#ial', '#r#t#rop##ia', 'c###unicat##', 'pre#rani#i#', 'uncu#l#', 'dian##e', 'le#t#', '#je#ib', '#a#ry#egged', 'pref#cusse#', '#rann#w', 'fai#i#g', 'di#kson', 'b#w#ili#gly', '#oscana', 'm#mb#r', 'p#stmed#ll#r#', 'marpl##', '#xop##gy', 'fru##uarius', 'ma#ne#ia#', 'lig#i#erdo#s', 'ho#tele#', 'stri##enl#', 'bf#', 'fr###eurs', 'synae#es#s', 'commor##', 'bi#g#s', 'in##ebred', 're#isi#ns', 'intr#du#ti#n#', 's#e##monger', 'unr#t#c#nt', 'mois#nesses', '##s#ec#oral', '#ine#hoto#i#rogr##h#', 'd#sor#s', '#n#olat#le', 'overnovele#', 't#ant', 'odon###gi#', 'ot#lg##', 'c#rer#', 'ne#fo#n#lan#', 'r#o###nd', 'obo##e', 'mandar#n#n#', 'pretr#n###ti#n', 'boomsla###', '#a#dhemmed', 'plet##on', 'l###rymou#', '#hr#mpy', 'bra##n#ail##', '##ddled', 'e#dur##g', 'j#ur##listic', '##r##dous', 'n#ni#pr#ssi#nabl#', 'f###o#t', '#c#uisible', 'tr##esty', 'unassa#lab#l###', '#a##o#hical', 'lik###d', 'outthru#t#ng', 'o#l#', 'si#nificat#', '#ng#r#', 'm##r', 'fix##re#', 'es##ed', 'crem#le', 'an#ial#umin', 'gongo##s#u#', 'shogg#shoo', 'seashe##', 'imp#eg', 'flu#nc#', 'mil#and#a##r', 'mcgea#', 'tal##allus', 'ber#ste##', 'thi#gua#i##', 'p#ebene#itin#', '#ote#e', '#g#ized', 'co#g###tors', 'v#r##gi', 'ob#i#ee', 's##cyl#nde#ed', '##ogenou#', 'pi#chabl#', 'unr#tt#n', 's#ok#l#ss', 'und##tuning', 'cag#ro#', 'unders#oc#', 't#ipodal', '#or#fis#es', 'te#e#s', 'b#st#', 'f#out#d', 'm#l#dia#', 'dijudica##', '#al#n##ed', 'b#olg#', 'n#nc#nt#nti#u#', 'm#lo#ramat#c#sm', '##ll#gr##ing', 'm#nhol#', '#ridd#ed', '#inga#', 'so#al#te', 'se#iqu#d###tly', '###el###ousness', 'phth#r#us', '#eu##', 'u#we#r#ed', 'se#m##ly', 'br#tt#eboro', 'k#o##i#g', 'ele#ne#et#i#n', 'motio##ict##e', 'mackere#i#g', 'tr#n#fer##e', 'o#e####yst', 'n#n#sse#ti#n', '##unter#e#l', 'a#rameri#an', '##asy##please', '#ns#h#z#phren##', '#e#ne#ies', 'ke##ery#an', 'b#tt#rm#r#', 'o#c#s', 'a#c#d#uid', '#oreis#ite', 'rack####r', 'lea#itt', 'i##u#r#', '#cu##ti#n', 'ho#o#onic', '#e#ve#idde#', 'o#ibell#', '#liy', '#y#iny', 's#l#ingos#omy', 'co##okes', '#uei#g', 'f#cale#', '#arl##n', '#ownth#lin#', 'i##ra#idal', '#o#ichos', '##coct', '#etta', '#ataria', '#om#ri#ed', 'lep#d###c', '#s#e#ugo', 'tug##atme#', 'antienthu#ia#t', 'non#on#e##ion', 'si#e', 'twicese####te#', 'inc##n#tion##', '#ltr##on#o#it#nt', 'chond#od#st#oph#', 'm###r#l#gi#al', 's#ppr#se', 'bu##y', 'phi#osophise#', '#obbl#r', '#onthl#', 'me#n', 'pe##etime', 'd#icid#', '#l##ones', 'en#eave', 'q#er##o#ity', 'beseechi####', 's#m#it#rn', 'mese##h#m#t#l', 'dy#am#ge###', '###detr##tive', 'foa##orn', 't##omyt#olog#r', 'oz#', 's#u#er', 'unde##ull', 't#ws##', 'e#tomolo#y', 'indo#t#ine', '#h#t##ra#hable', 'n#n#xtingui#h#d', 's#oo#h#res#ed', 'dha#m#c', 'dialo#i##', 'ep#p#a##a', 'nigri#ies', '#eocos#ic', '#ompetiti#ely', 'overcr#t#c##e', 'de#o#a#i#ise', 'a#hy#y', 'anabro###', 'ha#froma#ti#', 'dou#leloa#hed', '#anel#ork', '#leas#n#', 'a#a#chical', 'a#mou#p#e#c###', 'sunga##ng', 'p###ulphat#', 'ther##tr##y', '#a#nuts', '#o#ta#e#atis', 'cong#u#ncy', 'd#lac##', '#urm#', '#en#o', '#o#dfinny', 'otogyp#', 'non##irit#o##', 'sra#', 's##r#ant', '##n#wals', 'mol#e#ly', 'concept#on', '#romo', '#acun#se', '#enefit', 'dub##able', 's#mi#sis', 'depre#', 'acc#ssabl#', 'm#scon##c#ur#', '#oli', '#ra##ew#nn#ng', 'n#n##vernmen#', 'daeda##dae', 'u#om#i#ci##t', '#nt#rd###nd#nc#', 'm#rcioni#e', 's#on#sh#d', 'imp###hm#nts', 'ivor##ea#e#', 'galabi#a', '#ymp#o#i#i#g', 'derma##phy##s#s', '#u#ule', 'in##a#ent#al', 'h#lloas', 'char##ro#', 'b#nd##', 'm#n#z', 'c#b', 'sk#k#m#sh', 'sem#n##c#s#s', 'dibasi#', 'ken#ry', 'abo#c#e#ent', 'mil#ne##e#', 'e#ac#sm', 'm#l#a#ri#a#', 'u#ce#a#ions', 'beewor#', 'v#t#pe#at#ve', 'st##ps', 's##gio#hobia', 'p###a#ious', 'farg###', 'm#nuf#c#i#n', '#useu#s', '##lint#ottom', 'c#k#m#kin#', '##v#rl##ti#g', '#ie##a', 'fami#ia##ess', '#la####ath#r#d', '#artogra#h##', 'b##skin', 'a##li#hed', 'clype##tri##', 'bor##ol#', '#a#ito#', 'permi###nce', 'steakh##se', 'm#g#i#ier', 'cou##ere#g##e', 'k#', 'portli##t#r#', 'hymett##n', '#l#c#rop#oru#', 'sun##ss', 'co##aran', 'ha##b#lled', 'p#tti#', 'spendin#', 'alg#ria#', 'f#le#ii', 'm#dici##', 'f#our#d', 'c#n', 'cozin#ss#s', 'man##as', 'cr#k#r', 'la#i#ate#', 'pu##h##tudes', '#ynt#rono#', 'un##sson#d', 'ta#as#idea#', '#o#i##a#aisse', 'italia#ly', '#ys#tus', 'shee#berr#es', 'a#dility', 'sh#r#s#affe#', '#np#t#ently', '#erfec#ion##ion', 's###nts', '###stidigitatio#', 'tri#irgat#', '#au', 'agapemon###', '#owa#le', '#ol#t#', 'b#pp', '#inerer', 'a#c#t#t#ou#', 'e#orbi#a#cy', 'effe##u#lnesses', 'fl#tbo#o#e#', 'n#s#l#g#st', '#a#op#oni#a#', 'mo#o#tero#', '#rct#sc#', 'k#lli#', '##rr#no', '#ou#te##ou#ha#t', 'half##lk', '#ate##nu#ha#', 'au##flamme', 'no#i#e', 'asahika#a', '#ntr#pr#n#ur#', 'u#chris#ia#i#y', '#vr#', 'non#l#gr#n#e', 'deeds##lle', 'cha###o#ne', '#ym#at#icob#a#t', '##isoko#i#', 's#ri##b#und', 'b#ow###med', '#gn#t#v#', '#erg#mee', 'mck##n', 'n###otyp#', 'for##ast##s', 'c##ndrilla', 'brib##r##', 'n##dfir#', '#o#oservice', 'non#el###ng', 'ala#ka#', 'roo###ock', 'ex#i##a#t', '#lle#w##s', 'se#ine##o', 'nu#u#id', '#em#tholog#zer', 'b#a#ons', 'b##hb#k#', 'd#cryosol##itis', 'r##at#on', '#a#shna##sm', '##uabl#', 'n#nev#dible', 'be#m#t#', 's#ond#lod#mus', 'f#rday#', 'mi#robi#ida#', 'dish##se', '##d#ot##nsp##enc#', 'miti#ates', '##la#hd#wn', '##atvi#aged', 'ki#ki#g', 'co#e#ele#', 'p#asi#', 'g##d#', '#icewa##en#y', 'cr#s#al', 'p#ce', 'la#', 'aegagr#s', 'e#e#t#ot#e#mi#s', 'tyro#a#', '###alators', 'un#d##l#z#d', '##yalec#a#e#', 'ci##ra#or', '##rtis#nr#', '#h#ndr#mu###d', '###lesc#ng', 'ske#tics', '#mbrac#n#l#', 's#ates', 'm#ntana', '#hit###ll#d', '#nd#rstr#w#d', 'ya###r', 'b#taf#t#', 'a#ti#e#tro#s', 'p#eudopodia#', 't#in##v#d', 'n#rcot#st', 'spo#tho#e', 'c##i#dricob#o#g', 'pr#g#nit#ria#', 'm#ur#n#', '#atte#ied', 'd#rk#r#so#ed', 's#eeps#akes', 'pho#os###s', 'epaz##e', 'w#w#ery', 'ungramma###ally', 'wi##i#wards', 'a#n', 'm#y#ca', '#yzy#ium', 'a#tice#s##s#ip', 'm#atic', 'z####r#hic', 'tort#ll#s', 'aga#on#', '#ryp#ve#', 'ae##u#', 'i#ke', 'th#ckshelled', '#n#r#ath', 'nonunifo#mi#t', 'ex#e#iences', 'on#t#nd', 'ca#abre##', '#inc#dpi#', 're##oun#er', 'pr#nta#le', '##l#brant', 'l#ca#ne', 'prep#nder#nc#', '#esea#che#', 'sw##p#a#k', 'nong#il#', 'un##lp', 'mon##ged', 'ani#o#oty#y', 'posts#g#o##a#', 'ho##hite', '#i#cr#wn#ent', 'ja##oni#in#', 'fo#crof#', 'for##han#', 'c#ytridiac#a#', 'pe#fello#', '##rasmuch', '#urf#aid', '##p', '#a#able', 'm#n#rch#c', 'h#li#tr##is#', 'cam##n#tus', 'ove##an#', 'mult#mammat#', '#apu#apu', '#et#othy#o##', 'dr#ff#er', 'peri#####gic', '##ngu#st#c#an', 'di#os', 'ph####e#esc#pe', '#udd#r', 'expi#t##', 'sn#ff#n#ly', 'el#erlie#', 'kickab##t', 'si#ici#ize', 'h#bl#b', 'w#t#call', 'dec##sse', 'wrong#o#r#', 'ram###ngs', 's#', '####iliv##tr##', 'coi#wei#hi##', '#uman#l#', 'preplace#en#', 'gilm#r#', 'ob#e#pera#e', 's#l#on', 'cit#inins', 'c##c#r##rate', 'meth###ne', 'nonaci#ic', 'unwa#e##a##ed', 'ash##ess', 'crocoi##', 'co#l#', 'abo#es', '#i##ounten#n#er', '##rofsk#t#', '#oli#io#a#e', '#o#tra#e#tio#', 'underwr#pped', 'un#e#enna#y', 'lik###us', 's##rem#n', 'ritto##', 'unco#pl##en##n#', 'c#ppers##esman', '##ostem#t#on', '#tidiph#ps', 'jo#i', 'azt##a', 'b#rg##n', '#chth#t###derm#', '#at#r#r#athing', 'acha##', '#ran#er', 'c#lu#ellar', 'alga#e#', 'fuzzyh#####', '#t#nia', 't#ssp#ts', 't#adeunioni#t', 'out#o#', '#pl#nd##c#nt', 'disapp##v#s', 'emp#ase', 'ro#', 'buc#a#unna', 'n#nb#amef###y', '#r#dy', 'tong##sm#n', 'r#viv#', 'e#tre#ted', 'luce##le', 'kor#ni#', 'cyto#tat#cally', 'a##thic', 'o#ts#o#t', 'h##ts', '##t#ings', '#ec##ph#l#ac', 'polyony###a', 'alie#a#le', '#d#ex', 'po#itei', 's#ssell#', 'ye###w#ini#ned', '#ican#py', '#egarge#', 'a###ntly', 'cle#ner#', 'p#lov##d#', '#uperord#n#ted', 'an##ici#ed', '#ung#', 'pr#n#ght', 'macd#ne##', 'pr#thm##', 'c#amm#r', 'salpingosto#ato##', 'undiscou#a#in#l#', 'wo#c#', 'r#d##m', 're#re#e#t#bly', '#nawb#oo', 'u###dhus', 'dip#o#odon#ia', 'steve#sv#lle', 'im##rn', 'ros##ing##', '#rj#y', 'tee#ful#', 'r#corr#ctio#', 'indu#t#ial', '#yophor#', '##trean', '#e#deli#', '##nic', 'whee#cat', 'reki#d#er', 'w#as#lw#s#', '#dl#r', 'jen##', 'an#l#an', 'bh##t#s', 'pet##v#k', 'sta###nge#', '#leepfe##i#g', 're###t', 'c#oy', 'sout###rdl#', 'c#ea#u#s', 'w#a#y', 'c#llist#i#', 'bi#m#th#m#tics', 'h#hr#', '##lf#han##d', 'fa##ow#n#', 'b##b#tu##tes', '##ssextus', 'u#ebri##e', 'mall#i#iza#io#', 'acr#di##', 'gr#wsom###', '#eta#ternal', 'disg##f', 'su#e#i#clusi#e', 'n#nmic##bic', 'nonn#t##c', 'warkam##w##', 'sc#len#', 'be#ai#ti##', 'thyr##t#my', 'none#per#', '#e#con#l', '#o#seriali#y', 'foere#pe#', 'ove####u#ent#tive', '##lenec#om#ze', '#hado', 'stradd#e#e##ed', 'g##c#ful', 'g#uco#ipi#', 'ant#ophob#a', '#hal#i#i#e', 'a##ema#a', '#u#ky', '#yproduc#', 'assassi#atio#s', 'sy#c##g', 's#if#b#rning', '#artialn#ss', 'p#l#ph#ni#al', 'ga#bill', 'm#t#gat##n', '#omptro##ersh#p', '#o#collect#ble', '###editing', 'machin###', '#eggi#no', '#a#dac#in', 'by#o#n#', '#a##ah', 's#v#or', 'n#n#in#age', 'imm##ig###usn#ss', 'papa#o#e', '#ount#ss#s', 'fess##se', 'neu#er', 'schi#oge#ic', 'rubi#i#', '#n#ering#e#', 'placar#eer', 'smoo#', 'al##e', '#e#obilise#', '#x#alati#n', 'c##rt', 'b#nd#ng#', 'pa##iasau#i', '#az#est', 'nonconfe#e#ation', 'xe#o#hia', 'beliqu##i#g', 'en#ur#n#es', 'fu##bu#ge##', 'car#i#ic', 'u#travio###t', '##ir#orned', 'committeem##', 'mod##t#', '#oar#itrator', 'm#ml##d#r', 'damp#n#r#', 'er#e', '#o##shness', '##lm#etter', 'e#hem#s', 'ou#', 'lachla#', 'ko#my#', '#lass###se', 'po#timpr###io#i#m', '#ourdou#h', '#anes#hes#a', 'p#ttma#', 'tai#orwi#e', 'tool##', '#ibri#o#e#ic', 'prep#nder##s', 'l#rm#er', 're#ressurizi#g', 'advi#er##i#', '#arli##s', '#us#arora', 'gre#', 'sa#yr#on', 'p####exu#li#y', 'c#i#kle', '#icti#ns', 's#al#wis#', 'invo#ve#ness', 'tele##one#s', 'des#r', 'sy##e#tica##y', 'a#re##s', '#ul#i##dal', 'thr##t#d', 'po###lo', 'w#r###esp#s#ng', 'u##aste#e#', 'we##ed', 'h#ca#', 'prittlepr#ttle', '#rol#a#u#r', 'm#nac#m#n#', 'v#lca##st', 'ca#en#ar#c', 'ga#e##eerage', 'slo#dri#in#', 'warra#ti##', 't#mehe##ted', 'blu##t#n#', 'l###sgar##s', '#r#ch#c#phal#s', 'a####ud#nous', '#o#ntrifi##tion', 'ti##etma#in#', 'aimle##ne##e#', 'non##quac#ou##y', 'ricebir#', '#moo#hbo#ie#', '#redef#ned', '##t#berc##ar', '#act#ri#lysin', 'deadfro#en', 'my#i#gotome', 'c###nto#a', 'p#', 'squ#d#eree#', 'v##p', 'interr##te#ness', 'ex#alen#', '#eedleco#d', '#xcla#ms', '#ac#ntos##s', 'd###town', 'w#r#n#ee', 'be##le', '#pn##l', 'p##t#st#ca#', '#er#e##iona#', 'c#ondro#t#oma', '#onk##ip', 'neg#igen#es', 'pop#lat#o##st', 'cau##cu##', 'unk#n#l##st', 'niell#ing', 'n#ku#or#', 'wai#', '#atti', 'pe###min#e#', '#itte#less', 'rec#nstruct#ve', '#on##ved', 'hin#s#on', '#ispi#it', 'breechc#o#h', '#aa', 'lygae##ae', 'sa#', 'beads#oma#', 'so##ily', '#agfis#', 'quas#r#p#rt#d', 'tw#ed#ed', '#rei#', 'compartme#ta#i#es', 'vso#', '###ngd#ings', '#all#x', 'sem#pr#fan#t#', 'po#ce##a#i#ae', '#et#loste#on', '#o#forter', 'bingh##', 'be#it#n#', 'da#a#ra', '#sni#r#s', 'ch#lle###ble', 'f#rol#to', 'p#il#re', '#ari', '#onde##b#l#ty', 'a##so##', 'babeh##d', '#n###e#sedly', 'c##pped', '#arva#', 'ra#ializ#', 'e#nhorn', 'sup#rc#ns#rvat#v#n#ss', 'par#e#u#', '#uditori##', 'hy#ta#', 'unm#elin#ted', 'a###wsm#tte#', 'demii#c#g#it#', 'k##ema###ally', '#st#op#o##d#e', '#s#electr#c#ll#', 'opinion###d', 'j#s', '#ispe#ple#', '#arot#d', 't#wd##ly', 'polysy#t#eti#e', '#ionoto#y', 'qua#rat##a##y', '#esicou#ete#a#', '#e#ness', 't#rt#n#', 'dog##oof', '#ut#fd#te', 'm#vi#', 'h#m#u#ia#', 'monkf###', 'li##r#lis#ti#n', 'inte##upt#', 'me##stemat#c', 'a#chic##e', 'h#rs#ll', '#oor#an', '#nych#m#l#ci#', 'br#shbr#aki##', '#iv#e', 'w#au', 'leon#da#', 'gl#uc#sur##', 'phy##in#', 'poly#a##s', '#oil#re', '#istoc##mic#l', 'w#rldsized', 'h#m#graf#', '#ing#an', 'sp#e#odi###osis', '#o#slow', '#iedm##ts', 'hexada###l##', 'non#a#e#hi##i#al', '#utputt#ng', 'f##te##is#tio#', 'p##line', 'p#l', 'bangal#w', 'wa##rf#ow', 'acar#c#cidiu#', 'wu#g#', 'a#r#c#lar', '#ein#usness', 'p#oleta##e', 'radi##hemi#all#', 'c#ba#ami#e', '##hnna', '#ise#t', '#rihe#er#l', '#nd#r#ally', 'chr#s####e', 'hyp##b#l#', '##vir#', 'looke#', '##nd#r#ar#d', '##anai', 'su#o#din#t#', 'm##hea#', '#oleci#e#', 'ax#ee#', '##ndbook#', 'p##tu#bat#onal', '#aiste#', 'iso#e##y', 'we###ehave#', 'im#ea##ing', 'pa##o', 'a##rova#', 's#ncr#pt#c', 'coprolo##', 'uned#e', '#ac#ar', 'nona#junct##e', 'o#tho#on#lizin#', 'uro##ilu#', 'rec#n#erse', 'vau#evillis#', '#al#a#ional', 'd#v', 'fa##e#', '#ount##m#n#uv##', 'supe#fami##', 'admi##ab#e', '###ressor', '#eme##p#oof', 'reproa#hable', '#ou#terba#a##e', 'e#t##les', 'thor##ld', 'se##nd#r', 'unava##fu#', 'woo#p#geo#', 'semit##t', 'not##iz#tion', 'chamb####', '#icnic#ed', '#arl', 'chicot#', '#bsor##i#eness', 'no##', 'becud#e#ed', '#i#lio#r#phi#', '###stings', 'telec####nicati#n#', 'redhi##in#', 'r#i#b#w#ided', '#nlard#d', 'fa##lla#', 'sulfon#l', 'w#o#g', 'aff#cto#', 'm#tte#tti', 'li#os', '#sm##ic#lly', 's#nk', 't#tr#bromo##uor##c#in', 'co##e#o#at##g', 'b#ak##', 'ma#i#a', '#uasiuniv##sally', 'amada#', '#e#i', '#u#siinfor#e#', '#s##dodiag#osis', 'gir##d', 'f#lsi#s', 'st##n#ck#d', '##per#en#itivene##', 'p#ssi#gs', '#a##enlike', 'e##ape#', 'hadr##yc####', '#e#illed', 'biz#', 'g#a##y', '#eri#e#u##ary', 'in#l#e', 'pr#####i#usly', 's##cos#o#idi#', 'op#c', 'hine#', 'bibbi#g', 'kevo#', '#nw#sest', 'or#g##s', 'crow##ts', '##vili#th#b#sh', 'in#luen#ing', 'do#blebod#ed', 'ty##ko#s', '#nt##scet#c', '#ntt#od', 'sp#ygm#g#ap#ic', 'arg####tiv#', 'a#til##om#tio#', '#ake###akki#g', '###rinhibit#d', 'prov#ccin##ion', 'b#tt#ste', '#ac#ifica#u#e', 'non#n#r#hi##l', 'kno#kho#', 'pi#dpipin#', '#oh#sl#v', 'ac#tiato#', 'b#u#el#ua', 'lauda##r', 'effu##e#ces', '#ssyr##n', 'b##ud', '#ibi#ze#s', 'oo#ak', '#v#rs#nsitiv#n#ss', 'per#sto##', '#yd#leine', '#i#i#mi#ded#ess', 'st#a##e#', 'twic###d####d', 'fla#k#rs', '#nfa#h#onabl#n###', 'sy#thetic', 'bu##on', '#ewal#', 'superi#s#i#u#i##', 'pa#a#hutin#', 's#g#m##', '#asingin', '#re##ls', '#r#onycho#de#ch#d', 'epi#aly#', '###le#tolog###lly', '#r#iums', 'd#p#oe##c', '#opp#s', 'n#ne##ti#na#', 'un#nt##onis##le', 'ektexi#e#', '#mokebrow#', '#e##ileflowe#ed', '##r#plasti#', 'diat##rmi#s', 'tri#zi#s', 'u###rmissi#l#', 'nan#', '#en#ng#o#a', 'p#rac##s', 'peta#oi#a#', 'bac#ra##ng', 'ba###ing', 'unj#a##us#d', 's#natas', 'p#och#o#ic', '#am#wor#er', 'scl#ro#ia', '#a####tocard#o#raph#c', 'j###uelyn', '#eig#', '#isbu##in#', 'c#yuc#', 'b#llowsm####', 'p#ppi#', 's#m##y', '#cut#tion', 'roq##la#r#s', 's##ppl#ng', 'jawf##t', '#ol#nome', 'sti#ning', 'da#wini###', '#e#faffri##ted', 'h#lfde#fened', '#ach#glo##ia', '#rch#nt', '#over#e##', '#mn#c', 'p#le#str##tu#', 'murfr##sb#r#', '#o#tae#ectro#eter', 'skep#ic##', 'co###minal', 'n#n#yric', 'pr#supp#si#i#ns', 'vulva#', 'wom#nw#ry', '##ampionin#', '#ib#ulee', 'd#r#a', 'j#hnnyj##p#p', 'ou#brib##', 'agon#s#ng', 'n#u#ophone', 'r#r#f#ct#v#', '#esop#i#', 'fullmin###', 'ho#oani#ald#hyd#', '#crubb#n#bru#h', 'amp##t#alm#', 'capo#', 'm#cphe#s#n', 'o#er#lue#tly', '##oco#ius', 't#rr#ing', '#ala#ians', '##b#la#ce', 'jeq##e', '#n#ngrav#n', 'k#yst#r', 'ha#kn#y##a#h', 'hex##ed#ph##ph#r##', 'd##iator#', 'a#ate#ents', 're#orti#y', '#ypna#e', '#antu', '#n#o#ially', '##rcere##e#', 'sao#', '#edge#e##', 'v#rn##ul#r', '#ccor##bl#', '#ong#ossessed', '#u#vog##ph', '#ictoriana', 'sa#oo#', 'inten#iona###', '#if#e#', 'a#e#ia', 'm#i#op', '#i#ku#', '#u#ndecag#n', 'huge#######i#ned', 'y#u##chi##e#', 'c#llo', 'togg#ri##', 'highbr##e#', 'bo#a#a', 'c##c#ding', 'alder#e#', 'god#n##ght#n#d', '##per##vely', '#hi#ke#i#g', '##mipik#', 'an#i#ra#i#ional', 'd#ss', '#ous#rs', 'syn##e#izing', 'h##s#lf', 'pa#le##a', 'ami#osu#pho#a#', 'el#ig#ers', '#han###ois##', '##mpl#ti##s', 'r##orm#d', 'vice#ecre#ar#', 'o##ranal#z#s', 'noble#indedl#', 'overhol#i##', 't#nt#titch', 'a##onan##', 'u#d##i#d', '#igh', 'f#s#i#', 's#c###j#', '#hathamit##', 'r#na#ay', '#aurura#', '#ell#rga#ise#', 'ti#k#ting', '#ud#e', '#r#h##a#hica##y', '#ra#n', 'a##en#ate', '#arfor#', 'myrt#e#ea#e#', 's#mi#las#h#m#usly', 'un###ter', 'a#t#prepared#e##', '#oi#s', 'd#n#c', 'b##k#tm#king', 'slu#lo#ds', 'ta#sail##', '#ns#rumen#a#e', '#asy', 'usur#a#ure', '#esmope#i#', 'b#i#hella', 'state#oom', '#s##rt#te', '#podei##i##l', 'a#ymp#oma#ic', 'non#nfe#t#ou#ne##', 'l#ads#ar', 'au#op#i#a#', 'r#ce#rass', '#ke#ne##', '#re#eats', 'p#datipa#tit#', '#arp#mania', 'ang##l#p#ma', 't#tm#n', 'nai#p#oof', 'mi#in#t#uction', 'b#gw#s#', 'mohro#en#ron', 'chr####etrically', 'count##insu###nt', '#r##rint', 'se#f#ha#ging', '#ellallie#', 'clo#', 'i#fi#itiv#s', 's##tiv#', 'ash#i', 'kob#', '#hee#ine##', '#lant#', 'gav#tte#', 'tetra##ralla', 'un#endi##eness', 's###sman', 'non#now#edge', 'i##luxio#', '#ult#se#se', '#mutte#', 'd#o#m#al', '##ghtc#nt##', '#o##a#anthini', '##nesh#', 'slat#ac#', 'b##fc#k#s', 'kloma#', 'c#llovi##', '#i#moidor#cto#tomy', 'topk#ck', 'es#ha##l##is#', '#ar#oc#a#i#', 'a#is#o#elia#', '#itoci#', '###cti#ns', 'enan#io#a##ia', 's#r#v#ngs', '##ightsbo#o', '##mice', 'p#ryg##n#ze', 'ill#s#ra#e#', 'une###mmun##ated', '##thest', 'u#ha#ch#d', 'illt#m##r#d', '#o#ec#ted', 'h#ptag###us', '#n#ep#lsivel#', '#eeva#uated', 'din#e#', 'o##glare#', 'serp#g#', '#prec#le', '#c#ocy##osis', 'l#mur#a', '#avan#ero', 'p##ropod#', '#hv', 'unp##s#dic', 'me#l', 'd#pp#ng', '#wi##r#sis##d', 'o##onenc#', 'pro##rpina#a', '#nant#omo#ph##m', 'c###ns', 'sesm#', 't##ll#bub', 'ja##in#', 's#the##andia', 'wrin##taff', '##fo#mal', 'fire#to#', '#ainf#ller', 'la##ha#a', '#ommutat#v#ty', '##ereas', '#hinebe##', 'buckr##', '###l#cally', 'r#c#d#s', '#imbe#j#c#', 'whipgr##ting', 'ce#eter#', '#i#po#ta', 'cance#ed', '#us', 'multim#mb##', 'm###i#ess', '#lip##ick', 'kill#uck', 'y#o', 'rep#ner', 'sli#gsme#', 'op#n#onat#dn#ss', 'part#r#', 'e#semen#', '#rich#oroace#ic', 'bal#on#', 'do#en#kos', 'p#nca#e', 'w#a#fme#', 'q#ere#cia', 'ste#to#o#sness', 'cac#epis#', 'lo#gim##ou#', 'ddpe#', 'bar##l#ng#', 'ru###ian', '#u##ed', 'sha#db###', 'ku#u#a', '#iachr##ica##y', 'b#ast#ul', '#t#pists', '#h#ugh#le##ly', 'an#imode#n', 'ha##cius', '#ri#bald', 's##cious', 'g#r', '#rokof#eff', '#ec#ed', 'a#i#s#ma', '#o##l##tro#i#', 's#p#oph#g##', 'bl#via##d', 'wo#fb#rr#', 'c#oaca#i#e', 'weedhoo#', '#wi#t#a#ented', '#udwen', 'ch##iz#n#is#', 'u#wr#t##g', 'antie#i#e#ti#', 'q#asii#trod#c#d', 'temp#r##e', 'c#li##roco#oi#al', 'variativ#', 'm#nilia#e###', 'mo##yro#k', 'di###ti#fie#', 'in##n#bili#y', 'i##r#glotti#', '##i#ish', 's##e#in#e#dation', '##defeas##ly', 'tut##n', '#red', 'an#h#opo#ox#n', 'ho##e#a#ter', 's#nskri#iz##ion', 'f#agiliti#s', '#ut###fo#diu#', '#em#rre#', '##oroti', '#li#kere#', 'm#t##st#lk', '#alaeolog##t', 'sal#gitt#r', 'vi##aki#', 'bio#ho#e', 'feene#', 'w##ld#ev#lvin#', 'm##sei#n', 'woot#n', '#u##ere', '#he#', 'aphi#ida#', '###n#lish', 'a#ti#omi#', 'bah###', 'l#t#tian', '#amm#d', 'upb#a#s', '#ndis##iminating', 'hipp##ryph', 'a##acy', 'civi#it#', 'phanta#t##al', '####in#bili#y', 'unb##r##h#d', 're#urb#shmen#', 'cr#mple', 'ti##er', '#a#bea#ing', 's##eenless', 'i#o#era#io#al', 'hear#s#c#nesses', '#alo#ticon', '#oc#ua', 'dem#se##nd', '#p#gons', 'epr#b#s#ide#', 'an#wis#', '#verabun#an#e#', 'ran##nesses', 'f##ggle', 'si#is#ro#yra##', 'v#n#doti#n', 'pol#glottic#ll#', 't#eogoni#', 'e#ga#oid', '#assapa', 'ph###ste#', 'aff#dat#on', 'w#i###e', '#ima#uba#', 'cul##nal', '#alami##us', 'w#llvi##aliz##', 'pe#a#y', 'v#s#os#met###', 'k#r#os', 't#e#o###agia', '#u##anel', '#dul##i#', 'bl####squ#ly', 'p#ead#e#en##y', 'hem#chr#ma##ps#a', '#n#e#emently', 'ces##acion#es', 'te###ng', 'e#gh#hly', 'c#octa#s', 'di#cri#e', 'po#de#a##ve', 'colporrh####', 'dipl#de#i#', '#ad#a#autian', 'irre#o#ab#e', '##pkn###ed', '##yca#ch#rs', 'f#e#e#ika', '#ncon##r#ing', '##binogion', '#ver#hafe#', 'micron#cl#a##', 'be#logge#', 'pr#tran#mit', 'windla###d', 'c#u#try##r#', 'd#put#s#d', '#on#ep#ioni##', 'f##shiest', '##ysico#ec#anica#', 'n#c###a##on', 'm##ro#iform', 'min#', 'chem#####hyla#i#', 'un#ycanthr#p#ze', 'who#e', 'raba##s', '#elle#ou#', 'jayp##', 'ectrot#c', '#hi#q#ed', 'ov##st#id#ntn#ss', 'c##r#ourg', 'wh#le#s', 'antsign#', 'collo#uial', '#alina#o', 'theri#e', '#a##exies', 'ste#hhe#m', '##inkie##', 'po#t#st', '####ntal', 'al#aqu#n', 'inks#on#', 'ma#ch##', 'te#le', '#tt#nu#nt', '#noxem##s', 'pre#rea#he', 'tono#a#', 's#dim#nt#r#', 'heaven#ie#t', 'v###lant', 'edeod##ia', 'win#s#oc#', 'ei#teddf#dau', '#reemi#e#tl#', 'nephe#i#e', 'am#rr##', '#ubacu##nat#on', 'ho##bea#', '#eg#eg#tion', 'polyt#ngst##', 'u#perm##e#cy', '#emap#ei#', 'cu#e#ie', '#etr#neur#a', 'se#ge#ake', 'ren#vat##ns', 'aga#h##les', '#o#walk', 's#n##nised', 'stam##ess', '#ensure', 's#lvifi#s', '##tio#in#to#y', 'str###le', 'ta#ia', 'pa#e##', 'e##ra#cede#yi##', 'muffi##', 'monoc##onic', 'cr#n#os#os#s', '##forma##o#', 'rad#a#t', 'n#ghtst#a##ng', 'l#ur#', 'de#a#ifi#a#io#', '##rt#ra#t', '##trac#da', '#mi#k#', 'six#l#', 'lag#ort', '#uette#', 'rose#angle', '#ir#flor#s', 'fair#s#', 'to##', 'p#r#scop#s', '#ei#te#ve#ed', 'tri#acna', '##po#itional', 'four#qu#rene##', 'st###le#ness', 'dei#nei##', '#e#m#ut#tion', '#gara', 'h#lch', '#l#ccipen#', '##b#n#dicti#n', 'compr####di#g', 'fo#s', 'c#bl#s', 'erot#zat#o#', 'splo###es', 'j#lt#d', '#s#r#b####', 'e#e', '#ier', 'c#r#ll', 'e##le#atici#e', '#acrop#ankton', '#c#lite', 'gi###sel#', 'tu#ty', 'l#ll#e', 'm#be', 'b##g#d', 'laco#ize#', '#alle#n', 'shr#wd##ss', 'non#ust#ousness', '##attle', '##feasa#ly', '#h##kie', 'de#d##nner', 'overe#tre#e', 'non#i##ur#ement', '#symbo##c##', 'j#ns#n', 'unf##k#d', 'unh#r##it#r#', 'isi#ai', '#o#cotyl#do##l', 'n##h#b#aic', 'c#e#ke#', 'sea#ani#e', 'zikku#a#s', 'piro##i', 'o##trog#n', '#arro#s', 'palmer####', 'egi#', 'os#tia#', 'ani#asti#a#', 'tetr##erou#', 'dear#en#c#ze', '#np###ble', 'bell#i#d', 'l#ct#ph##ph#te', 'a#tio#ogi#s', 'uncau#h#', 'cr#pp#er', 'knapsa#kin#', 'u#asp##ated', '#y#li#m', '#o#nti#e', 'f##iii', '#r#grammer#', 'ai#boat', '##mose', 'se#s#ri##t#r', '##akman', '#oue##', 'ou#rai#', 'd#r#o', 'e#nom#', 'o#nomanc#', '#nlowl#', 'lila##y', 'a#tomecha#ism', 'rave#a#a', '##om#ru#itis', 'f#u##a#ed', '#nas#ed', 'po#ieus', 'ha#fm#a#t', 't#eas##e#s#ip', '#n#layf#l', 'unper#p#r#st#c#ll#', 'ic#', '#ncr##it#', 'sc#p#c', '#readed', '#soci#s', 's#ruv##e', '#esynthes##es', 'f#v#r#tes', 'e#t#tle', '#en#tifie#', 't##o#omic', 'd##mp#as#z#d', '#u#p#pul##ing', 'de#a#ked', 'd#l#g#ting', '#itam##ic', 'c#ania#', 'mi#autho#i#in#', '#oilon', 'into#i##t#dn#ss', 'si#ila#iv#', 's#rr#pt', 'devi#hai#ed', '##ivoli', '#u#hetta', 'baw##tr#t', 'oxym#ri##i#', '#ailage', 'un#i#ibl#', '#h#rp', '##ur#ing', 'su##rgr#tifi##', 'alb#an', 'g#ntiliti#l', 'co###vers', 'piach#', 'minn##ing#r#', 'ha#a##te', 'mete#ri#tic', '##d#f##dabl#', '#opi', '##ensile', 'b#a#kbe##ie#', 'do#ume#t#', '#a#eu##cal', '#ine#', 'dilatin#', 's##ia#al', 's#pe##iciall#', 'u#attr#butably', 'mu##t#o##r', 'b#sw#ll#z#', 'face#ake#', '#oshes#', 'abs#h#', '#rigr#m', 'curri#d', 'sab##visag##', 'sidd#ar##a', '##r#nkl#ng#', 'pre###n#ti#n', 'abr#a#t', '##sem#race', 'ta#ukdar#', 'id##ised', 'cont#r#ation', 'z#ner#', 'h#sh', 'tintin#', 'e##ins', 't#cked', '#loat', 'f#uld#', '#armerly', 'tartra##de', '#a#eoc###ato#og#c', 'cr#w#maker', '####rmat#o#', 'agei##', '#emi##en#', '#ists', 'mi##o##p#od##tion', 'ci#cum###lla#', '##eston', '#ic#tyl###n', 'v#d#m#n#um', '#nsolidi#y', 'un#en#ion#b#ene##', 'a#ml#ssly', 'blac#lette#', 'st##dism', 'a##lifier', 'nonn##ig##ly', 'hu#e#tus', 'r##bif', 'm#sbes##w', 's#ros#opy', '#udw#rm', 'und#rs####m#n#', '#o#asc#rta##abl#', 'pla##en', 'r#intr##u##s', 'chrono#o#y', '#nher#e', 'tr#chy#t#roid', '#mpe#y', 'whi#ke#', '#riti#', 'twor##l', 'pol#mole#ul#r', 'gra#dadd#', 'm#r#tocrat#c', '#u#i#is#', '#ideism', 's##pp#sh', 's##ckh##m', '#en#no', 'mon#tomic', 'f#u#isti##lly', 't#i#o#al', 'in#i#o#en', 'l#st#d', 'c#nn#ti#n', 'c#a#eate#', 'swee###r#a#', 'disin#eg#i#y', 'peacepreac##n#', '#o#oonal', 'ow#', '##aguer', 'narco#', 'ath##us', 'an#hropol###', '#an#i#ry', '#i#eria', 'di#tr#in#bl#', 'pr#t#t', 'm#g#l', 'rot#tor##', 'fe#a#', '#aria#ine', 'bekn#wn', 'ple#p##', 'ant#j#ntacu#a#', '#lenu#', 'n####g#nsett', 'scor###', '#a#yta', '#i#son', '#onos###et##c', 'predeli#e#ti##', 'tri#ocu##t#', 'doh#rt#', 'b###skin', 'pate#tee#', '#amis#', 'palace#ard#', '#a##ur#meter', 'co#tu#e#', 'q#asio##a#ically', 'ai#line##', 'esze#c#a', '#u##rcl#lik#', 'spr##uev#lle', '##inf#ct', 'ro#s', '#e#va#tcy', 'berdi#he#', 'm#bbi#', 'c##swell', 'ca##ch#rtaceae', 'vivipari##', '###s##a#t', 'sc##c#m#rp#a', 'g##algia', '#mp#c#ll#n', 'ostr#e##e#', '#pe#w#rk', 'h#rr#som#', 'sch#sm###c#lly', 'su#ju#at#d', 'g#s#ril#g#us', 'p#yta#u#', 'almu##z#', '#ogm#at', 'non#ouri##', '#mp#rsua#abl#n#ss', 'twi#erui#e#', '##lle#g##nd#ng', 'un#i#iousn#ss', 'm#rg#tts', '#niform#r', '#r#anums', 'au#oc#acy', 'f#l#r##', 'p##isse', 'fc#', 'da#yu#u#', 'b#g#rd', 'ami#oazob##z###', 'etr#', 'becl#ud', 'ne#at##hyt#n', 'tr#mbas#', 'te##eco', 'f#e#yf##il', 'b#x#s', '#oa#s', 'j#r##ian', '##bjack', 'a#id#n', '#u##le', 's##td#um', 'sk#rm#sh###', '#rut#ng', 'lo#kwoo#', 'ao#angi', 'be#utysh#p', 'y#ll##h#ir#d', 'ladys#i#', '#assade', '#arrulu#', '#h#llowfoote#', 'ne#o', 'w#ais#', 'ob##rva##on#', 'eye#erv#ce', '#o#co##u#ive', 'ni#ht#a#', 'frontispi##ing', '#ibe#', '#pelle#', '##itose', 'roo#ie#t', 'hideosi##', '#cragg#i#e##', '#iar', 'pl#ti#ize#', '##ndweed', 'im#ro#i#e', 'visio#iz#', 'polk#i##', '#ome#cla#ural', 'ca#ricci#s', '#orth#ester#er', 'c#rroll#', 'w##dy#te##ed', '###icera', 'm##ci#no', '#cce', 'fl#fla#', '#ou##lka', 'cycl#z#ng', '#o##i#g', 'dr#nma##', '#o#e##gr#mm#t#c###y', 'fluoalu####c', 'lull#', 'poig#e#', '#n#waying', 'ce#a#th#us', 'mol#', 'h##rotropic', '#hi##her', '#ee#ees', 'con#eyorizin#', 'rot#bur#', 's#cr#ts#r#ic#', 'po#y#oda#', '#akyr', 'sc#nc#', '#te#og##thi#', '#hod', '#r#fflesq#e', 'a#ul###a#ion', 's##nnish', 'octoc##t##ary', 'nie#en', 'wa##lik#', '##e#lace', '#chee', 'unvi#ar', '##per#p#erical', 'clep#ydr##', 'am#ric#s', 'jo#e#n', '#ntr#gono#etr###lly', 'p#ateway', 'e##rapa#riarc#a#', 'wis##ring#r', 'atr##hal', '##u#t#rm#v#d', 'du#a#ly', '#inig#ant', 'd#il#', 'b#p#ridi#n', 'm###il', '#en#r##atinae', 'hi#l#y', '#iv#gait##', 'trav#l#r#tr##', '#mid##ing', '#nvo#ch#d##', 'reox##enate', 'ba#ard#', 'b#gulf', 'frig#fac#', '#pp#ob#tio#', '#l#ern#p#nn##e', '#elotr#', 'ast#o#', '##erblamed', 'nic#elle#', 'd#u##ro#okou#', 're#istributi#e', 'c#v#l#s#t#o##l', 'sa###ll', 'br#t#', 'fo#ci#e', '##lwell', '#outh#ow#', 'th#r#u#hfe#t', 'ite##pa#ity', 'ba##mone#', 's##ialisin#', 'c##pt#r##us#', 'i#eri#e', '#ef##rescence', 'mi#to#ism', '#te#igm#', 'u#i##ize#s', '#et#erio', 'wit#h#ells', 'a#a#eida#', 'un#er#an#', 's##s#it', 'dovet###s', 'en#mo##s', 'uncur##', '#osome#', '#u#oscop#', 'stiffgr#w#', 'co#cr#ti##', 'ho#eys#u#ker', 'b#g#tt##', '#re#e#toral', '#oftblo##n#', 'co#ab#t#n#', 'car#', '###irm#ti#e', '#yc#stat#c', 'ch#l', '#a#gay', '##ubster', 'arch#i#c#', 'over##rni#he#', 're#ccre#ite#', 'q#asiinn##en#', 'smus#', '#o#erencircle#', 'n#nappeas#n#', 'conn#m#r#', 'borg##', 'g##dy', 'u#pur#', '#osto#er#t##ely', 'c#ne#s', '#ea#o#', 'nomothete#', 'gol#br###e#', '#e#ledly', '##fattabl#', 'in##r#branc#iat#', '#e#neraceae', '##w#r#ungry', 'ca#p#deid', 'exh#b##or', 'my#l##og###t##', 'ge#era#le', 's#r#i#h#er', 'o#tsco#t', '#e##twood', 'ov##c#owd#dl#', '#seud###ral', 'un#o###ery', 's###l#ards', 'pro#o#atio#', 'ni##hau', 's#lph##m#de', 'sl##pyl##ki##', 'b#oo##isco#ore#', '#innamon#d', '#loisonnis#', '###tract#ng#y', '#ar#ine#', 'ba###r', 'a##ed#ct', 'p#otop#ilosop#ic', 's#an#', '#oli#ita#t', '#onvol#ted', '##e##sa#van#ageousl#', 'm#untaine#', '##nede##', '#npk', '#re#ch#ise', 'unpr#t#nti#u#n###', 'm##ro##op##al', '##cock', 'trans###yan', 're#d#coi#ed', 'th#r#ti#', 'egg#he###', '#ell#emmed', 'u#de##co#e#', 'pe#g##ic', 'ya#kee#oo##e', '###e###m#l#gic', '#ult#fol#olate', 'parur#s', '#ord#r#r', 'p##n#d', 't#wi#', '#o#ndfevered', 'd#co#ou#n###', 'r##tm#a#s#uar#', 'pa#cilo###', 'co#e#or#', 'oce##ogr#p#er', '#evilkin#', '#eo#aeal', 's##sset', '#o##nawn', 'slu#be#s', 'do#', 'a##ipho#y', '#rois', '#r#ic####enesses', 'pr#cipi#a#i#n', '#ativi#t', 'man##', 'pu#gl#', 'in#eo##ment', 't#ite', 'loq#ac###es', '#rrata', 'perd#t##n', 'i###rrup#or', 's#i#elli#g', '#h#rled', '##stator#l#', 'n#nfactiti###ne##', 'hieroph#n#icly', 'c#rnu#l', 'para#i#ica#', 'in#r#sses', 'pun##ured', 'hab#tua###', 's#arpeare#', '##tative', '#t#nidia', '#i#elle', '#u#ri#io#', 'stov##ood', 'decolou#iz#tio#', 'we#ge#orme#', 'ra#e#is#s', 'bund##is#', 'homo#omorph#', 'y#u#h##me', 'l#vedo', 'ono#atopoe#a#', 'f#at#o#ne#', 'ma#e#an', 'se#tar#an#s#n#', '#an##ti#al', 'un#aus#ng', 'pr#r#cit#', '#n#cro#yn##', 'rak#', '##stor', 't##r#oscop#', 'exs#ul#tate', 'sw##s#', '##lf##amination', 'antira#iation', '##k#ma', 'un#ecre##vene##', 'p#ng#ns', '#ndot#opi#', '#e#ana', '##nnamene', 'r##om#li##tion', 'un#er#urbing', 'appar##s', '#t#ler', 'a#a#ga#ating', '#lith#idiat#', 'acut#l###uae', '###d#rs', 'pomph#s', '#sie', 'j#suit#crac#', 'ultr##ont#n#st', 'pi#kt#a#kl#', 'b#a#ema##ng', 'po#y##res#i#a#', 'w#yw#r#en', 'd#priv#', 'v#gn#ron#', '#on#re#at#on', '#ismiss#r', 'dp#i', '##edgew#th', '#a#taba#k', 'w#s##ck#', 'juridi#u#', 'arch#nt#r#n', 'streake#ba#k', '#a#ing', '#ame#po#t', '##sul', 'epi#e#tre', 'tellu#ize', 'over#i#', 'v#n##r##om#ly', 'adm#nstrat##ns', 'all##u#ishi#g', '#o#il', 'sch#ing', 'e#bry##c#pe', 'overhuma###ed', 'pipi#r', 'rhaps#dies', 'no#thall##ton', 's#rvi##abi#it#', 'coe#bedded', 'st#n#ts#', 'supe###ce', '##sso#e#sian', 'pin##in', 'obje#t#v#ty', '##eeds', '#ay#d', 'aut#', '#erigr##h', 'canqua###ng', 'benzotri#l#oride', '#red###o##t#on#', 'te##er#ootish', 'ta#te#', 'p#ntt#p', 'all#ea#i#g#ess', 'goldroll##g', 'b#ll#', 'mo###ll', '#ti#itarianiz#', 'ro##i##ville', '#nott#ry', 'preco####io#', 'ur#uk', 'non#ond#ro#s', 'as#i#u#ous', '#yr#o#r#ch#a', 'ta#n', 'ar##ri#capillary', 'pe##od#ds', 'e#t##c##di#l', '#og#s', '#chol###t', 'basse#erre', 'sel#c##tract###', 'songf#s#s', 'harbor#ar#', 'dra#eress', 'atte#t#o#gett##g', 'ha###orgiv##', 'cycl#cal#ty', 'i###ao#di#a#y', 'r#vi#', 'al#alinised', 'g#l##no', 'foo#fu#', '###lary#g#l#gical', 'ous##s', 'm###c#ton', 'b##r#v#ls', '#anid#', 'f#a#som#', 'coal#n#', 'emana#iona#', 'mo#e##e', 'comm#nut##', 'l#v##s', 'x#nophor##a#', '#a#d#ge#t#on', '#illia#', 'u##ivabi#it#', '#nc###ve', 'ov#rr#ac##r#', 'nonp#otogr#p#ic##', 'e##oneousness', 'n#n#d#r#nt#s', '#e#uke', 'reappla##', '#ub#ta#tivit#', 'na#t', 'p#ny#n', 'emp#s#', 'ma##yan', 'mu##ned', 'p#nwh##l', 'a#t#s', '#heere##', 's#ine#ea#', 'glu#n#', '##ynosa', 't###ah#', 'li#ody#tro#hi#', 'tara#a', '#ear', '#gnet#', '#ata#ia', 'd##parat#m', '#n#epar#ableness', 'f#nt##gu#', 'u#crudel#', 'pithe#', 'u#brood###', '##cupl#', '#upp', 'a#ram#o', 'broo##er', 'x##t#osis', 'bar#ai#hu##i##', 'f#s#i#l', 'u#roa#e#', 'gay##l#re#', 'selfpa#per#n#', '##syt#rvy', '#crewp#ate', '##lfm#tiv#', 'w##he#m#tra##e', 'l##e#lower', 'f###raye#', 'l#y#bur#', 'di##sid#', 'ba#b#t', '#y#ot#es#', 'z##uck', '#rass', '#on##ollabili##', 'cheer#u#', 'a###nd', 'hy##z#an', 'hem#p##sm', '#i#physic#ch#mic#l', '#pp##i#ifl#r#u#', 'awf#', '##ra##erlike', 'non##s#n#enuous#y', '##y#to#y##ole', 'bewh#te#', 'v#r#osity', 'ma#ra', 'r#us', 'o#coi#', 'u##mic##le', 'a#ini#', '#end#', 'al##n#c', 's#de##ard', 'un#c#m#ed', 'kochl#ar#o#', '###ter', '#ltrafidia#i##', 'anch#m#n#m#n#ral', 'premini##r#', '#anz#', 'm#lda##an', '#arlo#s', '#ilettantes', 'hi#d#r', 'shiftl#ss', '#ia#tal#i#', 'ove#es#ima#ed', 't#thef#ee', '#le#ro#ra#hia', 's##n#n#wn', '#emune#atin#', '#m#ck#', 'inaccuraci##', 'u##ti#ti#gl#', 'p##icst###e#', 'non##n#r#ally', '#o#co#t###tibl###ss', 'my#o#in', '#h#o#opsia', 'co##nidad', 'b#o#dloom', 'lan##da#', 'pos###ssive', '#uxocyt#', 'p##sk#n', '#olbl#tz#ll', 'aperie###', '#un#ack', '##uqu#er#aceae', 'ant#eu#ope', 'di##stif', '#e#tlem##depe#de#t', '#nev###ble', 's####ract#cal', '#udr#', 'mist#uk', 'm#e#ster', 'sup#r#nd#rs#d', '#ibidin#u##y', '#utgall#p', 'jov#t#', 'deceph###ze', 'wi#sey#i##e', '#ac#aga', '#e#olding', 'poss#ssiv#l#', 'chi##ris', 's#####ulturall#', 'i#ma#es', 'su#er###ze', 're#egment', 'bullf##h#', '#rant#', '#allcolumn#d', 'g#rd###d', '#hale#c#an', '#oll#rd', '#emi#oli#', 'f#r#ix', 's#xrow#d', 'gono#o##o###', '##tro#b#ed#y', 'prost##n##', 'st#ato#yti#', 'su#e##onvenient', 'uns#n#tified#y', 'e#rodo##ar', 'g#a#ho#ania#al', '#cr#ptor#um', '#q', 'co#opo', 'sympa##omim##ic', 'la#yk#ll#ng', 'shmoo#ed', '#pla####olit#', 'int#ot#o#acic', 'uncasca###', 'r#kish#ess', 'psy##olog#an', 'sa##rnis#', 'leio#ri#hes', 's##ww#rms', '##cr#m#nt##', 't#an#m#thy#ation', 'r#mo##ls', 'p##l#ngic', 'non#u#hon#ous', 'phon#v###on', 'l#p#ro#hor#coscop#', 'reb#ys', 'p#e#e#to#ian', 'hi#h##lled', '#r##dian', 't#e#ap#tant', '#nsat#n', 'h#miam#', 'b##tco#ditio##d', 'sc#or#rock', 'v#n#lik#', '#parr#gra##', 'lutt#', 'turb##', 'ri#hthand#dn#ss', 'wol##n', 'be#gh#zi', 'r#disburs#', 'sh#th', 'out#aile#', '#p#n#pac#dn###', 'u#gue#t#r#um', 'unobumbra#e#', 'c#ocia#y', 'p##adapts', '#if#siz#d', '#ana#ela', '#c#i#m#tize#', '#e#i##oradicular', 'r#mal', 'fringef##t', '#over##g', 'em#ed', '#lth#ng', 'v##t#aller', 'ha##b#ain', 'die#a#ing', 'pos##ysen#eric', 'sel#co#ve#se', 'asq##al', 'oh#', 's#le#s', 'unin#uc#e#', '##f#pro#ong#ng', 'xenog#mou#', 'in#e##adial', '#urv#r', '#eaf##ls', 'oc#oh#dra#', 'g#esses', '##nidic', 'une##e##led', 'wellg#ow#', '#luo#i#ate#', 'd#t#b#s#s', 'num##ato#s', 'pro#ptor#u#', 'pre##x#on', 'fe###ng', '#s#uag#s', 's#lu', 'c#st##l#one', 'af#ica#izi##', 'appe##e#', 'y#ara', '##lke##a#daled', 'bar#ston#', 'unb#ll#d', 'co#pl#via', 'ree#cl#sure', 'philo#y##i#', '##rvey', 'reek#', '#u#o#r#plo#d', '#ala#b#ur', '#o#abso#b##g', 'hypocori##ica##y', '#qual#', 'repri#an#in#', 'in#o#p#e#ending', 'un##p#o#ab##', 'chiselle#', 'ma#po#e', 'en#ap#u#e#', 's#a#eou#', '#i#ril', 'kin#b#l#', 'ba#ka##te', '#fi#z#er', 'b##tus', 'moto#i#g#', 'sw#ng#ngl#', 'abov##rou#d', 'algua#il', '#ast##rt##astwardly', 'ota#ioi#', 'e##heath', 'db#', 'casson##a', '#n#his#le', 'sem#ce#est###', 'qu##ote', 'uru#ur#n#', 's#c#l#rists', 'u##ertigi##us', 'l#c#ie', 'sequo#a', 'pb#', 'hi#h#unne#', 'm##e#al#ze#', 'ch#nch##r', 's#mi##r#ious', '#limates', '#itin#ness', 'rewira##e', 'b####ville', 'si#nific#to##', '#edo#a#tis#', 't#ade#', '###c#mpl#a#c#s', 'in#icans', '##arforc##', 'ad##ous', 'rebarbariza#io#', 'l#ct##o#ous', '#rout#te', '##king#', 'y#wh#w', 'desse#ts', 'ic#t#y#', 'we#z#nd#', 'm#s#alle#', '#al#i#lase', 'k#r##nch#m#', '#ea#elled', 'r#sc##ism', '#rows#oot', 'sabell##ae', 's#ri#gfi#ld', 'a##ellu#', 'co#hu#l#', 'arb#ra#', 'g#a##l#oot', 'pre##c#rp#r#t##g', '#al##zych', 'qua##er', 'arm#ea#e#', 'fl#s', '#napp###iation', 'cam#r#n#', '#at##faced', 't#lidin', 'ou#s##yed', 'p#s#rods', '##mmino#t', '#eor#', 'u##i', 'ti#etab#e', 'sm#llsh#ll#d', '#erbi#s', '#cho##', '#o#theo#etic##', 'con#erti##', 'outlo##', '##lgjur', 'pri#s#ridd#n', 'r#adv#ca##', '#rut#h', 'fauvis#', '#evoir', '##rth', 'nond#spara##n#', '#rrepara#le', 'p#stin#ly', 'app#nd#x#d', 'c#pn#i#es', 'pl#t#nistid##', 'p#lytype#', 'mi##i#po#e', 'c##og#aph#', '#ronl##e', '###ertors', '#tomology', '#o##ingling', 'boxin##', 'cork#sh', 'crea###n#s##c', 'be#a#pet', 'an##c#ll', '#tt#l', 'propi#ia#or#', 'm#rm#s', '#o#u#ous#y', '#ir#u##tan#e#', '#ump', '#athari#a', '##nitie#', 'fi##e', 'st#rmt#d#', 'cr#n#g#', 'cr#y#et', 'flaminiu#', 've##eman', '#p#arwood', 'c#l#ndr#c#lness', 's###t##art#d', 'cu#i#ec##r', 'dull#', 'scu##er#ng', '#epat#ente##c', 'auto#o#ato##o#tic', '#em#to#y#nin', 'tet#oni#', 'an#hoca##ou#', '#il#t#res', 'goodby#', 'g#edo#n', '#e#hape', 'helme##o#', 's#a#ound', '#if#tob#', 'gooc#l##d', '#verl#y', 'un#isc#ura#e#', '#tu#kie', '#n#en##ons', '#c###hoga#t##a', '#r#d#n#al', 'ma##ora', '#iscoca##ium', 'meta###s', '#a##derabi#it#', 'm###h#rn', 'une#pe##ed', '#andgave#', 'world#ardon#d', '#r#m#tr#p#c', '#anah#im', '#ltrae#gli##', 'o#o#oi', 'pau##n#t#', 'c#g#vern#ent', 'hoo#e', 'pre##ere', 'disposs#ssin#', 'd##ert##ement', '#pr#sh', 'f#llfr#i#ht#d', 'sadomaso#his#s', '#a#kligh#', 'za#tew##d', 'ex#en#e#', '#ishi#st', '#at#rfo###r', 'sphaero#a', '#un#ish', 'sweetf#sh', 'g#d#on#t#', '#llegi#n#e', '#isr#sp##t', 'ple#', 'c#oths#oothi##', 'bubu##e', 'eo##', 'ero#oge#eses', 's#lf#ir##ti#g', '#we#tt', 'c#h##ated', '#e#milio#', 'qu##ts', 'and#o#ono##ious', '#hudde#y', 'su##ris#s', 'seques#ru#s', 'neura##hen#a#', 'unvo#up#uous#y', 'e#bar#e', 'pr#p##e#t', '#eake#', 'amb#y#p#c', 'co#rcion#', 's#op#sid#d', 'h#n#pepe', 'oo#og#ca##y', 'pror###ar#h', 'r##lica#ions', '#p#cialiti##', 's#iket##th', 'bolboxal#s', 'f#r###ys', 'k#not#on', '##qu#ra##e', 'sup#rso##', 'om#i#criptive', '##ublebe##e#', 'xur##', 't#lzey', 'synony#', 'co#f#te#t', 'n#d#f#e#', 'rin##in#er', 'soa##o#ler', 'g##ynesses', '#l##i#gout', '#rm#uls', '#heav#n#', 'centr##ug#l#z#t#on', 'g#ntl#m#np#ns##n#rs', 'alca#e#t#', '##total', '#ordai#a#eae', 'fall##deer', '#np#edi##edness', 'pom#ri#e', 'exmi#i#te#', 'meten#ep###on', '##d#th#li##as', 'bump###ly', '#ste#isked', 'ex#o#t#t#vely', 'uncont###lat#d', 'e#ce#tant', 'un#e#selled', 'ms#', 'ar#hpr###nd#r', 'cr#wsi#k', 'h##dc#ushed', 'tenta#u#a', 'henya##', '#ik#daa#de#', '#an#ban#', 'impingemen#', 'cos#osu#e#io#', 'whit#t#sk#d', '#u#oph##i#', '#e##ral', 'p##g#o#gi#n', '#olypolin###', '#ric##ar#d', 'bo#r', '##cyst', '#haro', '##poc#lo##mic', '#on#er#', '#ncrustin#', 'selfe##lai#i##', 'du#e#', '#igly#h', '#oxia#', '##mpyo', '#ne#t#al', 'c#clo#ama#', 'man#a', 'pol##i##ble', 'o#tti#es', 'd#vi##', 'u#co##assio#at#', 'cope#', '#n#erm#x#', 'pos#vacc#na#', '#luggi#hn#####', 'fran#i##u#', 's#mbo###er', 'straig#tfro#t', '#l#w#ffs', 'a#o#mi#m', 'un#ust#ng', 'o#giasm', 'au#odeco#po####on', 's###l#dly', '##ypto#r##k', 'g#aeci#e', 'a#t#stadholde#', 'g#undel', 'c##bon#ess', 'ba#f#d', 'i#efficie#tl#', 'yu#i', 'p#g#n#p', 'c##n#ine', 'anag#amme#', '#inny', '####ad#cably', 'uns##n##rd#zed', 'rattra##', 'incontaminat#n###', 'c#bler', 'pr#t#cerebra#', '##zenage', 'fro##o#', 'agi#a#le', 'tooth#xtract###', 'p#eio#e#y', '#arnes#ille', 'j##ind#', 'n##en#lat#r', 'r##ime##arily', 'a##aye', 'noo##opi#', 'p#l#p#re', 'e#a#ors', '#e#dc#p', 'd##ry#hel##sis', '##tt#rhorn', 'all###v#ntin#', 'u##oetica#', 'carry#ng#', 'misspo###', 'fu#', 'eq#i#o#al', 'illju##in#', 'b#agg#', 'sy#alep#e', 'tirad#', 'gr##itic#l', '##act#cal#ze#', 'p#ludicole', 'h#pota#sal', '#utodestruct#o#', 'encar#ium', 's##sign', '#olli#ia', 'do##y', 'dem#t#ologi#ation', '##r#ardnesses', 'y#l##r', 'semiso#i#ia#', '#co#uli##d##', 'centav#', '#n#ppre#ens#ble', '#at#oc#rom#', '#i#p#oofed', 'woo##at', '#n#phere', 'p#iloxy#e#ous', 'bawa#ch#', 'so#p#i#g', '##ssend', 'exco###nic##or', 'epiphe###e##lis#', 'sc#r#ful##ss', 'enda#e#', '#cu##du##ery', 'hu#', 'str#tifi#s', 'gripp#ene##', '#a#kah', 'in#on#r', 'ecbl#s#ps#s', 'i#esc#le##', 'g#ldb#ick', 'vi#g#la', 'wa#p#', 'ni#h#fish', '##t#n#iv#ly', '#yp#rs#nsi#ivi#y', 'na#coman#a', 'm#s#n#hyma', 'joul#an', '#amarisks', 'p#es#ges', 'bro#nou##', 'congeni#li#ies', '#usul#s', 'non#l#wed', 'ca##e#i', 'sp#r#le', 'archi#au##', 'prec##diti##ed', '#a#ered', 'nonren#ncia#ion', '#su', '#ania', '##atfalls', '##spr#ze#', 'ho#ini#ht', '#hitlash', '##lfully', 'pi#kl#r', '#u#ra##m#oral', 'n#y#u#', 'welle##ipped', 'purs###ar#r', '#r#p#omero#s', 's#ackf##', 'm#nno#us', '#ee#flewe#', '##ntac#', 'pe###nt#ie#', 'nonhec##c', 'bl#wlamp', 'y#ll#wn#ss', '#nen#i#ted', '#umfou##i#g', 'pe#ezone', '#oul#st', 'p#enotifie#', 'h#ring', '#tercu#i#', '#in#s', 's#bcard#na#', '##doct#i#ed', '#n##ecto##h##', 'four##m#ns#ona#', 'sou#s#oo#', '#o#sta##ar#', 'ol#g#em##', 'n#kh##te', '##y#li#', 'a#n#sary', '#o#heur', 'f#l#g#a#ned', '###es#cked', '##i#itiveness', 'zo#o', 'chor#', 'a##a#oids', 'subc#n#unc#iva#', 'lute#us', '#hic#foo#e#', 'q#v#u#', 's#rr#wbre#t#in#', 'stiki#e', 'po###ra', 'pe#itone#lize#', 're#uire#', '##wi##le', 'is#cr#cy', 'w#nd', 'non#c#i#tu#al', 'a#dwin', 'j##di#ie#es', 'o##ochoa#', '##vilion', 'doli#ie', 'in#urnt', 'peli##i', '#ubbe#i#ed', '#opeep', 'm##iatrix##', 'e##ept#on#l#ty', 'cal#g###usl#', 'phleb###e##ec##s##', '#la#es', '#a##iti#', 'upf#u#g', 'non#mp#thi#', 'a##ico#ve##io#al', 'odoo#', 'o##hoc##a#i#ic', 'p#e#a#iona#', 'p#oin##st#ial', 'pi#swi##', 'an##rin', '##rw#n', 'di#u#ing', 'coraco#rocoracoi#', 'hae#o##anin', 'm##derelle', '#p#rtm##ing', 'inconfu##dly', 'p#yll##yst', '#li#ht#ir#', 'un#basal', '#v##tratio#', '#ucke#', '#soros##rmosis', 'mo##le#', 'r#ms', 'ar##erf#s#es', 'proette#', '#ance#r##f', 're#ren#', 'dund##funk', 'vind#y#n', '##tterel', '#og#ire#', '##lobios', 't##ogamy', 'add#e###ng', '#rs##id#n', 'm##so#', 'post#a#iation', 'tw#gg#r', '##ns#ipa#i#n', 'janissa##', 'n#phr##yphus', 'sa#k#', 'dir#fu#', 'e#pund##', 'b##vu##s', 'seaserpe##', '#ns#gn#f#ca##v#', '#n#cker', 'pi##svill#', '#symp#o#ic###y', '#ucr#z#a', '#pun#', 'a#gloame##ca', 'kan##an', '#r#misi#g', '#apo#eo#', 't#p#l', '#co#ola', 'budd##m#n', 's#ulfull#', 'ra###ph#n#c', '#ment##s', '#ar#o', 'bellemin#', 'ea#e#drop', 'am###usnesses', 't##tim#nializ##', '#avo#e#', 'bu#l##rk', 'coho#', '#ushe#', 'm###str#t#c#l', '#ov#nt', 'fox##ip', 'esc#tellate', 'illusi#le', '#nc#ea#ed', 'on#ogram', 'nie#e', '#ioletg#een', 'ta#ie#a', 'r#valu#s', 's#s', '#agor#', 'b##ing', 'perr#q#et', '#ru#i##ell#', 'ogle##', 's#x#y', 'w##n#leless', 'malacode#m#dae', 'lo#s', 'p#ntan#s', 'u##t#s', '##swerer', 'o#ellin', 'we##p#um#ged', 'o#e#dig#ifyi#g', 'h##eras#is#', 'nee##ness', '#i#wheel', '#a#a', 'g#s##rad', '#e#smi#', '##e#medi#ating', 'sca##a', 'admiss##y', '##e#b#ij#nese', '#ie#r#', 'caboch##', '#onc#', '#m#elled', 'ro#o', '#cr', 'mu#t##o#uent', 'su##raff#u##c#', 'd#p#om#', 'bro##ur#te', '#h#meless', 'mi##x##icat#', 's#andin', 'etk#', '#d#urd', 'p#j#r#sm', 'sa#s', 'femini#m', 'f#v##s#itt#n', 'bot#yo#te#is', 'le#t#erw#rk', '##perreveren#ial', 'p#eco##ecto#', 'go#go#eum', 'epagog##', '##r#mylum', '#cor#er', 'un##rcar###', 'nitrob#n#o#', 'min##ick', '##mmuni#ati#n', 'ta##sman', 'cama#a', 'thu##e##to#m#', 'c#ris#i#niz#', 'ureter#t##', '#r#d##rnal', 'para#epsis', 'g##te#ike', 'unk#nn##', '#e#ty', '#i##alue', 'os#eody#i#', 'mi#d#id', '##itti#g', '#i#d#sta#i', '#rack#ngs', 'gy#a#d#a#c#ic', 'coha##tat#on', 'chinn#', '##co#teuses', 'e##nguin', '#r##anop#', 'o#no#an#a', '##ders#irts', 'tene#ente#', 'w#itewas#es', 'p#r#de#t##', 'embe##le#', 'pap##n', '#wi#ills', '#oette', 'u#der#a#e', '#o#s#i##tious##ss', 'i#fi#it#simalism', 'v###ro', 's#and#nav#a', 'e##me#a#io#s', '#ecubant', 'comp#ace#ce', 'i#co#pr#h##sio#', '#ar##ned', 'o#a#ia', '#ill##ed', '#akhali#', 'p#p', '#urre#et', '##shopl##g', '#y#r#s', 'krau#wee#', 'i#aq', '#npr#dentia###', 'casa#as', '#nh#pnot#s#n#', 'tr#ns#err#ble', 'sel#evi#e#ce', 're#al#ess', 'phyll#pt##yx', '#ls##h#r#s', 'bel##tes', 'phi##nth#opi#e', 'm#zzom#zzo', 'orchichor##', 'sch###g##ng', '#n#evo##ing', 's#b#pi##otta#', 'c#nserv###r', 'wall#oard', '#hrysa##ne', '#ono#ia', 'u#pro#ess#o##l#sm', 'unab##n#ss', 'tedes##e', 'g##', 'reor###izes', 't##ked', 'cor##ar#an', 'll#', '#r#w#ati##', 'wom#ni#e#', 'in##cund', 'bef#l#ed', '#alismans', '#igu#in', 'ta#ey', '#re##k##ic', 'o##nm#rk#t', '##gui##m#nts', '#age#a', 'ri#e', '#gy#ti#ni##tion', '#ltrager#a#', '#is##tor', '#aruspi#y', 'inth#w###', 'dogar###a', '#oug##ness', 'p##ty', 'bl#sto#h#l#', 't#iodo#te#', '#nox#d##ed', 'va#ori#ed', 'gate###d', '#neatab#e', 'meso#er#o##c', 'a#ip#c#te', 't#rist', 'grayton##', 'eryt#ro#yl#ce#e', 're#a#', 'u#foul#d', 'ex#ect#ncies', 'unele###i##lly', 'mor#n#ce#e', '#urid##', '#in#men', 'k#ni#', 'wai#tband', '#yri#oxa#ine', 'ca#ri#o#iaceae', 'seraben#', 'debi#e', 'fe#vesce#ce', 'carbo#', '#b#c#scus', 'th#az#de#', 'q#i#kste#s', 'supe##ud###al', 'oakmo##', 'p###ch#t#m#u#', '#np#l#er#ze', 'ge##tos', '#hreneticness', 'ele##roen#os#ose', 'a#tiau#i#', 'jin##ed', 'e#do#hleb#t#s', 'k#dd#s', 'e#thro#e#e#ts', '#o#terior', 'phr#n#', 'i#e#andian', '#li#it', '#illiane##e#', 'pa#ae#there', 'co##u#ls', 'mi#h#mi#ity', 'pharyng#a####d', 'ba##xy##n', 'pect#n#te#', '#i#echappe#', 'wa#wo#ks', 'do#foot', 'appa###ng', '#elo#se', '#loopm#n', '#oa#spo##e#', 'xe#oc#a#ic', 'qi#t#r', 'f#abber#a#t', 'h#b#to#y', 'cum#lutt#r', 'bac#w#nd', '##asik#ow#ed#eab#y', 'q#a#i#e#pect##lly', '#urita##', 'gibb#r###in', 'p#ofa##lt#', 'sq##mipinnes', 'horsec#r#', 'fl#r#nc#', 'pl#ssl', '#rg#nic#ln###', 'pe#oso#us', 'latt#rday', 'h#l#p#y#h#us', 'woo##kin', 'par##am#ntar#an', 'u#w', 'qua#og', 'pol#s#ma#t#c', '#tup#fi##', 'a#oa#dage', 'd##ant', '##uld', 'in#loq##nt', 'v#n#tt#', 'c#ianc#', '##r#thee', '##lfdom', 'oa#u', 'jus#i#o', '#iste##ian', 'b#igh###ced', '#o##a', 'rhino#hec#', '#hickf###ked', 'g#m#asi#ms', '#arryn', 'a#ima#ia', '#s#erixis', 'r#gh#s', 'pow##rpu##', 's#utei##', '#onnu#iali#y', 'rebe##', 'a##llan#', 'a#i#e', 's#be#li#e', '#leec#om#', '#w#ce#mpo#e#', 'slip##n#', 'noninju#iously', 'church#ul', 'do#s#med#an', 'h#ne', 'h##f#rist#te#i##', 'mille#is#', 'pa#tihos#', 'gl#t#thion#', 'moo#y', '#o#ve#ball#', 'ti#i#lis', '#e#ussis', 'du#ci##ne', '#arig#nin', 'hot#r#w', 't##rst#n', '#roten##ve#y', 'b#n#it#', 'pupip##ous', '#ate#otem#o#a#', 'b##agg#r##', '#ri#one##', '#rant#', 'v##m####gist', 's##llag#', 'jou##', '##cg#iness', 'obl##ion#l', 'e#d#ather', 'u#gr#i#e#', 'dola###fo#m', 'de#le#ted', 'bear#e#', 'si#ic#tes', '##otogenou#', '#sco##orous', 'st#ob#s', 'friz####', '##ixey', 'do##on', 'f#yly', 'we##fraug##', 'r##olish#d', 'cete#a', 'vin#ne#ess', '#nenkind#ed', 'phi#o#e#', 'e#gar#', '#ap#g##', 'amara#t#i##', 'lh#sp#tal', 'i#bib#d', '#o#ne##pine', 't#ar', '#a#rra#ser', '#ol##en#t#yn', '#adra', '#anhyste#ect#my', '#om#lly', 'r#co#cili##', 'sti#le#', '##sonanc#s', 'p#r#upi#ish', '##m#lovol#ano', '#ar#fu##ess', 'co#c#ospi#al', 's#eat#less', 'o#is#hob#an#h', 'u#d#rsc#r#', 'lar##b#di#d', '#avvi##t', 'ms#m#t', 's#lf#nfl#ct##', 'b###erc###ing', 'ny##rg', '#ree#an#e#ly', '#ve#b#tte#ly', '#g', '####l#ia', '##flo#esce#ce', 're#o##itte#', 'r#appo#nt', 'toddi##', 'dec#r#on#ser', '#verh#liness', 'peri#ep#ria', '#con##um', 'u#de#butle#', 'rewrappin#', '#igmew', 'fellow#oldie#', '#verr#g#r##s', 'p##eobo##ni##', 'c#rr#s##nds', '#o#uple', 'car#y', 'cut#a#k', 'canezo#', 'wi#i#ess', '#urin#', '#free', '##ym#ria', '#ymno##erma#', 'i##ella', 'd#c##ls', 'phospho#us', '#ietz#c#ea#i##', 's#le##id', '#edo#ent', '#ury#y#ous', 'sa##prop####d', '#argon##ed', 'j#intu##l#ss', 'miscui##', 'c##s##ng#e#ved', 'v#n##ably', 'ya##s', '#eenlistin#', 'l#us#er', 'no#i#e', 'vi#lle', 'f##en', '#omi#o', '#efoo#ed', '##f#d##troy#ng', '#ndof#en#h', '##effect#a##esses', '#him#eyle##', '#omos', '#oell', '#ilvi#', 'nannyb#sh', 'rh#m##ide##', 'l##anin#', '#u#umns', 'va#ie#i#m', 'c#ock#ull', 's#l#cons##u#nt', 'note###er', '#oagulan##', '##cem#n', 'grant#ng', 'unwh####d', 'le#om#', 'h#pato##ho#a', '#i#lioti#', '#ureaucra##cally', 'e#u#iating', 'p#eud#pare#i#', 'v#t##ol', '#nt#rograp##', 's#ler#', '#reyr', 'du#li##bility', 'b#yse#berr#es', 'd#g##e', '#ste#c##si#', 'dodeca#ese', 'm#tam##', 'ac#e##mata', 'wald##im', 'mac#l#pap#la#', '#enha##', '###syst#matic', '#i#eoc#ssettes', 'goli###s', 'c#t##rtes', '#ea##embl#', 'd#sfa##ura#le', 'bis#s', '#rollo#e', 'i##c#a#ite', '#as#als', '##cubi#orium', 'ba#k#oodsi#ess', 'bisho#in#', '##s#fety', 'ca##a#or#', 'ba#a#h', 'none#uc#d#t#on', 'un#hil#ishn#ss', 'for#fu#s', '#a##rid', 'l#veless', '##atternne##', 's##bi#', 'l#v#rat#', 'man##ur#d', 'mo##adal#', 'so##ers', '#rren#n##able', 'd#pancr#at##at#on', 't#ngat#', 's#lkl#k#', 'logomac#', 'pr##idi#m', 'ur#s', 'lac#r#as', '#itta', 'pu#chas##g', 'poyn#ing', 'p#ocyon#n#e', 'u#be##g##ess', '#ast#rn#r', '#eme#i#o#s', 'suppositio#####', 'qui##i#h', 'e#imeres', '##oth#l#miumi#', 'out###ing', 'bo#r#eon', '##eet#ou#ded', 'ze#', 'd#rric#', '##ld#arbl#n#', '#ull#ille', 'th#nder#tone', '#e#e#ment', '#tor#al', 'ni#i#itic', 'salmon##o##', 'an#ipas##', 'corr#c#ion#r', 'p#og#ottid', 's#arw#r#', 'did#ctici##', 'mono#oni##lly', 'mi##d##e', '#ipo##t#bo#ic', 'abs####io#is#', '#om#romi##ion', 'sea#ost', 'a#be#pine', 'st##d#rdise', 'ho#h##d#dly', 'mi#h#nd#e#', 'se#z#gene', 'e###ic', '#u#int#ord#d', 'ch##abe##y', 'pitl#ss', '##assimilat#s', '#ibs#nia', 'un#dv#ntu#ing', 'd###unca##d', 'anthr####hagu#', 'nic#si#', '#cat##c#py', 'res#r#ngs', 'sass##g', '#r#canc#lla##on', '#l#arvi#i#n#d', '#i##iest', '###ri#rchis#', 'sti###', '##lik', 'powe#less', 'st#b#o#k', '##r#aile#ly', 'snar#is#', '#nundat##', 'emi#ra#ion', '#napproa##ing', 'as#', 'al#b##ch', 'paracr##tic', 'me#te', 'ci###s', 'se#fc#cke#', 'c#ll##guing', 'inte#w##e', '##c#alk#d', 'horr#p##at#', 'm#sketeer', '##lena', 'my##ism', 'ti#kli#h', 'en#y#l#pedi##t', 'pl##ghwr#gh#', 'e#cre#ce', 'sto###a#er', 'p###ec#ing', '##inpl##te#', 'selfor#g##a###g', '#rc##e#cons', 'l#fs#l', 'dogma#i##d', 'be#e#ja', 'w#r#owers', '#nfranchis#r', '#n#oleran#ly', '##t#ps', 'm#nd#l#ne', '#eest', 'e#la', 'ce##acchi#', 'du#a#e', 'count#r#tro##', 's#or#ages', 'b#for#t#m#', 'ov##ju#gm##t', 'un#ru##ine##', 'p###erning', 'qua##d##tant##', '#alutator#e#', 'nai#a', 'tr###n#mat#sis', 'z#ster#', 't#ll#po#', '#nt#r##ddl#', 'poly#orp#i###', 'equi###le', 'b#o#d', '##eudodeme#tia', '##tb##ined', 'w#dthw##e', 'wo##dp#ese###ng', '#s#u#olinguis#ic', '#bar', 'jeopa##ie#', '#ncr#mb#ed', 'cha#i#t', 'kryst##', '#blu#e', 'm##ia', 'thin#sinthe#se##es', 'i#aqua#e', 'fr#tt#tion', 'neu#o#isto#ogy', '#ve#p###ptness', '#ltrafa#ti#io##', 'yam#', 'f#rel#pped', 'buc##aw', '#aconne', 'p#e#i#ed', 'kuk#uxism', 'wellte###ted', 'un####pt#d', 'assentat##us', 's#us#u', 'a#t##ietta', '#verl#g#c#l', 's#eff', 'n##th#a#ds', 'haem#philia#', 'vo#toh##i##ia##ete#', '#y#ogr#p#er', '#anby', '###ghu#ter', '#x##nsi#l#', 'a##iol', '#igo', 'iro#bra#ed', 'po#t##ility', 'c#lo#p#op#e#py#id#mi#e', 're#ra#ted', 'c##cke#', '##urio', 'l##uward#n', 'c##sh#rd', '#seu#o#hell###re#e', 's#p#lt#ral', 'furie#', '#ook#ron', 'ca#i#m', '##e#w#ites', '#c', 'goo#fie##', '#illerup', 'c#rlyto#d', 't##able', 'live#wo##s', 'r#g', '##cileness', 'c#risoms', '##n#uha#d', 'h##fsu#m#rg#d', 'unbeque##h#ble', 'myth#gr##n', 'h#ghbo###ng', 'merr#ne##', '#ic#lla', '#ref##lw#se', 'ch#d#st##', '##bol#s##c', 'ci#if#', '#adada', 'hal##ole', 'pe##o#a#o#s', 'n#ndiffid#ntly', '#post#m#t#', 'unvi#ar###', 'bif#ri#', 'mitis#s', 't#a#eg#l#', 's##tance', '#to#achach#', 'p###eling', 'playma##', 'ambl#geu##a', 'sparro##ess', 'un#ra#e', 'ya#s#c#ik', 'hash#', 'ko#os', 'poly#ten#d', '#ransp#a#emen#', 'sl#sh#ast', 'pa##y#e#mial', 'b#o#hie#', 'mic#oci#cui#', 'ma#da#aries', 'se#ise#re#y', '#i#co#scious', 'antin####gian', 'p#li#pset', 'p#n##hl#s']\n",
            "['<pivotable', '<thiocresol', '<trumpedup', '<antielectrons', '<allelisms', '<goelism', '<uninebriatedness', '<dolorifuge', '<casewood', '<sympathetectomies', '<ebbed', '<monokini', '<sward', '<necklike', '<busti', '<geneticism', '<rabbinistic', '<extensionalism', '<euripos', '<claustration', '<electromobilism', '<goodless', '<sulfite', '<invalidated', '<ciliotomy', '<windages', '<philadelphia', '<tepidarium', '<videodisk', '<nighness', '<boyang', '<conceptualizations', '<underratement', '<jugglers', '<overemphasized', '<betonies', '<plebicolous', '<kentishmen', '<disaffectation', '<jayess', '<quasimythical', '<pondweeds', '<harry', '<tibbit', '<forspoken', '<ldl', '<normanist', '<ideolatry', '<kelly', '<marshman', '<motorcab', '<despairing', '<pontificality', '<carrington', '<dzoba', '<reorder', '<depictured', '<handmaid', '<ruddling', '<cordylanthus', '<suspecting', '<hadassah', '<haphtaroth', '<kure', '<entreater', '<unstowed', '<denationalization', '<entrancingly', '<rubbishly', '<bha', '<unevocative', '<consentingness', '<chloris', '<gaffing', '<strident', '<phelonions', '<overintensifying', '<braciolas', '<nonedibility', '<radioprotective', '<chastised', '<bricklay', '<monseignevr', '<concertize', '<prejudicative', '<thermogalvanometer', '<wuzzer', '<promoters', '<landaus', '<saxony', '<anticensorial', '<bolas', '<lauren', '<gaultherase', '<halfvisible', '<understrain', '<nondiastatic', '<spruced', '<wasters', '<receptive', '<submania', '<ornoite', '<squedunk', '<angloirishism', '<holometabolian', '<swatted', '<lobules', '<unquert', '<partakable', '<preshipped', '<superelastically', '<sheepsteal', '<nonpareils', '<ikkela', '<chromatodysopia', '<elsi', '<caingwhale', '<luzerne', '<arguslike', '<uplay', '<nighdrowned', '<soluble', '<subducing', '<accidently', '<interpolater', '<simpletonianism', '<eyeful', '<unegoistically', '<roughhousing', '<icecutting', '<thuja', '<barbarity', '<violinistic', '<curara', '<stonecoated', '<baphia', '<lucian', '<earthmove', '<cryobiologically', '<greed', '<braehead', '<berlichingen', '<eburna', '<coverless', '<irrigative', '<wheelbroad', '<nonautonomous', '<caseworms', '<micromechanics', '<daphnia', '<nonbetrayal', '<ketosuccinic', '<backpedaled', '<syntactician', '<misfiles', '<endocranium', '<reps', '<heddle', '<quinoline', '<metreship', '<unrevengefulness', '<shreading', '<esonarthex', '<marcelline', '<miseration', '<unprovableness', '<unproportionality', '<granitoid', '<dragee', '<piacenza', '<ajani', '<yttrocolumbite', '<stridhana', '<hermitlike', '<teaboard', '<synthetist', '<clarts', '<putterer', '<firstcomer', '<serrefile', '<opsonize', '<supervenosity', '<fullfloating', '<quasiinferior', '<coomy', '<probates', '<olfactive', '<unpuzzled', '<unbottling', '<lulavim', '<pseudoneuropterous', '<murmured', '<gop', '<aldermanate', '<largediameter', '<suicidology', '<jockteleg', '<overcomer', '<neuromastic', '<stomal', '<middiastolic', '<shrew', '<hanapers', '<rupicolous', '<rheotan', '<soemba', '<revilingly', '<indescribably', '<economizes', '<millifarad', '<ionospheric', '<polacre', '<lapin', '<highmuckamuck', '<historiology', '<protomammalian', '<bird', '<cashmere', '<neurovisceral', '<swedenborgianism', '<blennophobia', '<divines', '<immensive', '<epidermophyton', '<anhydridization', '<sexdigitism', '<peccant', '<orthonormality', '<foundling', '<geological', '<patashte', '<foreworn', '<camisole', '<antisemite', '<bibl', '<soonconsoled', '<differentiable', '<enthrallingly', '<ahmed', '<ptochocracy', '<autota', '<seigniorage', '<phobos', '<digestively', '<unreigning', '<engracing', '<overchill', '<reapproachable', '<islam', '<spaewife', '<antimask', '<faultlessness', '<cassella', '<hurlbat', '<contraposaune', '<encourager', '<bymatter', '<eurindic', '<chapper', '<lissamphibia', '<defoil', '<hangfires', '<smutchless', '<dispicion', '<pseudoapoplectical', '<dehgan', '<acyloin', '<bds', '<shiggaion', '<monitary', '<twicewished', '<nuris', '<covellite', '<daphne', '<unfavouring', '<avenged', '<erythematic', '<romantically', '<hornfish', '<payday', '<charming', '<tridecane', '<ophthalmist', '<somaliland', '<overwilily', '<diestrual', '<unsacrificeably', '<israfil', '<capacitors', '<usherless', '<nonobjective', '<runch', '<loa', '<befalls', '<tizzies', '<helicities', '<fleecewhite', '<dukhn', '<stereostatics', '<believingly', '<metalcraft', '<aquarii', '<alnus', '<hearkener', '<ultranet', '<nonderivability', '<santoninic', '<azoturias', '<aromaticness', '<payably', '<coercends', '<yardbroad', '<missort', '<thyrohyal', '<rootbuilt', '<attapulgite', '<whom', '<xs', '<longheads', '<estop', '<policy', '<hemilingual', '<subtasks', '<fondants', '<jelena', '<personalized', '<omnipresence', '<bodymaker', '<quasipupillary', '<parafloccular', '<supererogation', '<sootbespeckled', '<donetta', '<wittering', '<impedient', '<handpost', '<redbeaked', '<assegaied', '<counterclassifications', '<runtier', '<deprogrammers', '<cleuch', '<comprised', '<freelancer', '<listenings', '<dinky', '<autoagglutination', '<goodfornothingness', '<inquisitorially', '<seeings', '<unpessimistic', '<rousseauism', '<revince', '<zootomical', '<threadless', '<dormition', '<sparkplug', '<highriser', '<kernoi', '<ceert', '<jell', '<whirl', '<dolcissimo', '<acceptingness', '<unparticipating', '<daylily', '<oestrous', '<stoopers', '<courche', '<prefashion', '<indimple', '<sulphurousness', '<mucousness', '<emerge', '<millibars', '<bakingly', '<saxophones', '<saddlegraft', '<overfeeds', '<equiarticulate', '<mandalay', '<gudok', '<lothsome', '<protozoon', '<triratna', '<oldfogyism', '<cryptogrammatist', '<unetymologizable', '<bloodcolored', '<diphosphate', '<martingales', '<nonpapist', '<alogism', '<filmer', '<trackhound', '<drew', '<antediluvial', '<erythropenia', '<communicatee', '<pregranitic', '<uncurls', '<dianthe', '<leath', '<djerib', '<hairylegged', '<prefocussed', '<brannew', '<fairing', '<dickson', '<bewailingly', '<toscana', '<member', '<postmedullary', '<marplot', '<exophagy', '<fructuarius', '<magnesial', '<ligniperdous', '<hosteled', '<strickenly', '<bfr', '<frotteurs', '<synaeresis', '<commorse', '<biogas', '<inglebred', '<revisions', '<introductions', '<shellmonger', '<unreticent', '<moistnesses', '<inspectoral', '<cinephotomicrography', '<desorbs', '<involatile', '<overnoveled', '<tuant', '<odontalgia', '<otalgia', '<curers', '<newfoundland', '<reoffend', '<oboyle', '<mandarining', '<pretransaction', '<boomslange', '<sandhemmed', '<plethron', '<lachrymous', '<shrimpy', '<brazenmailed', '<puddled', '<enduring', '<journalistic', '<nereidous', '<nonimpressionable', '<fullout', '<acquisible', '<travesty', '<unassailability', '<pansophical', '<likened', '<outthrusting', '<oclc', '<significate', '<angary', '<maar', '<fixtures', '<espied', '<cremule', '<antialbumin', '<gongoresque', '<shoggyshoo', '<seashell', '<impreg', '<fluence', '<milkandwater', '<mcgean', '<talegallus', '<bernstein', '<thioguanine', '<prebenefiting', '<poteye', '<agnized', '<coagulators', '<varangi', '<obligee', '<sixcylindered', '<isogenous', '<pitchable', '<unrotten', '<spokeless', '<undertuning', '<cageron', '<understock', '<tripodal', '<porkfishes', '<tereus', '<bisti', '<flouted', '<melodias', '<dijudicant', '<salinized', '<brolga', '<noncontentious', '<melodramaticism', '<wellagreeing', '<manhole', '<griddled', '<lingam', '<sodalite', '<semiquadrantly', '<irreligiousness', '<phthirius', '<seuss', '<unwearied', '<seamanly', '<brattleboro', '<knobbing', '<eleaneretrian', '<motionpicture', '<mackereling', '<transferase', '<ocellicyst', '<nonassertion', '<counterseal', '<aframerican', '<goasyouplease', '<unschizophrenic', '<ferneries', '<kemperyman', '<buttermere', '<orcus', '<archdruid', '<koreishite', '<racketeer', '<leavitt', '<issuers', '<scusation', '<holotonic', '<nerveridden', '<oribella', '<oliy', '<byliny', '<salpingostomy', '<cowpokes', '<queing', '<fucales', '<darleen', '<downtheline', '<intranidal', '<dolichos', '<excoct', '<petta', '<cataria', '<comprized', '<lepidotic', '<asperugo', '<tugboatmen', '<antienthusiast', '<nonconcession', '<sire', '<twiceseparated', '<incarnational', '<ultraconcomitant', '<chondrodystrophy', '<meterological', '<supprise', '<bushy', '<philosophised', '<gobbler', '<monthly', '<mein', '<peacetime', '<deicide', '<alcyones', '<enweave', '<querulosity', '<beseechingly', '<sempitern', '<mesenchymatal', '<dynamogenic', '<nondetractive', '<foamborn', '<theomythologer', '<oza', '<souter', '<underpull', '<tawsha', '<entomology', '<indoctrine', '<photographable', '<nonextinguished', '<smoothcrested', '<dharmic', '<dialogize', '<ephphatha', '<nigrities', '<neocosmic', '<competitively', '<overcriticize', '<devolatilise', '<athymy', '<anabrosis', '<halfromantic', '<doubleloathed', '<panelwork', '<pleasing', '<anarchical', '<armourpiercing', '<sungazing', '<persulphate', '<thermotropy', '<walnuts', '<portahepatis', '<congruency', '<delacey', '<surma', '<senso', '<goldfinny', '<otogyps', '<nonspirituous', '<srac', '<segreant', '<renewals', '<moltenly', '<conception', '<bromo', '<lacunose', '<benefit', '<dubitable', '<semiosis', '<deprez', '<accessable', '<misconjecture', '<noli', '<praisewinning', '<nongovernment', '<daedalidae', '<unomniscient', '<interdependence', '<marcionite', '<stonished', '<impeachments', '<ivoryheaded', '<galabiya', '<symphonising', '<dermatophytosis', '<cupule', '<infracentral', '<hilloas', '<charleroi', '<bendee', '<moniz', '<cib', '<skokomish', '<semanticists', '<dibasic', '<kendry', '<abouchement', '<mildnesses', '<etacism', '<meleagridae', '<ulcerations', '<beewort', '<vituperative', '<stoops', '<stygiophobia', '<precarious', '<fargood', '<manufaction', '<museums', '<splintbottom', '<cakemaking', '<neverlasting', '<sienna', '<familiarness', '<flamefeathered', '<cartographic', '<breskin', '<abolished', '<clypeastrina', '<borecole', '<paritor', '<permittance', '<steakhouse', '<magnifier', '<counterengine', '<ku', '<portligature', '<hymettian', '<electrophorus', '<sunless', '<coumaran', '<hawkbilled', '<puttie', '<spending', '<algerian', '<falerii', '<medicine', '<floured', '<cgn', '<cozinesses', '<mantras', '<craker', '<lapidates', '<pulchritudes', '<synthronoi', '<unlessoned', '<taxaspidean', '<bouillabaisse', '<italianly', '<cysatus', '<sheepberries', '<aedility', '<shortstaffed', '<unpatiently', '<perfectionation', '<savants', '<prestidigitation', '<trivirgate', '<lau', '<agapemonist', '<bowable', '<volata', '<bopp', '<tinerer', '<ascititious', '<exorbitancy', '<effectualnesses', '<flatbosomed', '<nosologist', '<cacophonical', '<monopteron', '<arctisca', '<kellie', '<marrano', '<countercouchant', '<halfsilk', '<lateronuchal', '<auriflamme', '<nosite', '<asahikawa', '<entrepreneurs', '<unchristianity', '<avra', '<nonflagrance', '<deedsville', '<chairborne', '<sympathicoblast', '<anisokonia', '<strikebound', '<brownarmed', '<ignitive', '<bergamee', '<mckuen', '<necrotype', '<forecastles', '<chondrilla', '<bribefree', '<needfire', '<monoservice', '<nondeluding', '<alaskas', '<rootstock', '<exsiccant', '<alleyways', '<seminegro', '<nuculid', '<demythologizer', '<blazons', '<boshboks', '<dacryosolenitis', '<rimation', '<vaishnavism', '<equable', '<nonevadible', '<besmuts', '<spondylodymus', '<fordays', '<microbicidal', '<dishouse', '<radiotransparency', '<mitigates', '<splashdown', '<flatvisaged', '<kinking', '<coreveler', '<phasic', '<goodo', '<vicewardenry', '<crestal', '<puce', '<lac', '<aegagrus', '<electrothermics', '<tyromas', '<inhalators', '<unidealized', '<ptyalectases', '<cinerator', '<partisanry', '<chondromucoid', '<opalescing', '<skeptics', '<embracingly', '<skates', '<montana', '<whitefelled', '<understrewed', '<yakker', '<betafite', '<antineutrons', '<pseudopodial', '<trinerved', '<narcotist', '<spouthole', '<cylindricoblong', '<progenitorial', '<maurene', '<batteried', '<darkprisoned', '<sweepstakes', '<photostats', '<epazote', '<wowsery', '<ungrammatically', '<withinwards', '<ain', '<muysca', '<syzygium', '<anticensorship', '<meatic', '<zoomorphic', '<tortillas', '<agamont', '<drypaved', '<aestus', '<ilke', '<thickshelled', '<unbreath', '<nonuniformist', '<experiences', '<onstand', '<calabresi', '<mincedpie', '<rescounter', '<printable', '<celebrant', '<lucarne', '<preponderancy', '<researcher', '<sweepback', '<nonguilt', '<unhelp', '<montaged', '<anisocotyly', '<postsigmoidal', '<houghite', '<discrownment', '<jargonizing', '<foxcroft', '<foreshank', '<chytridiaceae', '<pewfellow', '<forasmuch', '<turflaid', '<oop', '<sanable', '<monarchic', '<heliotropism', '<camponotus', '<overgang', '<multimammate', '<lapulapu', '<retrothyroid', '<draffier', '<perissologic', '<linguistician', '<dinos', '<phototelescope', '<budder', '<expiator', '<sniffingly', '<elderlies', '<kickabout', '<silicidize', '<hoblob', '<withcall', '<declasse', '<wrongdoers', '<ramblings', '<sc', '<sessiliventres', '<coinweighing', '<humanely', '<preplacement', '<gilmore', '<obtemperate', '<seldon', '<citrinins', '<concorporate', '<methadone', '<nonacidic', '<unwatermarked', '<ashiness', '<crocoite', '<coele', '<aboves', '<discountenancer', '<perofskite', '<volitionate', '<contravention', '<underwrapped', '<undecennary', '<likerous', '<shoreman', '<rittock', '<uncomplimenting', '<coppersidesman', '<apostemation', '<otidiphaps', '<joni', '<azteca', '<bargain', '<ichthytaxidermy', '<waterbreathing', '<achafe', '<franker', '<columellar', '<algates', '<fuzzyheaded', '<stenia', '<tosspots', '<tradeunionist', '<outbow', '<splendescent', '<disapproves', '<emphase', '<rot', '<buckatunna', '<nonblamefully', '<prudy', '<tonguesman', '<revive', '<estreated', '<lucedale', '<koranic', '<cytostatically', '<alethic', '<outspout', '<halts', '<cutlings', '<necrophiliac', '<polyonychia', '<alienable', '<adnex', '<politei', '<sassella', '<yellowpinioned', '<micanopy', '<megargel', '<ardently', '<cleaners', '<paloverde', '<superordinated', '<anglicized', '<fungo', '<prenight', '<macdonell', '<prothmia', '<clammer', '<salpingostomatomy', '<undiscouragingly', '<wouch', '<redeem', '<representably', '<snawbroo', '<urradhus', '<diprotodontia', '<stevensville', '<imbarn', '<rosetinged', '<arjay', '<teenfuls', '<recorrection', '<industrial', '<myophore', '<citrean', '<wendelin', '<danic', '<wheencat', '<rekindler', '<weaselwise', '<adlar', '<jenks', '<anolian', '<bhaktas', '<petrovsk', '<starmonger', '<sleepfearing', '<recoct', '<cloy', '<southwardly', '<cleanups', '<woady', '<callisteia', '<biomathematics', '<hehre', '<selfchanged', '<fallowing', '<barbiturates', '<bissextus', '<unebriate', '<malleinization', '<acrydium', '<grewsomely', '<metasternal', '<disgulf', '<superinclusive', '<nonmicrobic', '<nonnitric', '<warkamoowee', '<scalena', '<bepainting', '<thyreotomy', '<nonexpert', '<deaconal', '<nonseriality', '<foereaped', '<overargumentative', '<splenectomize', '<shado', '<straddlelegged', '<graceful', '<glucolipid', '<antlophobia', '<khalkidike', '<atremata', '<lusky', '<byproduct', '<assassinations', '<syncing', '<swiftburning', '<partialness', '<polyphonical', '<garbill', '<mitigation', '<comptrollership', '<noncollectible', '<subediting', '<machinely', '<reggiano', '<baldachin', '<bygoing', '<daddah', '<savior', '<nonvintage', '<immorigerousness', '<papabote', '<countesses', '<fesswise', '<neufer', '<schizogenic', '<rubific', '<unmeringued', '<placardeer', '<smook', '<algie', '<demobilised', '<excalation', '<coart', '<bindings', '<pareiasauri', '<maziest', '<nonconfederation', '<xenochia', '<beliquoring', '<endurances', '<fussbudgets', '<carminic', '<ultraviolent', '<fairhorned', '<committeeman', '<modeste', '<coarbitrator', '<mamlatdar', '<dampeners', '<erde', '<cowishness', '<filmsetter', '<echemus', '<out', '<lachlan', '<koumys', '<classicise', '<postimpressionism', '<sourdough', '<panesthesia', '<pittman', '<tailorwise', '<toolsi', '<fibrinogenic', '<preponderous', '<larmier', '<repressurizing', '<advisership', '<carlings', '<tuscarora', '<grey', '<satyrion', '<parasexuality', '<chinkle', '<fictions', '<scalewise', '<involvedness', '<telephoners', '<despr', '<sylleptically', '<aureous', '<multimodal', '<threated', '<poikilo', '<worlddespising', '<unhastened', '<welted', '<hucar', '<prittleprattle', '<proleaguer', '<menacement', '<volcanist', '<calendaric', '<gazetteerage', '<slowdriving', '<warranting', '<tamehearted', '<bluestone', '<loupsgarous', '<trochocephalus', '<altitudinous', '<countrification', '<ticketmaking', '<aimlessnesses', '<nonsequaciously', '<ricebird', '<smoothbodied', '<predefined', '<untubercular', '<bacteriolysin', '<deadfrozen', '<myringotome', '<cementoma', '<pd', '<squidgereen', '<veep', '<interruptedness', '<exhalent', '<needlecord', '<exclaims', '<macintoshes', '<dilltown', '<warantee', '<bepale', '<apneal', '<pietistical', '<perceptional', '<chondrosteoma', '<monkship', '<negligences', '<populationist', '<cauliculi', '<unkindliest', '<nielloing', '<nikubori', '<wair', '<patti', '<pettyminded', '<bitterless', '<reconstructive', '<concaved', '<hineston', '<dispirit', '<breechcloth', '<iaa', '<lygaeidae', '<sav', '<beadswoman', '<soggily', '<ragfish', '<quasireported', '<twoedged', '<freit', '<compartmentalizes', '<vsop', '<wrongdoings', '<hallex', '<semiprofanity', '<porcellanidae', '<petalostemon', '<comforter', '<bingham', '<belitung', '<dasahra', '<asnieres', '<challengable', '<farolito', '<philtre', '<gari', '<ponderability', '<anesone', '<babehood', '<unappeasedly', '<chapped', '<karval', '<radialize', '<einhorn', '<superconservativeness', '<parvenus', '<auditorily', '<hyetal', '<unmyelinated', '<arrowsmitten', '<demiincognito', '<kinematically', '<istiophoridae', '<isoelectrically', '<opinionated', '<jes', '<dispeopler', '<parotid', '<tawdrily', '<polysynthetize', '<cionotomy', '<quadratically', '<vesicoureteral', '<fewness', '<tartana', '<dogproof', '<outofdate', '<movie', '<homousian', '<monkfish', '<liberalisation', '<interrupts', '<meristematic', '<archicyte', '<hersall', '<moorman', '<onychomalacia', '<brushbreaking', '<livre', '<whau', '<leonidas', '<glaucosuria', '<phylline', '<polymaths', '<soilure', '<histochemical', '<worldsized', '<homograft', '<dingman', '<splenodiagnosis', '<forslow', '<piedmonts', '<hexadactylic', '<noncatechistical', '<outputting', '<fraternisation', '<proline', '<pdl', '<bangalow', '<waterflow', '<acarocecidium', '<wudge', '<auricular', '<heinousness', '<proletaire', '<radiochemically', '<cobalamine', '<johnna', '<disert', '<trihemeral', '<undersally', '<christtide', '<hyperbole', '<envire', '<looked', '<tendereared', '<jwanai', '<subordinate', '<mudhead', '<solecises', '<axseed', '<handbooks', '<perturbational', '<maister', '<isometry', '<wellbehaved', '<impeaching', '<pasto', '<approval', '<syncryptic', '<coprology', '<unedge', '<machar', '<nonadjunctive', '<orthogonalizing', '<uropsilus', '<reconverse', '<vaudevillist', '<salvational', '<dov', '<fanner', '<countermaneuver', '<superfamily', '<admissable', '<aggressor', '<remedyproof', '<reproachable', '<counterbalance', '<eatables', '<thorvald', '<secondar', '<unavailful', '<woodpigeon', '<semitact', '<notarization', '<chambered', '<picnicked', '<earl', '<chicota', '<absorptiveness', '<nogg', '<becudgeled', '<bibliographic', '<frostings', '<telecommunications', '<redhissing', '<rainbowsided', '<unlarded', '<favellae', '<sulfonal', '<wrong', '<affector', '<matteotti', '<lidos', '<osmotically', '<sink', '<tetrabromofluorescein', '<commemorating', '<beaker', '<marica', '<quasiuniversally', '<amadas', '<pepi', '<quasiinformed', '<pseudodiagnosis', '<giraud', '<falsies', '<stagnecked', '<supersensitiveness', '<passings', '<warrenlike', '<escapes', '<hadromycosis', '<perilled', '<bize', '<grassy', '<perimedullary', '<influe', '<pretentiously', '<sarcosporidia', '<opec', '<hines', '<bibbing', '<kevon', '<unwisest', '<origins', '<crownets', '<devilinthebush', '<influencing', '<doublebodied', '<typikons', '<antiascetic', '<unttrod', '<sphygmographic', '<argumentive', '<antilecomption', '<yaketyyakking', '<overinhibited', '<provaccination', '<battiste', '<sacrificature', '<nonanarchical', '<knolkhol', '<piedpiping', '<bohuslav', '<acutiator', '<bouteloua', '<laudator', '<effulgences', '<assyrian', '<bemud', '<kibitzers', '<oolak', '<oversensitiveness', '<peristoma', '<mydaleine', '<civicmindedness', '<strammer', '<twiceredeemed', '<flankers', '<unfashionableness', '<synthetic', '<buiron', '<dewali', '<superinstitution', '<parachuting', '<sagaman', '<casingin', '<dreidls', '<trionychoideachid', '<epicalyx', '<dialectologically', '<erbiums', '<diploetic', '<koppas', '<nonemotional', '<unantagonisable', '<ektexines', '<smokebrown', '<sessileflowered', '<coroplastic', '<diathermies', '<triazins', '<unpermissible', '<nand', '<meningioma', '<piracies', '<petaloidal', '<backraking', '<bardling', '<unjealoused', '<sonatas', '<prochronic', '<lampworker', '<sclerotia', '<ballistocardiographic', '<jacquelyn', '<reign', '<disbudding', '<cayuca', '<bellowsmaker', '<peppie', '<simity', '<scutation', '<roquelaures', '<stoppling', '<jawfeet', '<polynome', '<stioning', '<darwinists', '<selfaffrighted', '<halfdeafened', '<pachyglossia', '<archont', '<loverless', '<amnic', '<paleostriatum', '<murfreesboro', '<voltaelectrometer', '<skeptical', '<coterminal', '<nonlyric', '<presuppositions', '<vulvae', '<womanwary', '<championing', '<giboulee', '<dirca', '<johnnyjumpup', '<outbribes', '<agonising', '<nautophone', '<rarefactive', '<mesophil', '<fullminded', '<homoanisaldehyde', '<scrubbingbrush', '<amphithalmi', '<capot', '<macpherson', '<overfluently', '<procopius', '<tarrying', '<galatians', '<sibilance', '<jequie', '<unengraven', '<keyster', '<hackneycoach', '<hexosediphosphoric', '<deviatory', '<abatements', '<refortify', '<hypnale', '<cantu', '<unjovially', '<sorceresses', '<saon', '<ledgeless', '<vernacular', '<accordable', '<longpossessed', '<curvograph', '<victoriana', '<saloon', '<intensionally', '<tifter', '<alesia', '<maikop', '<ninkur', '<quindecagon', '<hugeproportioned', '<youngchinned', '<cello', '<toggeries', '<highbrowed', '<borana', '<cascading', '<alderney', '<godenlightened', '<aspersively', '<chickening', '<demipike', '<antitraditional', '<diss', '<dousers', '<syncretizing', '<herself', '<pauletta', '<amidosulphonal', '<eloigners', '<chancepoised', '<completions', '<reformed', '<vicesecretary', '<overanalyzes', '<noblemindedly', '<overholding', '<tentstitch', '<assonants', '<undenied', '<yigh', '<fascia', '<sucuruju', '<chathamites', '<runaway', '<saururae', '<wellorganised', '<ticketing', '<nudge', '<orthopathically', '<grawn', '<alleniate', '<harford', '<myrtleleaved', '<semiblasphemously', '<unsister', '<antipreparedness', '<coirs', '<donec', '<basketmaking', '<slumlords', '<tansailed', '<instrumentate', '<jasy', '<usurpature', '<desmopexia', '<brighella', '<stateroom', '<aspartate', '<apodeictical', '<asymptomatic', '<noninfectiousness', '<loadstar', '<autoptical', '<ricegrass', '<skewness', '<preheats', '<pedatipartite', '<carpomania', '<angiolipoma', '<tatman', '<nailproof', '<misinstruction', '<bagwash', '<mohrodendron', '<chronometrically', '<counterinsurgent', '<preprint', '<selfcharging', '<wellallied', '<clop', '<infinitives', '<sertive', '<ashli', '<kobs', '<cheesiness', '<slanty', '<gavottes', '<tetracoralla', '<unvendibleness', '<settsman', '<nonknowledge', '<influxion', '<multisense', '<amutter', '<dropmeal', '<rightcenter', '<coelacanthini', '<ganesha', '<slatback', '<beefcakes', '<kloman', '<callovian', '<sigmoidorectostomy', '<topkick', '<eschatologist', '<tarsoclasis', '<aristotelian', '<pitocin', '<elections', '<enantiopathia', '<scrivings', '<wrightsboro', '<pumice', '<phrygianize', '<illustrated', '<unexcommunicated', '<lithest', '<unhatched', '<illtempered', '<forecited', '<heptagynous', '<unrepulsively', '<reevacuated', '<dinkey', '<outglares', '<serpigo', '<spreckle', '<acrocyanosis', '<lemuria', '<lavandero', '<pauropoda', '<rhv', '<unprosodic', '<mewl', '<dupping', '<twiceresisted', '<opponency', '<proserpinaca', '<enantiomorphism', '<codons', '<sesma', '<trillibub', '<jasmins', '<sutherlandia', '<wringstaff', '<informal', '<firestop', '<painfuller', '<lanthana', '<commutativity', '<thereas', '<rhinebeck', '<buckram', '<nonlocally', '<recedes', '<timberjack', '<whipgrafting', '<cemetery', '<risposta', '<cancered', '<mus', '<multimember', '<mooniness', '<slipstick', '<killbuck', '<yao', '<repiner', '<slingsmen', '<opinionatedness', '<parture', '<easement', '<trichloroacetic', '<balcony', '<domenikos', '<pincase', '<wharfmen', '<querencia', '<stertorousness', '<cacoepist', '<longimanous', '<ddpex', '<barcolongo', '<rumelian', '<mumped', '<shardborn', '<kuruma', '<diachronically', '<boastful', '<utopists', '<thoughtlessly', '<antimodern', '<hagecius', '<grimbald', '<specious', '<gur', '<prokofieff', '<necked', '<apiosoma', '<nonelectronic', '<saprophagan', '<bloviated', '<wolfberry', '<cloacaline', '<weedhook', '<swiftlamented', '<audwen', '<chorizontist', '<unwriting', '<antiepileptic', '<quasiintroduced', '<temporale', '<cylindroconoidal', '<variative', '<moniliaceous', '<mossyrock', '<dissatisfies', '<intenability', '<infraglottic', '<tritish', '<superinfeudation', '<indefeasibly', '<tutsan', '<pred', '<anthropotoxin', '<housemaster', '<sanskritization', '<fragilities', '<rutherfordium', '<demurred', '<choroti', '<blinkered', '<matchstalk', '<palaeologist', '<salzgitter', '<villakin', '<biochore', '<feeney', '<worldrevolving', '<mouseion', '<wootan', '<subsere', '<whew', '<aphicidal', '<reenglish', '<antinomic', '<bahutu', '<lutetian', '<gammed', '<upbears', '<undiscriminating', '<hippogryph', '<abbacy', '<civility', '<phantastical', '<attainability', '<unbetrothed', '<refurbishment', '<crimple', '<tinder', '<waxbearing', '<screenless', '<inoperational', '<heartsicknesses', '<balopticon', '<wochua', '<demisecond', '<epigons', '<eproboscidea', '<anywise', '<overabundances', '<ranginesses', '<friggle', '<sinistrogyrate', '<venedotian', '<polyglottically', '<theogonic', '<ergatoid', '<kassapa', '<philister', '<affidation', '<waianae', '<simarubas', '<culminal', '<calamitous', '<wellvisualized', '<petary', '<viscosimetric', '<kartos', '<thelorrhagia', '<subpanel', '<adularia', '<blottesquely', '<preadherently', '<hemichromatopsia', '<unvehemently', '<cestraciontes', '<telling', '<eighthly', '<choctaws', '<discrive', '<ponderative', '<colporrhagia', '<dipladenia', '<hadramautian', '<irrevocable', '<topknotted', '<flycatchers', '<frederika', '<unconversing', '<mabinogion', '<overchafed', '<micronucleate', '<beclogged', '<pretransmit', '<windlassed', '<countryborn', '<deputised', '<conceptionist', '<flashiest', '<physicomechanical', '<nictitation', '<mucroniform', '<mink', '<chemoprophylaxis', '<unlycanthropize', '<whose', '<rabatos', '<tellerout', '<jaypie', '<ectrotic', '<chicqued', '<overstridentness', '<cherbourg', '<whalers', '<antsigne', '<colloquial', '<calinago', '<therine', '<cachexies', '<stechhelm', '<stinkiest', '<pontist', '<rerental', '<alfaquin', '<inkstone', '<matchet', '<terle', '<attenuant', '<anoxemias', '<prebreathe', '<tonopah', '<sedimentary', '<heavenliest', '<vigilant', '<edeodynia', '<windshock', '<eisteddfodau', '<preeminently', '<nephelite', '<amorrow', '<subacumination', '<hornbeak', '<segregation', '<polytungstic', '<unpermanency', '<hemaphein', '<cutesie', '<metroneuria', '<sedgewake', '<renovations', '<agathocles', '<forwalk', '<syntonised', '<stampless', '<censure', '<salvifics', '<ratiocinatory', '<stroddle', '<tania', '<payess', '<entrancedenying', '<muffins', '<monochronic', '<craniostosis', '<information', '<radiant', '<nightstraying', '<lourd', '<denazification', '<nurturant', '<ostracoda', '<smirks', '<sixply', '<lagwort', '<duetted', '<rosetangle', '<miraflores', '<fairest', '<toss', '<periscopes', '<reintervened', '<tridacna', '<expositional', '<foursquareness', '<stippledness', '<deianeira', '<reamputation', '<igara', '<hulch', '<floccipend', '<rebenediction', '<comprehending', '<fogs', '<cobles', '<erotization', '<splotches', '<jolted', '<asarabacca', '<eme', '<bier', '<coroll', '<emblematicize', '<macroplankton', '<scolite', '<gibbosely', '<tufty', '<lillie', '<mabe', '<boigid', '<laconized', '<gallein', '<shrewdness', '<nonlustrousness', '<swattle', '<unfeasably', '<chuckie', '<deadpanner', '<overextreme', '<nondisbursement', '<asymbolical', '<jonson', '<unflaked', '<unhereditary', '<isinai', '<noncotyledonal', '<neohebraic', '<creaker', '<seamanite', '<zikkurats', '<pirojki', '<oestrogen', '<carroms', '<palmerston', '<egin', '<osetian', '<animastical', '<tetracerous', '<dearsenicize', '<unpayable', '<bellwind', '<lactophosphate', '<aetiologies', '<uncaught', '<crippler', '<knapsacking', '<unaspirated', '<cyclism', '<morntime', '<fddiii', '<programmers', '<airboat', '<fumose', '<sensorimotor', '<soakman', '<fouett', '<outrail', '<dargo', '<eunomy', '<oenomancy', '<unlowly', '<lilacky', '<automechanism', '<ravenala', '<glomerulitis', '<fouroared', '<unasked', '<polieus', '<halfmeant', '<treasurership', '<unplayful', '<unperiphrastically', '<ice', '<uncrudity', '<scopic', '<breaded', '<psocids', '<struvite', '<resynthesizes', '<favorites', '<entitle', '<renotifies', '<taxonomic', '<deemphasized', '<outpopulating', '<debarked', '<delegating', '<vitameric', '<craniad', '<misauthorizing', '<koilon', '<intoxicatedness', '<similative', '<surrept', '<devilhaired', '<trivoli', '<fughetta', '<bawdstrot', '<oxymuriatic', '<tailage', '<unvisibly', '<tharp', '<blurbing', '<supergratified', '<albian', '<gentilitial', '<connivers', '<piache', '<minnesingers', '<hawaiite', '<meteoristic', '<undefendable', '<hopi', '<utensile', '<blackbellied', '<documents', '<maieutical', '<finew', '<dilating', '<striatal', '<superficially', '<unattributably', '<munitioner', '<boswellize', '<facemaker', '<poshest', '<absohm', '<trigram', '<curried', '<sablevisaged', '<siddhartha', '<sprinklings', '<predamnation', '<abreast', '<disembrace', '<talukdari', '<idolised', '<conturbation', '<zoners', '<hish', '<tinting', '<elfins', '<tacked', '<float', '<faulds', '<farmerly', '<tartramide', '<paleoclimatologic', '<crownmaker', '<infirmation', '<ageist', '<remittent', '<fists', '<microreproduction', '<circumstellar', '<preston', '<dicotyledon', '<vadimonium', '<unsolidity', '<unpensionableness', '<aimlessly', '<blackletter', '<stundism', '<amplifier', '<nonnavigably', '<hubertus', '<rosbif', '<misbestow', '<seroscopy', '<budworm', '<understatement', '<nonascertainable', '<platten', '<reintroduces', '<chronology', '<inherle', '<trachypteroid', '<ampery', '<whiskey', '<critic', '<tworail', '<polymolecular', '<grandaddy', '<meritocratic', '<numinism', '<fideism', '<snippish', '<stockholm', '<tenino', '<monatomic', '<faunistically', '<trinodal', '<indigogen', '<listed', '<connation', '<crabeater', '<sweetthroat', '<disintegrity', '<peacepreaching', '<eozoonal', '<owt', '<plaguer', '<narcos', '<atheous', '<anthropolite', '<banditry', '<dikeria', '<distrainable', '<prutot', '<megal', '<rotatoria', '<fedak', '<cariacine', '<beknown', '<pleopod', '<antejentacular', '<glenus', '<narragansett', '<scorpii', '<baryta', '<wilson', '<monosymmetric', '<predelineating', '<triloculate', '<doherty', '<bullskin', '<patentees', '<camise', '<palacewards', '<vapourimeter', '<contused', '<quasiorganically', '<airliners', '<eszencia', '<tuberclelike', '<spragueville', '<reinfect', '<rots', '<servantcy', '<berdichev', '<mobbie', '<criswell', '<calochortaceae', '<viviparism', '<nonsonant', '<scincomorpha', '<gonalgia', '<ampicillin', '<ostraeacea', '<openwork', '<hurrisome', '<schismatically', '<subjugated', '<gastrilegous', '<phytalus', '<almuerzo', '<dogmeat', '<nontourist', '<impersuadableness', '<twiceruined', '<rollergrinding', '<unbiliousness', '<margetts', '<uniformer', '<organums', '<autocracy', '<filaria', '<pavisse', '<fca', '<dasyurus', '<bogard', '<amidoazobenzene', '<etra', '<becloud', '<nematophyton', '<trumbash', '<tehueco', '<faeryfrail', '<buxus', '<loats', '<jeremian', '<mobjack', '<asiden', '<pubble', '<slitdrum', '<skirmishing', '<bruting', '<lockwood', '<aorangi', '<beautyship', '<yellowhaired', '<ladyship', '<passade', '<garrulus', '<shallowfooted', '<neto', '<wraist', '<observations', '<eyeservice', '<noncollusive', '<nightjar', '<frontispiecing', '<liber', '<spelled', '<chitose', '<roomiest', '<hideosity', '<scraggliness', '<liar', '<platinized', '<sandweed', '<improvise', '<visionize', '<polkaing', '<nomenclatural', '<capriccios', '<northwesterner', '<carrolls', '<woodystemmed', '<lonicera', '<marciano', '<acce', '<flyflap', '<boutylka', '<cyclizing', '<totting', '<drenmatt', '<nonepigrammatically', '<fluoaluminic', '<lulls', '<poignet', '<unswaying', '<cenanthous', '<mols', '<hydrotropic', '<chincher', '<weewees', '<conveyorizing', '<rothbury', '<secretservice', '<polynodal', '<takyr', '<scance', '<atelognathia', '<whod', '<trufflesque', '<adulteration', '<swannish', '<octocentenary', '<niemen', '<wavelike', '<preplace', '<uchee', '<unvicar', '<hyperspherical', '<clepsydras', '<americus', '<jodean', '<untrigonometrically', '<plateway', '<extrapatriarchal', '<wishbringer', '<atrochal', '<countermoved', '<durably', '<minigrant', '<daile', '<bopyridian', '<morril', '<dendrobatinae', '<higley', '<fivegaited', '<travelerstree', '<amidating', '<unvouchedly', '<reoxygenate', '<bayards', '<begulf', '<frigefact', '<approbation', '<alternipinnate', '<helotry', '<astrol', '<overblamed', '<nickelled', '<deuterotokous', '<redistributive', '<civilisational', '<saffell', '<brote', '<forcite', '<oilwell', '<southdown', '<thoroughfelt', '<iteroparity', '<baldmoney', '<serialising', '<chapterhouse', '<iberite', '<deflorescence', '<miltonism', '<sterigma', '<unionizers', '<hetaerio', '<witchbells', '<araneidan', '<underhand', '<sunsuit', '<dovetails', '<enamours', '<uncurbs', '<bosomed', '<mutoscope', '<stiffgrown', '<concretize', '<honeystucker', '<begetter', '<prepectoral', '<softblowing', '<cohabiting', '<carf', '<affirmative', '<mycostatic', '<chil', '<margay', '<daubster', '<archpiece', '<overfurnishes', '<reaccredited', '<quasiinnocent', '<smush', '<towerencircled', '<nonappeasing', '<connemara', '<borghi', '<goudy', '<unpure', '<postoperatively', '<cuneus', '<teapot', '<nomothetes', '<goldbraided', '<veiledly', '<unfattable', '<inferobranchiate', '<gesneraceae', '<powerhungry', '<campodeid', '<exhibitor', '<myelinogenetic', '<generable', '<straighter', '<outscout', '<heartwood', '<overcrowdedly', '<pseudomoral', '<unsoldiery', '<steelyards', '<provocation', '<nilghau', '<sulphoamide', '<sleepylooking', '<blooddiscolored', '<cinnamoned', '<cloisonnist', '<distractingly', '<margined', '<banner', '<aqueduct', '<protophilosophic', '<swank', '<solicitant', '<convoluted', '<predisadvantageously', '<mountainer', '<lonedell', '<tnpk', '<frenchwise', '<unpretentiousness', '<microscopical', '<bycock', '<translibyan', '<readycoined', '<theretil', '<eggshells', '<wellhemmed', '<underscores', '<pergamic', '<yankeedoodle', '<nonentomologic', '<multifoliolate', '<parures', '<borderer', '<peened', '<tawie', '<woundfevered', '<decorousness', '<rootmeansquare', '<parciloquy', '<codeword', '<oceanographer', '<devilkins', '<neogaeal', '<syosset', '<doggnawn', '<slumbers', '<dom', '<antiphony', '<crois', '<articulatenesses', '<precipitation', '<nativist', '<manky', '<pungle', '<infeoffment', '<trite', '<loquacities', '<errata', '<perdition', '<interruptor', '<snivelling', '<whorled', '<gustatorily', '<nonfactitiousness', '<hierophanticly', '<cornual', '<paradisical', '<incrosses', '<punctured', '<habitually', '<sharpeared', '<notative', '<ctenidia', '<mirelle', '<nutrition', '<stovewood', '<decolourization', '<wedgeformed', '<racemisms', '<bundahish', '<homoeomorphy', '<youthsome', '<livedo', '<onomatopoeial', '<flathorned', '<macegan', '<sectarianising', '<panoptical', '<unpausing', '<prerecite', '<anacrogynae', '<rakh', '<nestor', '<thermoscope', '<exsculptate', '<sweese', '<selfexamination', '<antiradiation', '<dukuma', '<unsecretiveness', '<pangens', '<endotropic', '<rexana', '<cinnamene', '<recomplication', '<unperturbing', '<apparels', '<styler', '<amalgamating', '<clithridiate', '<acutilinguae', '<weeders', '<pomphus', '<bsie', '<jesuitocracy', '<ultramontanist', '<pickthankly', '<brakemaking', '<polychrestical', '<waywarden', '<deprive', '<vignerons', '<congregation', '<dismisser', '<dpmi', '<skedgewith', '<cantabank', '<wisnicki', '<juridicus', '<archenteron', '<streakedback', '<raying', '<jamesport', '<pasul', '<epicentre', '<tellurize', '<overtip', '<venturesomely', '<adminstrations', '<allnourishing', '<zoril', '<schwing', '<embryoscope', '<overhumanized', '<pipier', '<rhapsodies', '<northallerton', '<serviceability', '<coembedded', '<stanitsa', '<superrace', '<russopersian', '<pinguin', '<objectivity', '<creeds', '<bayed', '<auto', '<serigraph', '<canquaffing', '<benzotrifluoride', '<predispositions', '<tenderfootish', '<tastes', '<pgnttrp', '<allmeaningness', '<goldrolling', '<billi', '<morrell', '<utilitarianize', '<robbinsville', '<snottery', '<precollusion', '<ursuk', '<nonponderous', '<aspiculous', '<myriotrichia', '<taun', '<arteriocapillary', '<periodids', '<extracardial', '<togas', '<scholiast', '<basseterre', '<selfcontraction', '<songfests', '<harborward', '<draperess', '<attentiongetting', '<halfforgiven', '<cyclicality', '<infraordinary', '<revie', '<alkalinised', '<galvano', '<footful', '<otolaryngological', '<ousels', '<malacaton', '<bedrivels', '<ranids', '<fearsome', '<coaling', '<emanational', '<monette', '<comminuted', '<levers', '<xenophoridae', '<maldigestion', '<william', '<unlivability', '<incitive', '<overreachers', '<nonphotographical', '<erroneousness', '<nonadorantes', '<beduke', '<reapplaud', '<substantivity', '<nawt', '<pinyon', '<empusa', '<mauryan', '<mutined', '<pinwheel', '<aotes', '<sheerest', '<swinehead', '<gluons', '<reynosa', '<tussahs', '<lipodystrophia', '<tarawa', '<mear', '<agneta', '<natalia', '<disparatum', '<undepartableness', '<fanteague', '<uncrudely', '<pithes', '<unbrooding', '<decuple', '<supp', '<airampo', '<broodier', '<xanthosis', '<bargainhunting', '<fascial', '<unroaded', '<gaycolored', '<selfpampering', '<upsyturvy', '<screwplate', '<selfmotive', '<wilhelmstrasse', '<laceflower', '<fullrayed', '<loysburg', '<dikeside', '<barbet', '<hypothesi', '<zanuck', '<brass', '<controllability', '<cheerful', '<accend', '<hypozoan', '<hemiprism', '<biophysicochemical', '<oppositiflorous', '<awfu', '<strangerlike', '<nondisingenuously', '<cryptopyrrole', '<bewhiten', '<verbosity', '<maura', '<reus', '<oecoid', '<unamicable', '<aminic', '<wenda', '<albinic', '<sideboard', '<unscamped', '<kochliarion', '<sooter', '<ultrafidianism', '<anchimonomineral', '<preministry', '<manzu', '<moldavian', '<barlows', '<dilettantes', '<hinder', '<shiftless', '<diastalsis', '<overestimated', '<tithefree', '<pleurobrachia', '<soonknown', '<remunerating', '<smacks', '<inaccuracies', '<unstintingly', '<panicstunned', '<nontenurially', '<noncontemptibleness', '<mycosin', '<chromopsia', '<comunidad', '<broadloom', '<laniidae', '<posttussive', '<auxocyte', '<pigskin', '<holblitzell', '<aperients', '<sunback', '<fouquieriaceae', '<antieurope', '<digestif', '<gentlemandependent', '<inevasible', '<semipractical', '<mudra', '<misteuk', '<muenster', '<superendorsed', '<libidinously', '<outgallop', '<jovita', '<decephalize', '<wilseyville', '<wachaga', '<beholding', '<possessively', '<chivaris', '<socioculturally', '<inmates', '<suberinize', '<resegment', '<bullfight', '<orante', '<tallcolumned', '<gordioid', '<phaleucian', '<pollerd', '<semisolid', '<fornix', '<sixrowed', '<gonococcocci', '<untroubledly', '<prosthenic', '<steatolytic', '<superconvenient', '<unsanctifiedly', '<eurodollar', '<graphomaniacal', '<scriptorium', '<nq', '<coropo', '<sympathomimetic', '<ladykilling', '<shmoozed', '<splanchnolith', '<introthoracic', '<uncascaded', '<rakishness', '<psychologian', '<saturnism', '<leiotriches', '<slowworms', '<decremented', '<transmethylation', '<remodels', '<phalangic', '<noneuphonious', '<phonevision', '<laparothoracoscopy', '<rebuys', '<prefectorian', '<highwalled', '<freudian', '<theraputant', '<unsatin', '<hemiamb', '<bestconditioned', '<schorlrock', '<vanelike', '<sparrygrass', '<lutts', '<turbeh', '<righthandedness', '<wolfen', '<benghazi', '<redisburse', '<sheth', '<outsailed', '<openspacedness', '<unguentarium', '<unobumbrated', '<crociary', '<preadapts', '<lifesized', '<panatela', '<schismatized', '<meningoradicular', '<rumal', '<fringefoot', '<covering', '<embed', '<althing', '<victualler', '<harebrain', '<diemaking', '<postdysenteric', '<selfconverse', '<asqueal', '<ohs', '<sileas', '<uninducted', '<lifeprolonging', '<xenogamous', '<interradial', '<curver', '<peafowls', '<octohedral', '<guesses', '<gonidic', '<unembezzled', '<wellgrown', '<fluorinated', '<databases', '<numerators', '<promptorium', '<prefixion', '<fessing', '<escuages', '<shlu', '<castiglione', '<africanizing', '<appended', '<yeara', '<silkensandaled', '<barkstone', '<unbilled', '<compluvia', '<reenclosure', '<philomystic', '<curvey', '<reeky', '<autotriploid', '<calambour', '<nonabsorbing', '<hypocoristically', '<squali', '<reprimanding', '<incomprehending', '<unexplorable', '<chiselled', '<maypole', '<enraptured', '<shareout', '<citril', '<kinabulu', '<balkanite', '<pfitzner', '<beatus', '<motorings', '<swingingly', '<aboveground', '<alguazil', '<eastnortheastwardly', '<otarioid', '<exsheath', '<dba', '<cassondra', '<unthistle', '<semicelestial', '<quixote', '<urucurana', '<secularists', '<unvertiginous', '<lockie', '<sequoia', '<pbs', '<highrunner', '<mineralizer', '<chinchier', '<semipervious', '<climates', '<bitingness', '<rewirable', '<brookville', '<significatory', '<pedobaptism', '<tjaden', '<noncompliances', '<indicans', '<tearforced', '<adipous', '<rebarbarization', '<lactivorous', '<groutite', '<askings', '<yawhaw', '<desserts', '<ichthyo', '<weazands', '<miscalled', '<calciclase', '<karyenchyma', '<teazelled', '<rascalism', '<crowsfoot', '<sabellidae', '<springfield', '<ascellus', '<coahuila', '<arboral', '<gravelroot', '<preincorporating', '<walbrzych', '<quakier', '<armheaded', '<flus', '<unappreciation', '<camerine', '<satinfaced', '<tolidin', '<outstayed', '<pushrods', '<kumminost', '<beora', '<unni', '<timetable', '<smallshelled', '<gerbils', '<echoes', '<nontheoretical', '<convertism', '<outlove', '<fylgjur', '<priestridden', '<readvocate', '<crutch', '<fauvist', '<devoir', '<yarth', '<nondisparaging', '<irreparable', '<postingly', '<appendixed', '<capnoides', '<platanistidae', '<polytyped', '<misdispose', '<cerography', '<ironlike', '<invertors', '<atomology', '<commingling', '<boxings', '<corkish', '<creationistic', '<becarpet', '<antecell', '<attal', '<propitiatory', '<mermis', '<populously', '<circumstances', '<lump', '<catharina', '<sanities', '<fille', '<stormtide', '<cranage', '<craylet', '<flaminius', '<verseman', '<spearwood', '<cylindricalness', '<sweethearted', '<cutisector', '<dulls', '<scuppering', '<hepatoenteric', '<autosomatognostic', '<hematocyanin', '<tetronic', '<anthocarpous', '<filatures', '<goodbys', '<gaedown', '<reshape', '<helmetpod', '<seabound', '<wifetobe', '<goochland', '<overlay', '<undiscouraged', '<sturkie', '<intentions', '<scirrhogastria', '<predental', '<mandora', '<discocarpium', '<metaurus', '<launderability', '<mosshorn', '<unexpected', '<landgavel', '<worldpardoned', '<dromotropic', '<vanaheim', '<ultraenglish', '<ototoi', '<paulinity', '<cogovernment', '<hooge', '<premiere', '<dispossessing', '<divertisement', '<uprush', '<fullfreighted', '<sadomasochists', '<backlight', '<zantewood', '<expenses', '<dishiest', '<waterfowler', '<sphaeroma', '<punkish', '<sweetfish', '<gideonite', '<allegiance', '<disrespect', '<pleo', '<clothsmoothing', '<bubukle', '<eott', '<erotogeneses', '<selfdirecting', '<sweatt', '<cohobated', '<vermilion', '<quints', '<andromonoecious', '<shuddery', '<suberises', '<sequestrums', '<neurasthenias', '<unvoluptuously', '<embarge', '<proponent', '<meakem', '<amblyopic', '<coercions', '<slopesided', '<hanapepe', '<oologically', '<proresearch', '<replications', '<specialities', '<spiketooth', '<bolboxalis', '<faradays', '<kenotron', '<inquirance', '<supersoft', '<omniscriptive', '<doublebedded', '<xurel', '<tolzey', '<synonym', '<confitent', '<nidifier', '<ringfinger', '<soapboiler', '<graynesses', '<placingout', '<armfuls', '<sheaving', '<centrifugalization', '<gentlemenpensioners', '<alcahests', '<retotal', '<cordaitaceae', '<fallowdeer', '<unpredictedness', '<pomarine', '<exminister', '<metencephalon', '<endotheliomas', '<bumpingly', '<asterisked', '<exhortatively', '<uncontemplated', '<exceptant', '<unteaselled', '<msd', '<archpretender', '<crowsilk', '<handcrushed', '<tentacula', '<henyard', '<riksdaalder', '<gangbang', '<impingement', '<costosuperior', '<whitetusked', '<autophagia', '<dendral', '<pregeorgian', '<rolypoliness', '<prickeared', '<bohr', '<encyst', '<pharo', '<hypochloremic', '<concert', '<encrusting', '<selfexplaining', '<dupes', '<diglyph', '<loxias', '<tempyo', '<inertial', '<cycloramas', '<manba', '<polarisable', '<ofttimes', '<devise', '<uncompassionate', '<coped', '<intermixt', '<postvaccinal', '<sluggishnesses', '<franciscus', '<symbolater', '<straightfront', '<blowoffs', '<acosmism', '<unlusting', '<orgiasm', '<autodecomposition', '<settledly', '<egyptogreek', '<graecize', '<antistadholder', '<grundel', '<carbonless', '<barfed', '<inefficiently', '<yuri', '<pogonip', '<coonjine', '<anagrammed', '<minny', '<ineradicably', '<unspaniardized', '<rattraps', '<incontaminateness', '<cabler', '<protocerebral', '<cozenage', '<fronton', '<agitable', '<toothextracting', '<pleiomery', '<barnesville', '<jacinda', '<nomenclator', '<rudimentarily', '<abbaye', '<nooscopic', '<polypore', '<enamors', '<headcap', '<dacryohelcosis', '<wetterhorn', '<allpreventing', '<unpoetical', '<carryings', '<misspoken', '<fub', '<equirotal', '<illjudging', '<braggy', '<synalephe', '<tirade', '<granitical', '<practicalized', '<paludicole', '<hypotarsal', '<autodestruction', '<encarpium', '<subsign', '<pollinia', '<dormy', '<demythologization', '<forwardnesses', '<yelmer', '<semisocinian', '<scopulipedes', '<centavo', '<inapprehensible', '<bathochromy', '<airproofed', '<woolhat', '<insphere', '<philoxygenous', '<bawarchi', '<soupling', '<missend', '<excommunicator', '<epiphenomenalism', '<scornfulness', '<endaseh', '<scullduggery', '<hum', '<stratifies', '<grippleness', '<malkah', '<intoner', '<ecblastpsis', '<inesculent', '<goldbrick', '<virgula', '<wasps', '<nightfish', '<ostensively', '<hypersensitivity', '<narcomania', '<mesenchyma', '<joulean', '<tamarisks', '<presages', '<brownouts', '<congenialities', '<fusulas', '<nonflawed', '<catheti', '<spirale', '<archivault', '<preconditioned', '<palered', '<nonrenunciation', '<rsu', '<vania', '<pratfalls', '<disprized', '<holinight', '<whitlash', '<wilfully', '<pickler', '<supratemporal', '<nayaur', '<wellequipped', '<pursebearer', '<cryptomerous', '<stackful', '<mannopus', '<deepflewed', '<pentace', '<peasantries', '<nonhectic', '<blowlamp', '<yellowness', '<unenlisted', '<dumfounding', '<perezone', '<foulest', '<prenotified', '<hering', '<sterculia', '<winks', '<subcardinal', '<undoctrined', '<inspectorship', '<fourdimensional', '<soupspoon', '<nonstandard', '<oligaemia', '<nakhlite', '<acyclic', '<auntsary', '<bonheur', '<filigrained', '<latesacked', '<primitiveness', '<zogo', '<chort', '<alkaloids', '<subconjunctival', '<luteous', '<thickfooted', '<qiviut', '<sorrowbreathing', '<stikine', '<pollera', '<peritonealized', '<required', '<thwittle', '<isocracy', '<wynd', '<nonscriptural', '<aldwin', '<jardinieres', '<oenochoae', '<pavilion', '<dolisie', '<inburnt', '<pelikai', '<rubberised', '<bopeep', '<mediatrixes', '<exceptionality', '<caliginously', '<phlebarteriectasia', '<blares', '<calcitic', '<upflung', '<nonempathic', '<anticonventional', '<odoom', '<orthoceratitic', '<prerational', '<proindustrial', '<pigswill', '<aneurin', '<karwan', '<diluting', '<coracoprocoracoid', '<haemocyanin', '<manderelle', '<sportmaking', '<inconfusedly', '<phyllocyst', '<blightbird', '<unibasal', '<eventration', '<lucked', '<psorospermosis', '<mottled', '<rems', '<archerfishes', '<proettes', '<lanceproof', '<rearend', '<dunderfunk', '<vindhyan', '<cotterel', '<dogtired', '<halobios', '<theogamy', '<addressing', '<arsacidan', '<manson', '<postradiation', '<twagger', '<constipation', '<janissary', '<nephrotyphus', '<safko', '<direful', '<espundia', '<bravuras', '<seaserpent', '<unsignificative', '<snicker', '<pikesville', '<asymptotically', '<lucrezia', '<spunk', '<angloamerica', '<kantian', '<premising', '<napoleon', '<tapul', '<scopola', '<buddleman', '<soulfully', '<radiophonic', '<amentias', '<sargo', '<bellemina', '<eavesdrop', '<amorousnesses', '<testimonializer', '<savorer', '<buhlwork', '<cohol', '<mushed', '<magistratical', '<movent', '<foxship', '<escutellate', '<illusible', '<increased', '<ondogram', '<niece', '<violetgreen', '<taliera', '<revalues', '<sxs', '<tagore', '<boling', '<perroquet', '<crucianella', '<oglers', '<sixty', '<wrinkleless', '<malacodermidae', '<lows', '<pontanus', '<ulitis', '<answerer', '<orellin', '<wellplumaged', '<overdignifying', '<hyperaspist', '<neediness', '<sixwheel', '<lala', '<gesnerad', '<ceasmic', '<overmedicating', '<scapha', '<admissory', '<azerbaijanese', '<sieurs', '<caboched', '<soncy', '<impelled', '<rolo', '<ocr', '<multiloquent', '<superaffluence', '<deprome', '<bromaurate', '<rhymeless', '<misexplicate', '<standin', '<etka', '<adaurd', '<pejorism', '<sabs', '<feminism', '<feversmitten', '<botryopteris', '<leatherwork', '<hyperreverential', '<precollector', '<gorgoneum', '<epagogic', '<paramylum', '<scorner', '<undercarved', '<nitrobenzol', '<mindsick', '<communisation', '<talesman', '<camala', '<thunderstorms', '<christianize', '<ureteritis', '<tridiurnal', '<paralepsis', '<gratelike', '<unkennel', '<zesty', '<misvalue', '<osteodynia', '<mildrid', '<knitting', '<hindostani', '<trackings', '<gynandrarchic', '<cohabitation', '<chinny', '<raconteuses', '<exanguin', '<tritanope', '<oinomania', '<underskirts', '<tenementer', '<whitewashes', '<paradental', '<embezzled', '<papern', '<twibills', '<joette', '<underface', '<conscientiousness', '<infinitesimalism', '<venero', '<scandinavia', '<enumerations', '<recubant', '<complacence', '<incomprehension', '<carboned', '<onamia', '<willowed', '<sakhalin', '<pep', '<murrelet', '<bishopling', '<hyeres', '<krautweed', '<iraq', '<unprudentially', '<casabas', '<unhypnotising', '<transferrable', '<selfevidence', '<regalness', '<phyllopteryx', '<elsewheres', '<belaites', '<philanthropize', '<mezzomezzo', '<orchichorea', '<schoolgoing', '<unrevolting', '<subepiglottal', '<conservator', '<wallboard', '<chrysaline', '<honoria', '<unprofessionalism', '<unableness', '<tedesche', '<goo', '<reorganizes', '<talked', '<coriparian', '<lld', '<crownation', '<womanises', '<infecund', '<befilmed', '<talismans', '<ligulin', '<taney', '<prealkalic', '<openmarket', '<beguilements', '<kagera', '<ride', '<egyptianisation', '<ultragerman', '<bisector', '<haruspicy', '<inthewool', '<dogaressa', '<doughiness', '<platy', '<blastochyle', '<triodontes', '<inoxidized', '<vaporised', '<gatewood', '<uneatable', '<mesoperiodic', '<adipocyte', '<thrist', '<graytoned', '<erythroxylaceae', '<renal', '<unfouled', '<expectancies', '<unelectrically', '<morinaceae', '<luridly', '<kinsmen', '<konia', '<waistband', '<pyridoxamine', '<caprifoliaceae', '<serabend', '<debite', '<fervescence', '<carbon', '<abaciscus', '<thiazides', '<quicksteps', '<superjudicial', '<oakmoss', '<polychotomous', '<unpulverize', '<gelatos', '<phreneticness', '<electroendosmose', '<antiauxin', '<jingoed', '<endophlebitis', '<kiddos', '<enthronements', '<posterior', '<phreno', '<icelandian', '<alinit', '<villianesses', '<palaeothere', '<coequals', '<mishumility', '<pharyngealized', '<baroxyton', '<pectinated', '<widechapped', '<waxworks', '<dogfoot', '<appalling', '<delouse', '<sloopman', '<toadspotted', '<xenocratic', '<qintar', '<flabbergast', '<hebetomy', '<cumflutter', '<backwind', '<quasiknowledgeably', '<quasirespectfully', '<puritano', '<gibberellin', '<profaculty', '<squamipinnes', '<horsecart', '<florence', '<plossl', '<organicalness', '<perosomus', '<latterday', '<holoptychius', '<woolskin', '<parliamentarian', '<uaw', '<quahog', '<polysemantic', '<stupefies', '<aboardage', '<dopant', '<cauld', '<ineloquent', '<vanatta', '<criance', '<dorothee', '<selfdom', '<oahu', '<justino', '<cistercian', '<brightfaced', '<nonna', '<rhinotheca', '<thickflanked', '<gymnasiums', '<darryn', '<apimania', '<asterixis', '<rights', '<powderpuff', '<sauteing', '<connubiality', '<rebeca', '<avellane', '<alife', '<saberlike', '<ileectomy', '<twiceimposed', '<slipband', '<noninjuriously', '<churchful', '<dorsimedian', '<hyne', '<halfaristotelian', '<millenist', '<pantihose', '<glutathione', '<moony', '<nonverbally', '<tibialis', '<decussis', '<dulcitone', '<parigenin', '<hotdrew', '<tiersten', '<protensively', '<bendite', '<pupiparous', '<laterotemporal', '<bedaggered', '<tritoness', '<krantz', '<vermeologist', '<smellage', '<joust', '<macguiness', '<oblational', '<eldfather', '<ungroined', '<dolabriform', '<deflected', '<bearded', '<silicates', '<photogenous', '<ascophorous', '<strobes', '<frizette', '<brixey', '<dolton', '<feyly', '<wellfraught', '<repolished', '<cetera', '<vintneress', '<unenkindled', '<phimoses', '<engarb', '<iapygii', '<amaranthine', '<lhospital', '<imbibed', '<kornerupine', '<tbar', '<hairraiser', '<solzhenitsyn', '<madra', '<panhysterectomy', '<romilly', '<reconciling', '<stifler', '<resonances', '<porcupinish', '<cumulovolcano', '<harmfulness', '<conchospiral', '<sheathless', '<opisthobranch', '<underscore', '<largebodied', '<savviest', '<msgmgt', '<selfinflicted', '<buttercutting', '<nyberg', '<freehandedly', '<overbitterly', '<ug', '<emmeleia', '<inflorescence', '<recommitted', '<reappoint', '<toddick', '<decarboniser', '<overholiness', '<perinephria', '<acontium', '<underbutler', '<rewrapping', '<pigmew', '<fellowsoldier', '<overrigorous', '<paleobotanist', '<corresponds', '<nonuple', '<carty', '<cutbank', '<canezou', '<wiriness', '<purins', '<sfree', '<seymeria', '<gymnospermal', '<isbella', '<deckels', '<phosphorus', '<nietzscheanism', '<splenoid', '<redolent', '<euryzygous', '<sailpropelled', '<jargonised', '<jointureless', '<miscuing', '<claspingleaved', '<venerably', '<yaffs', '<reenlisting', '<louster', '<novice', '<violle', '<fiden', '<comico', '<befooled', '<lifedestroying', '<indofrench', '<ineffectualnesses', '<chimneyless', '<bomos', '<noell', '<silvia', '<nannybush', '<rhomboideus', '<lecanine', '<autumns', '<varietism', '<chockfull', '<selfconsequent', '<notepaper', '<coagulants', '<laceman', '<granting', '<unwheeled', '<lecoma', '<hepatorrhoea', '<bibliotic', '<bureaucratically', '<eluviating', '<pseudoparesis', '<vitriol', '<enterography', '<sclero', '<freyr', '<duplicability', '<boysenberries', '<dagame', '<osteoclasia', '<dodecanese', '<metamer', '<acoelomata', '<waldheim', '<maculopapular', '<penhall', '<nonsystematic', '<videocassettes', '<goliards', '<cathartes', '<reassembly', '<disfavourable', '<bises', '<trollope', '<isoclasite', '<rascals', '<excubitorium', '<backwoodsiness', '<bishoping', '<insafety', '<cannanore', '<bacach', '<nonelucidation', '<unchildishness', '<forkfuls', '<cancrid', '<loveless', '<slatternness', '<swabia', '<levirate', '<manicured', '<montadale', '<soakers', '<irrenunciable', '<depancreatization', '<tungate', '<silklike', '<logomach', '<presidium', '<urds', '<lacernas', '<nitta', '<purchasing', '<poynting', '<procyoninae', '<unbenignness', '<easterner', '<temeritous', '<suppositionally', '<quippish', '<epimeres', '<prothalamiumia', '<outprying', '<bourgeon', '<sweetsounded', '<zep', '<darrick', '<wildwarbling', '<bullville', '<thunderstone', '<referment', '<storial', '<nihilitic', '<salmontrout', '<antipasto', '<correctioner', '<proglottid', '<starwort', '<didactician', '<monotonically', '<milldale', '<lipometabolic', '<abstentionist', '<compromission', '<sealost', '<albespine', '<standardise', '<hotheadedly', '<mishandles', '<selzogene', '<eozoic', '<quaintworded', '<chinaberry', '<pitless', '<reassimilates', '<gibsonia', '<unadventuring', '<detruncated', '<anthropophagus', '<nicasio', '<scatoscopy', '<resprings', '<sassing', '<precancellation', '<clearvisioned', '<hippiest', '<matriarchist', '<stiddy', '<polik', '<powerless', '<stabroek', '<curtailedly', '<snarlish', '<inundates', '<emigration', '<unapproaching', '<asr', '<alebench', '<paracrostic', '<meute', '<ciapas', '<selfcocker', '<colleaguing', '<interwove', '<bechalked', '<horripilate', '<musketeer', '<orlena', '<myalism', '<ticklish', '<encyclopediast', '<ploughwright', '<excresce', '<stockmaker', '<prosecting', '<shinplaster', '<selforiginating', '<archdeacons', '<lefsel', '<dogmatised', '<bekelja', '<warpowers', '<enfranchiser', '<intolerantly', '<wataps', '<mandoline', '<geest', '<eula', '<cerracchio', '<ducape', '<counterstroke', '<shortages', '<beforetime', '<overjudgment', '<untrustiness', '<patterning', '<quasidistantly', '<salutatories', '<naima', '<treponematosis', '<zostera', '<tallapoi', '<intermiddle', '<polymorphisms', '<equiangle', '<broad', '<pseudodementia', '<fatbrained', '<widthwise', '<worldpreserving', '<pseudolinguistic', '<kbar', '<jeopardies', '<uncrumbled', '<chariot', '<krystin', '<ablute', '<mexia', '<thingsinthemselves', '<inaquate', '<frettation', '<neurohistology', '<overpromptness', '<ultrafastidious', '<yamp', '<firelipped', '<bucksaw', '<faconne', '<pretired', '<kukluxism', '<welltenanted', '<unexcepted', '<assentatious', '<sousou', '<antonietta', '<overlogical', '<steff', '<northwards', '<haemophiliac', '<voltohmmilliammeter', '<xylographer', '<canby', '<kinghunter', '<extensible', '<auriol', '<figo', '<ironbraced', '<portability', '<chlorprophenpyridamine', '<regranted', '<cracker', '<thurio', '<leeuwarden', '<cowshard', '<pseudophellandrene', '<sepultural', '<furies', '<hookeron', '<cadism', '<overwrites', '<gc', '<goodfield', '<fillerup', '<curlytoed', '<tunable', '<liverworts', '<reg', '<facileness', '<chrisoms', '<lonouhard', '<halfsubmerged', '<unbequeathable', '<mythogreen', '<highboiling', '<merriness', '<micella', '<trefoilwise', '<chidester', '<embolismic', '<citify', '<hadada', '<halfsole', '<perforators', '<nondiffidently', '<apostemate', '<unvizarded', '<biforin', '<mitises', '<tradegild', '<sortance', '<stomachachy', '<pommeling', '<playmare', '<amblygeusia', '<sparrowless', '<unbrace', '<yamstchik', '<hasht', '<kolos', '<polyctenid', '<transplacement', '<slushcast', '<pachydermial', '<brothier', '<microcircuit', '<mandataries', '<semisecrecy', '<airconscious', '<antineologian', '<palimpset', '<penuchles']\n",
            "['pivotable>', 'thiocresol>', 'trumpedup>', 'antielectrons>', 'allelisms>', 'goelism>', 'uninebriatedness>', 'dolorifuge>', 'casewood>', 'sympathetectomies>', 'ebbed>', 'monokini>', 'sward>', 'necklike>', 'busti>', 'geneticism>', 'rabbinistic>', 'extensionalism>', 'euripos>', 'claustration>', 'electromobilism>', 'goodless>', 'sulfite>', 'invalidated>', 'ciliotomy>', 'windages>', 'philadelphia>', 'tepidarium>', 'videodisk>', 'nighness>', 'boyang>', 'conceptualizations>', 'underratement>', 'jugglers>', 'overemphasized>', 'betonies>', 'plebicolous>', 'kentishmen>', 'disaffectation>', 'jayess>', 'quasimythical>', 'pondweeds>', 'harry>', 'tibbit>', 'forspoken>', 'ldl>', 'normanist>', 'ideolatry>', 'kelly>', 'marshman>', 'motorcab>', 'despairing>', 'pontificality>', 'carrington>', 'dzoba>', 'reorder>', 'depictured>', 'handmaid>', 'ruddling>', 'cordylanthus>', 'suspecting>', 'hadassah>', 'haphtaroth>', 'kure>', 'entreater>', 'unstowed>', 'denationalization>', 'entrancingly>', 'rubbishly>', 'bha>', 'unevocative>', 'consentingness>', 'chloris>', 'gaffing>', 'strident>', 'phelonions>', 'overintensifying>', 'braciolas>', 'nonedibility>', 'radioprotective>', 'chastised>', 'bricklay>', 'monseignevr>', 'concertize>', 'prejudicative>', 'thermogalvanometer>', 'wuzzer>', 'promoters>', 'landaus>', 'saxony>', 'anticensorial>', 'bolas>', 'lauren>', 'gaultherase>', 'halfvisible>', 'understrain>', 'nondiastatic>', 'spruced>', 'wasters>', 'receptive>', 'submania>', 'ornoite>', 'squedunk>', 'angloirishism>', 'holometabolian>', 'swatted>', 'lobules>', 'unquert>', 'partakable>', 'preshipped>', 'superelastically>', 'sheepsteal>', 'nonpareils>', 'ikkela>', 'chromatodysopia>', 'elsi>', 'caingwhale>', 'luzerne>', 'arguslike>', 'uplay>', 'nighdrowned>', 'soluble>', 'subducing>', 'accidently>', 'interpolater>', 'simpletonianism>', 'eyeful>', 'unegoistically>', 'roughhousing>', 'icecutting>', 'thuja>', 'barbarity>', 'violinistic>', 'curara>', 'stonecoated>', 'baphia>', 'lucian>', 'earthmove>', 'cryobiologically>', 'greed>', 'braehead>', 'berlichingen>', 'eburna>', 'coverless>', 'irrigative>', 'wheelbroad>', 'nonautonomous>', 'caseworms>', 'micromechanics>', 'daphnia>', 'nonbetrayal>', 'ketosuccinic>', 'backpedaled>', 'syntactician>', 'misfiles>', 'endocranium>', 'reps>', 'heddle>', 'quinoline>', 'metreship>', 'unrevengefulness>', 'shreading>', 'esonarthex>', 'marcelline>', 'miseration>', 'unprovableness>', 'unproportionality>', 'granitoid>', 'dragee>', 'piacenza>', 'ajani>', 'yttrocolumbite>', 'stridhana>', 'hermitlike>', 'teaboard>', 'synthetist>', 'clarts>', 'putterer>', 'firstcomer>', 'serrefile>', 'opsonize>', 'supervenosity>', 'fullfloating>', 'quasiinferior>', 'coomy>', 'probates>', 'olfactive>', 'unpuzzled>', 'unbottling>', 'lulavim>', 'pseudoneuropterous>', 'murmured>', 'gop>', 'aldermanate>', 'largediameter>', 'suicidology>', 'jockteleg>', 'overcomer>', 'neuromastic>', 'stomal>', 'middiastolic>', 'shrew>', 'hanapers>', 'rupicolous>', 'rheotan>', 'soemba>', 'revilingly>', 'indescribably>', 'economizes>', 'millifarad>', 'ionospheric>', 'polacre>', 'lapin>', 'highmuckamuck>', 'historiology>', 'protomammalian>', 'bird>', 'cashmere>', 'neurovisceral>', 'swedenborgianism>', 'blennophobia>', 'divines>', 'immensive>', 'epidermophyton>', 'anhydridization>', 'sexdigitism>', 'peccant>', 'orthonormality>', 'foundling>', 'geological>', 'patashte>', 'foreworn>', 'camisole>', 'antisemite>', 'bibl>', 'soonconsoled>', 'differentiable>', 'enthrallingly>', 'ahmed>', 'ptochocracy>', 'autota>', 'seigniorage>', 'phobos>', 'digestively>', 'unreigning>', 'engracing>', 'overchill>', 'reapproachable>', 'islam>', 'spaewife>', 'antimask>', 'faultlessness>', 'cassella>', 'hurlbat>', 'contraposaune>', 'encourager>', 'bymatter>', 'eurindic>', 'chapper>', 'lissamphibia>', 'defoil>', 'hangfires>', 'smutchless>', 'dispicion>', 'pseudoapoplectical>', 'dehgan>', 'acyloin>', 'bds>', 'shiggaion>', 'monitary>', 'twicewished>', 'nuris>', 'covellite>', 'daphne>', 'unfavouring>', 'avenged>', 'erythematic>', 'romantically>', 'hornfish>', 'payday>', 'charming>', 'tridecane>', 'ophthalmist>', 'somaliland>', 'overwilily>', 'diestrual>', 'unsacrificeably>', 'israfil>', 'capacitors>', 'usherless>', 'nonobjective>', 'runch>', 'loa>', 'befalls>', 'tizzies>', 'helicities>', 'fleecewhite>', 'dukhn>', 'stereostatics>', 'believingly>', 'metalcraft>', 'aquarii>', 'alnus>', 'hearkener>', 'ultranet>', 'nonderivability>', 'santoninic>', 'azoturias>', 'aromaticness>', 'payably>', 'coercends>', 'yardbroad>', 'missort>', 'thyrohyal>', 'rootbuilt>', 'attapulgite>', 'whom>', 'xs>', 'longheads>', 'estop>', 'policy>', 'hemilingual>', 'subtasks>', 'fondants>', 'jelena>', 'personalized>', 'omnipresence>', 'bodymaker>', 'quasipupillary>', 'parafloccular>', 'supererogation>', 'sootbespeckled>', 'donetta>', 'wittering>', 'impedient>', 'handpost>', 'redbeaked>', 'assegaied>', 'counterclassifications>', 'runtier>', 'deprogrammers>', 'cleuch>', 'comprised>', 'freelancer>', 'listenings>', 'dinky>', 'autoagglutination>', 'goodfornothingness>', 'inquisitorially>', 'seeings>', 'unpessimistic>', 'rousseauism>', 'revince>', 'zootomical>', 'threadless>', 'dormition>', 'sparkplug>', 'highriser>', 'kernoi>', 'ceert>', 'jell>', 'whirl>', 'dolcissimo>', 'acceptingness>', 'unparticipating>', 'daylily>', 'oestrous>', 'stoopers>', 'courche>', 'prefashion>', 'indimple>', 'sulphurousness>', 'mucousness>', 'emerge>', 'millibars>', 'bakingly>', 'saxophones>', 'saddlegraft>', 'overfeeds>', 'equiarticulate>', 'mandalay>', 'gudok>', 'lothsome>', 'protozoon>', 'triratna>', 'oldfogyism>', 'cryptogrammatist>', 'unetymologizable>', 'bloodcolored>', 'diphosphate>', 'martingales>', 'nonpapist>', 'alogism>', 'filmer>', 'trackhound>', 'drew>', 'antediluvial>', 'erythropenia>', 'communicatee>', 'pregranitic>', 'uncurls>', 'dianthe>', 'leath>', 'djerib>', 'hairylegged>', 'prefocussed>', 'brannew>', 'fairing>', 'dickson>', 'bewailingly>', 'toscana>', 'member>', 'postmedullary>', 'marplot>', 'exophagy>', 'fructuarius>', 'magnesial>', 'ligniperdous>', 'hosteled>', 'strickenly>', 'bfr>', 'frotteurs>', 'synaeresis>', 'commorse>', 'biogas>', 'inglebred>', 'revisions>', 'introductions>', 'shellmonger>', 'unreticent>', 'moistnesses>', 'inspectoral>', 'cinephotomicrography>', 'desorbs>', 'involatile>', 'overnoveled>', 'tuant>', 'odontalgia>', 'otalgia>', 'curers>', 'newfoundland>', 'reoffend>', 'oboyle>', 'mandarining>', 'pretransaction>', 'boomslange>', 'sandhemmed>', 'plethron>', 'lachrymous>', 'shrimpy>', 'brazenmailed>', 'puddled>', 'enduring>', 'journalistic>', 'nereidous>', 'nonimpressionable>', 'fullout>', 'acquisible>', 'travesty>', 'unassailability>', 'pansophical>', 'likened>', 'outthrusting>', 'oclc>', 'significate>', 'angary>', 'maar>', 'fixtures>', 'espied>', 'cremule>', 'antialbumin>', 'gongoresque>', 'shoggyshoo>', 'seashell>', 'impreg>', 'fluence>', 'milkandwater>', 'mcgean>', 'talegallus>', 'bernstein>', 'thioguanine>', 'prebenefiting>', 'poteye>', 'agnized>', 'coagulators>', 'varangi>', 'obligee>', 'sixcylindered>', 'isogenous>', 'pitchable>', 'unrotten>', 'spokeless>', 'undertuning>', 'cageron>', 'understock>', 'tripodal>', 'porkfishes>', 'tereus>', 'bisti>', 'flouted>', 'melodias>', 'dijudicant>', 'salinized>', 'brolga>', 'noncontentious>', 'melodramaticism>', 'wellagreeing>', 'manhole>', 'griddled>', 'lingam>', 'sodalite>', 'semiquadrantly>', 'irreligiousness>', 'phthirius>', 'seuss>', 'unwearied>', 'seamanly>', 'brattleboro>', 'knobbing>', 'eleaneretrian>', 'motionpicture>', 'mackereling>', 'transferase>', 'ocellicyst>', 'nonassertion>', 'counterseal>', 'aframerican>', 'goasyouplease>', 'unschizophrenic>', 'ferneries>', 'kemperyman>', 'buttermere>', 'orcus>', 'archdruid>', 'koreishite>', 'racketeer>', 'leavitt>', 'issuers>', 'scusation>', 'holotonic>', 'nerveridden>', 'oribella>', 'oliy>', 'byliny>', 'salpingostomy>', 'cowpokes>', 'queing>', 'fucales>', 'darleen>', 'downtheline>', 'intranidal>', 'dolichos>', 'excoct>', 'petta>', 'cataria>', 'comprized>', 'lepidotic>', 'asperugo>', 'tugboatmen>', 'antienthusiast>', 'nonconcession>', 'sire>', 'twiceseparated>', 'incarnational>', 'ultraconcomitant>', 'chondrodystrophy>', 'meterological>', 'supprise>', 'bushy>', 'philosophised>', 'gobbler>', 'monthly>', 'mein>', 'peacetime>', 'deicide>', 'alcyones>', 'enweave>', 'querulosity>', 'beseechingly>', 'sempitern>', 'mesenchymatal>', 'dynamogenic>', 'nondetractive>', 'foamborn>', 'theomythologer>', 'oza>', 'souter>', 'underpull>', 'tawsha>', 'entomology>', 'indoctrine>', 'photographable>', 'nonextinguished>', 'smoothcrested>', 'dharmic>', 'dialogize>', 'ephphatha>', 'nigrities>', 'neocosmic>', 'competitively>', 'overcriticize>', 'devolatilise>', 'athymy>', 'anabrosis>', 'halfromantic>', 'doubleloathed>', 'panelwork>', 'pleasing>', 'anarchical>', 'armourpiercing>', 'sungazing>', 'persulphate>', 'thermotropy>', 'walnuts>', 'portahepatis>', 'congruency>', 'delacey>', 'surma>', 'senso>', 'goldfinny>', 'otogyps>', 'nonspirituous>', 'srac>', 'segreant>', 'renewals>', 'moltenly>', 'conception>', 'bromo>', 'lacunose>', 'benefit>', 'dubitable>', 'semiosis>', 'deprez>', 'accessable>', 'misconjecture>', 'noli>', 'praisewinning>', 'nongovernment>', 'daedalidae>', 'unomniscient>', 'interdependence>', 'marcionite>', 'stonished>', 'impeachments>', 'ivoryheaded>', 'galabiya>', 'symphonising>', 'dermatophytosis>', 'cupule>', 'infracentral>', 'hilloas>', 'charleroi>', 'bendee>', 'moniz>', 'cib>', 'skokomish>', 'semanticists>', 'dibasic>', 'kendry>', 'abouchement>', 'mildnesses>', 'etacism>', 'meleagridae>', 'ulcerations>', 'beewort>', 'vituperative>', 'stoops>', 'stygiophobia>', 'precarious>', 'fargood>', 'manufaction>', 'museums>', 'splintbottom>', 'cakemaking>', 'neverlasting>', 'sienna>', 'familiarness>', 'flamefeathered>', 'cartographic>', 'breskin>', 'abolished>', 'clypeastrina>', 'borecole>', 'paritor>', 'permittance>', 'steakhouse>', 'magnifier>', 'counterengine>', 'ku>', 'portligature>', 'hymettian>', 'electrophorus>', 'sunless>', 'coumaran>', 'hawkbilled>', 'puttie>', 'spending>', 'algerian>', 'falerii>', 'medicine>', 'floured>', 'cgn>', 'cozinesses>', 'mantras>', 'craker>', 'lapidates>', 'pulchritudes>', 'synthronoi>', 'unlessoned>', 'taxaspidean>', 'bouillabaisse>', 'italianly>', 'cysatus>', 'sheepberries>', 'aedility>', 'shortstaffed>', 'unpatiently>', 'perfectionation>', 'savants>', 'prestidigitation>', 'trivirgate>', 'lau>', 'agapemonist>', 'bowable>', 'volata>', 'bopp>', 'tinerer>', 'ascititious>', 'exorbitancy>', 'effectualnesses>', 'flatbosomed>', 'nosologist>', 'cacophonical>', 'monopteron>', 'arctisca>', 'kellie>', 'marrano>', 'countercouchant>', 'halfsilk>', 'lateronuchal>', 'auriflamme>', 'nosite>', 'asahikawa>', 'entrepreneurs>', 'unchristianity>', 'avra>', 'nonflagrance>', 'deedsville>', 'chairborne>', 'sympathicoblast>', 'anisokonia>', 'strikebound>', 'brownarmed>', 'ignitive>', 'bergamee>', 'mckuen>', 'necrotype>', 'forecastles>', 'chondrilla>', 'bribefree>', 'needfire>', 'monoservice>', 'nondeluding>', 'alaskas>', 'rootstock>', 'exsiccant>', 'alleyways>', 'seminegro>', 'nuculid>', 'demythologizer>', 'blazons>', 'boshboks>', 'dacryosolenitis>', 'rimation>', 'vaishnavism>', 'equable>', 'nonevadible>', 'besmuts>', 'spondylodymus>', 'fordays>', 'microbicidal>', 'dishouse>', 'radiotransparency>', 'mitigates>', 'splashdown>', 'flatvisaged>', 'kinking>', 'coreveler>', 'phasic>', 'goodo>', 'vicewardenry>', 'crestal>', 'puce>', 'lac>', 'aegagrus>', 'electrothermics>', 'tyromas>', 'inhalators>', 'unidealized>', 'ptyalectases>', 'cinerator>', 'partisanry>', 'chondromucoid>', 'opalescing>', 'skeptics>', 'embracingly>', 'skates>', 'montana>', 'whitefelled>', 'understrewed>', 'yakker>', 'betafite>', 'antineutrons>', 'pseudopodial>', 'trinerved>', 'narcotist>', 'spouthole>', 'cylindricoblong>', 'progenitorial>', 'maurene>', 'batteried>', 'darkprisoned>', 'sweepstakes>', 'photostats>', 'epazote>', 'wowsery>', 'ungrammatically>', 'withinwards>', 'ain>', 'muysca>', 'syzygium>', 'anticensorship>', 'meatic>', 'zoomorphic>', 'tortillas>', 'agamont>', 'drypaved>', 'aestus>', 'ilke>', 'thickshelled>', 'unbreath>', 'nonuniformist>', 'experiences>', 'onstand>', 'calabresi>', 'mincedpie>', 'rescounter>', 'printable>', 'celebrant>', 'lucarne>', 'preponderancy>', 'researcher>', 'sweepback>', 'nonguilt>', 'unhelp>', 'montaged>', 'anisocotyly>', 'postsigmoidal>', 'houghite>', 'discrownment>', 'jargonizing>', 'foxcroft>', 'foreshank>', 'chytridiaceae>', 'pewfellow>', 'forasmuch>', 'turflaid>', 'oop>', 'sanable>', 'monarchic>', 'heliotropism>', 'camponotus>', 'overgang>', 'multimammate>', 'lapulapu>', 'retrothyroid>', 'draffier>', 'perissologic>', 'linguistician>', 'dinos>', 'phototelescope>', 'budder>', 'expiator>', 'sniffingly>', 'elderlies>', 'kickabout>', 'silicidize>', 'hoblob>', 'withcall>', 'declasse>', 'wrongdoers>', 'ramblings>', 'sc>', 'sessiliventres>', 'coinweighing>', 'humanely>', 'preplacement>', 'gilmore>', 'obtemperate>', 'seldon>', 'citrinins>', 'concorporate>', 'methadone>', 'nonacidic>', 'unwatermarked>', 'ashiness>', 'crocoite>', 'coele>', 'aboves>', 'discountenancer>', 'perofskite>', 'volitionate>', 'contravention>', 'underwrapped>', 'undecennary>', 'likerous>', 'shoreman>', 'rittock>', 'uncomplimenting>', 'coppersidesman>', 'apostemation>', 'otidiphaps>', 'joni>', 'azteca>', 'bargain>', 'ichthytaxidermy>', 'waterbreathing>', 'achafe>', 'franker>', 'columellar>', 'algates>', 'fuzzyheaded>', 'stenia>', 'tosspots>', 'tradeunionist>', 'outbow>', 'splendescent>', 'disapproves>', 'emphase>', 'rot>', 'buckatunna>', 'nonblamefully>', 'prudy>', 'tonguesman>', 'revive>', 'estreated>', 'lucedale>', 'koranic>', 'cytostatically>', 'alethic>', 'outspout>', 'halts>', 'cutlings>', 'necrophiliac>', 'polyonychia>', 'alienable>', 'adnex>', 'politei>', 'sassella>', 'yellowpinioned>', 'micanopy>', 'megargel>', 'ardently>', 'cleaners>', 'paloverde>', 'superordinated>', 'anglicized>', 'fungo>', 'prenight>', 'macdonell>', 'prothmia>', 'clammer>', 'salpingostomatomy>', 'undiscouragingly>', 'wouch>', 'redeem>', 'representably>', 'snawbroo>', 'urradhus>', 'diprotodontia>', 'stevensville>', 'imbarn>', 'rosetinged>', 'arjay>', 'teenfuls>', 'recorrection>', 'industrial>', 'myophore>', 'citrean>', 'wendelin>', 'danic>', 'wheencat>', 'rekindler>', 'weaselwise>', 'adlar>', 'jenks>', 'anolian>', 'bhaktas>', 'petrovsk>', 'starmonger>', 'sleepfearing>', 'recoct>', 'cloy>', 'southwardly>', 'cleanups>', 'woady>', 'callisteia>', 'biomathematics>', 'hehre>', 'selfchanged>', 'fallowing>', 'barbiturates>', 'bissextus>', 'unebriate>', 'malleinization>', 'acrydium>', 'grewsomely>', 'metasternal>', 'disgulf>', 'superinclusive>', 'nonmicrobic>', 'nonnitric>', 'warkamoowee>', 'scalena>', 'bepainting>', 'thyreotomy>', 'nonexpert>', 'deaconal>', 'nonseriality>', 'foereaped>', 'overargumentative>', 'splenectomize>', 'shado>', 'straddlelegged>', 'graceful>', 'glucolipid>', 'antlophobia>', 'khalkidike>', 'atremata>', 'lusky>', 'byproduct>', 'assassinations>', 'syncing>', 'swiftburning>', 'partialness>', 'polyphonical>', 'garbill>', 'mitigation>', 'comptrollership>', 'noncollectible>', 'subediting>', 'machinely>', 'reggiano>', 'baldachin>', 'bygoing>', 'daddah>', 'savior>', 'nonvintage>', 'immorigerousness>', 'papabote>', 'countesses>', 'fesswise>', 'neufer>', 'schizogenic>', 'rubific>', 'unmeringued>', 'placardeer>', 'smook>', 'algie>', 'demobilised>', 'excalation>', 'coart>', 'bindings>', 'pareiasauri>', 'maziest>', 'nonconfederation>', 'xenochia>', 'beliquoring>', 'endurances>', 'fussbudgets>', 'carminic>', 'ultraviolent>', 'fairhorned>', 'committeeman>', 'modeste>', 'coarbitrator>', 'mamlatdar>', 'dampeners>', 'erde>', 'cowishness>', 'filmsetter>', 'echemus>', 'out>', 'lachlan>', 'koumys>', 'classicise>', 'postimpressionism>', 'sourdough>', 'panesthesia>', 'pittman>', 'tailorwise>', 'toolsi>', 'fibrinogenic>', 'preponderous>', 'larmier>', 'repressurizing>', 'advisership>', 'carlings>', 'tuscarora>', 'grey>', 'satyrion>', 'parasexuality>', 'chinkle>', 'fictions>', 'scalewise>', 'involvedness>', 'telephoners>', 'despr>', 'sylleptically>', 'aureous>', 'multimodal>', 'threated>', 'poikilo>', 'worlddespising>', 'unhastened>', 'welted>', 'hucar>', 'prittleprattle>', 'proleaguer>', 'menacement>', 'volcanist>', 'calendaric>', 'gazetteerage>', 'slowdriving>', 'warranting>', 'tamehearted>', 'bluestone>', 'loupsgarous>', 'trochocephalus>', 'altitudinous>', 'countrification>', 'ticketmaking>', 'aimlessnesses>', 'nonsequaciously>', 'ricebird>', 'smoothbodied>', 'predefined>', 'untubercular>', 'bacteriolysin>', 'deadfrozen>', 'myringotome>', 'cementoma>', 'pd>', 'squidgereen>', 'veep>', 'interruptedness>', 'exhalent>', 'needlecord>', 'exclaims>', 'macintoshes>', 'dilltown>', 'warantee>', 'bepale>', 'apneal>', 'pietistical>', 'perceptional>', 'chondrosteoma>', 'monkship>', 'negligences>', 'populationist>', 'cauliculi>', 'unkindliest>', 'nielloing>', 'nikubori>', 'wair>', 'patti>', 'pettyminded>', 'bitterless>', 'reconstructive>', 'concaved>', 'hineston>', 'dispirit>', 'breechcloth>', 'iaa>', 'lygaeidae>', 'sav>', 'beadswoman>', 'soggily>', 'ragfish>', 'quasireported>', 'twoedged>', 'freit>', 'compartmentalizes>', 'vsop>', 'wrongdoings>', 'hallex>', 'semiprofanity>', 'porcellanidae>', 'petalostemon>', 'comforter>', 'bingham>', 'belitung>', 'dasahra>', 'asnieres>', 'challengable>', 'farolito>', 'philtre>', 'gari>', 'ponderability>', 'anesone>', 'babehood>', 'unappeasedly>', 'chapped>', 'karval>', 'radialize>', 'einhorn>', 'superconservativeness>', 'parvenus>', 'auditorily>', 'hyetal>', 'unmyelinated>', 'arrowsmitten>', 'demiincognito>', 'kinematically>', 'istiophoridae>', 'isoelectrically>', 'opinionated>', 'jes>', 'dispeopler>', 'parotid>', 'tawdrily>', 'polysynthetize>', 'cionotomy>', 'quadratically>', 'vesicoureteral>', 'fewness>', 'tartana>', 'dogproof>', 'outofdate>', 'movie>', 'homousian>', 'monkfish>', 'liberalisation>', 'interrupts>', 'meristematic>', 'archicyte>', 'hersall>', 'moorman>', 'onychomalacia>', 'brushbreaking>', 'livre>', 'whau>', 'leonidas>', 'glaucosuria>', 'phylline>', 'polymaths>', 'soilure>', 'histochemical>', 'worldsized>', 'homograft>', 'dingman>', 'splenodiagnosis>', 'forslow>', 'piedmonts>', 'hexadactylic>', 'noncatechistical>', 'outputting>', 'fraternisation>', 'proline>', 'pdl>', 'bangalow>', 'waterflow>', 'acarocecidium>', 'wudge>', 'auricular>', 'heinousness>', 'proletaire>', 'radiochemically>', 'cobalamine>', 'johnna>', 'disert>', 'trihemeral>', 'undersally>', 'christtide>', 'hyperbole>', 'envire>', 'looked>', 'tendereared>', 'jwanai>', 'subordinate>', 'mudhead>', 'solecises>', 'axseed>', 'handbooks>', 'perturbational>', 'maister>', 'isometry>', 'wellbehaved>', 'impeaching>', 'pasto>', 'approval>', 'syncryptic>', 'coprology>', 'unedge>', 'machar>', 'nonadjunctive>', 'orthogonalizing>', 'uropsilus>', 'reconverse>', 'vaudevillist>', 'salvational>', 'dov>', 'fanner>', 'countermaneuver>', 'superfamily>', 'admissable>', 'aggressor>', 'remedyproof>', 'reproachable>', 'counterbalance>', 'eatables>', 'thorvald>', 'secondar>', 'unavailful>', 'woodpigeon>', 'semitact>', 'notarization>', 'chambered>', 'picnicked>', 'earl>', 'chicota>', 'absorptiveness>', 'nogg>', 'becudgeled>', 'bibliographic>', 'frostings>', 'telecommunications>', 'redhissing>', 'rainbowsided>', 'unlarded>', 'favellae>', 'sulfonal>', 'wrong>', 'affector>', 'matteotti>', 'lidos>', 'osmotically>', 'sink>', 'tetrabromofluorescein>', 'commemorating>', 'beaker>', 'marica>', 'quasiuniversally>', 'amadas>', 'pepi>', 'quasiinformed>', 'pseudodiagnosis>', 'giraud>', 'falsies>', 'stagnecked>', 'supersensitiveness>', 'passings>', 'warrenlike>', 'escapes>', 'hadromycosis>', 'perilled>', 'bize>', 'grassy>', 'perimedullary>', 'influe>', 'pretentiously>', 'sarcosporidia>', 'opec>', 'hines>', 'bibbing>', 'kevon>', 'unwisest>', 'origins>', 'crownets>', 'devilinthebush>', 'influencing>', 'doublebodied>', 'typikons>', 'antiascetic>', 'unttrod>', 'sphygmographic>', 'argumentive>', 'antilecomption>', 'yaketyyakking>', 'overinhibited>', 'provaccination>', 'battiste>', 'sacrificature>', 'nonanarchical>', 'knolkhol>', 'piedpiping>', 'bohuslav>', 'acutiator>', 'bouteloua>', 'laudator>', 'effulgences>', 'assyrian>', 'bemud>', 'kibitzers>', 'oolak>', 'oversensitiveness>', 'peristoma>', 'mydaleine>', 'civicmindedness>', 'strammer>', 'twiceredeemed>', 'flankers>', 'unfashionableness>', 'synthetic>', 'buiron>', 'dewali>', 'superinstitution>', 'parachuting>', 'sagaman>', 'casingin>', 'dreidls>', 'trionychoideachid>', 'epicalyx>', 'dialectologically>', 'erbiums>', 'diploetic>', 'koppas>', 'nonemotional>', 'unantagonisable>', 'ektexines>', 'smokebrown>', 'sessileflowered>', 'coroplastic>', 'diathermies>', 'triazins>', 'unpermissible>', 'nand>', 'meningioma>', 'piracies>', 'petaloidal>', 'backraking>', 'bardling>', 'unjealoused>', 'sonatas>', 'prochronic>', 'lampworker>', 'sclerotia>', 'ballistocardiographic>', 'jacquelyn>', 'reign>', 'disbudding>', 'cayuca>', 'bellowsmaker>', 'peppie>', 'simity>', 'scutation>', 'roquelaures>', 'stoppling>', 'jawfeet>', 'polynome>', 'stioning>', 'darwinists>', 'selfaffrighted>', 'halfdeafened>', 'pachyglossia>', 'archont>', 'loverless>', 'amnic>', 'paleostriatum>', 'murfreesboro>', 'voltaelectrometer>', 'skeptical>', 'coterminal>', 'nonlyric>', 'presuppositions>', 'vulvae>', 'womanwary>', 'championing>', 'giboulee>', 'dirca>', 'johnnyjumpup>', 'outbribes>', 'agonising>', 'nautophone>', 'rarefactive>', 'mesophil>', 'fullminded>', 'homoanisaldehyde>', 'scrubbingbrush>', 'amphithalmi>', 'capot>', 'macpherson>', 'overfluently>', 'procopius>', 'tarrying>', 'galatians>', 'sibilance>', 'jequie>', 'unengraven>', 'keyster>', 'hackneycoach>', 'hexosediphosphoric>', 'deviatory>', 'abatements>', 'refortify>', 'hypnale>', 'cantu>', 'unjovially>', 'sorceresses>', 'saon>', 'ledgeless>', 'vernacular>', 'accordable>', 'longpossessed>', 'curvograph>', 'victoriana>', 'saloon>', 'intensionally>', 'tifter>', 'alesia>', 'maikop>', 'ninkur>', 'quindecagon>', 'hugeproportioned>', 'youngchinned>', 'cello>', 'toggeries>', 'highbrowed>', 'borana>', 'cascading>', 'alderney>', 'godenlightened>', 'aspersively>', 'chickening>', 'demipike>', 'antitraditional>', 'diss>', 'dousers>', 'syncretizing>', 'herself>', 'pauletta>', 'amidosulphonal>', 'eloigners>', 'chancepoised>', 'completions>', 'reformed>', 'vicesecretary>', 'overanalyzes>', 'noblemindedly>', 'overholding>', 'tentstitch>', 'assonants>', 'undenied>', 'yigh>', 'fascia>', 'sucuruju>', 'chathamites>', 'runaway>', 'saururae>', 'wellorganised>', 'ticketing>', 'nudge>', 'orthopathically>', 'grawn>', 'alleniate>', 'harford>', 'myrtleleaved>', 'semiblasphemously>', 'unsister>', 'antipreparedness>', 'coirs>', 'donec>', 'basketmaking>', 'slumlords>', 'tansailed>', 'instrumentate>', 'jasy>', 'usurpature>', 'desmopexia>', 'brighella>', 'stateroom>', 'aspartate>', 'apodeictical>', 'asymptomatic>', 'noninfectiousness>', 'loadstar>', 'autoptical>', 'ricegrass>', 'skewness>', 'preheats>', 'pedatipartite>', 'carpomania>', 'angiolipoma>', 'tatman>', 'nailproof>', 'misinstruction>', 'bagwash>', 'mohrodendron>', 'chronometrically>', 'counterinsurgent>', 'preprint>', 'selfcharging>', 'wellallied>', 'clop>', 'infinitives>', 'sertive>', 'ashli>', 'kobs>', 'cheesiness>', 'slanty>', 'gavottes>', 'tetracoralla>', 'unvendibleness>', 'settsman>', 'nonknowledge>', 'influxion>', 'multisense>', 'amutter>', 'dropmeal>', 'rightcenter>', 'coelacanthini>', 'ganesha>', 'slatback>', 'beefcakes>', 'kloman>', 'callovian>', 'sigmoidorectostomy>', 'topkick>', 'eschatologist>', 'tarsoclasis>', 'aristotelian>', 'pitocin>', 'elections>', 'enantiopathia>', 'scrivings>', 'wrightsboro>', 'pumice>', 'phrygianize>', 'illustrated>', 'unexcommunicated>', 'lithest>', 'unhatched>', 'illtempered>', 'forecited>', 'heptagynous>', 'unrepulsively>', 'reevacuated>', 'dinkey>', 'outglares>', 'serpigo>', 'spreckle>', 'acrocyanosis>', 'lemuria>', 'lavandero>', 'pauropoda>', 'rhv>', 'unprosodic>', 'mewl>', 'dupping>', 'twiceresisted>', 'opponency>', 'proserpinaca>', 'enantiomorphism>', 'codons>', 'sesma>', 'trillibub>', 'jasmins>', 'sutherlandia>', 'wringstaff>', 'informal>', 'firestop>', 'painfuller>', 'lanthana>', 'commutativity>', 'thereas>', 'rhinebeck>', 'buckram>', 'nonlocally>', 'recedes>', 'timberjack>', 'whipgrafting>', 'cemetery>', 'risposta>', 'cancered>', 'mus>', 'multimember>', 'mooniness>', 'slipstick>', 'killbuck>', 'yao>', 'repiner>', 'slingsmen>', 'opinionatedness>', 'parture>', 'easement>', 'trichloroacetic>', 'balcony>', 'domenikos>', 'pincase>', 'wharfmen>', 'querencia>', 'stertorousness>', 'cacoepist>', 'longimanous>', 'ddpex>', 'barcolongo>', 'rumelian>', 'mumped>', 'shardborn>', 'kuruma>', 'diachronically>', 'boastful>', 'utopists>', 'thoughtlessly>', 'antimodern>', 'hagecius>', 'grimbald>', 'specious>', 'gur>', 'prokofieff>', 'necked>', 'apiosoma>', 'nonelectronic>', 'saprophagan>', 'bloviated>', 'wolfberry>', 'cloacaline>', 'weedhook>', 'swiftlamented>', 'audwen>', 'chorizontist>', 'unwriting>', 'antiepileptic>', 'quasiintroduced>', 'temporale>', 'cylindroconoidal>', 'variative>', 'moniliaceous>', 'mossyrock>', 'dissatisfies>', 'intenability>', 'infraglottic>', 'tritish>', 'superinfeudation>', 'indefeasibly>', 'tutsan>', 'pred>', 'anthropotoxin>', 'housemaster>', 'sanskritization>', 'fragilities>', 'rutherfordium>', 'demurred>', 'choroti>', 'blinkered>', 'matchstalk>', 'palaeologist>', 'salzgitter>', 'villakin>', 'biochore>', 'feeney>', 'worldrevolving>', 'mouseion>', 'wootan>', 'subsere>', 'whew>', 'aphicidal>', 'reenglish>', 'antinomic>', 'bahutu>', 'lutetian>', 'gammed>', 'upbears>', 'undiscriminating>', 'hippogryph>', 'abbacy>', 'civility>', 'phantastical>', 'attainability>', 'unbetrothed>', 'refurbishment>', 'crimple>', 'tinder>', 'waxbearing>', 'screenless>', 'inoperational>', 'heartsicknesses>', 'balopticon>', 'wochua>', 'demisecond>', 'epigons>', 'eproboscidea>', 'anywise>', 'overabundances>', 'ranginesses>', 'friggle>', 'sinistrogyrate>', 'venedotian>', 'polyglottically>', 'theogonic>', 'ergatoid>', 'kassapa>', 'philister>', 'affidation>', 'waianae>', 'simarubas>', 'culminal>', 'calamitous>', 'wellvisualized>', 'petary>', 'viscosimetric>', 'kartos>', 'thelorrhagia>', 'subpanel>', 'adularia>', 'blottesquely>', 'preadherently>', 'hemichromatopsia>', 'unvehemently>', 'cestraciontes>', 'telling>', 'eighthly>', 'choctaws>', 'discrive>', 'ponderative>', 'colporrhagia>', 'dipladenia>', 'hadramautian>', 'irrevocable>', 'topknotted>', 'flycatchers>', 'frederika>', 'unconversing>', 'mabinogion>', 'overchafed>', 'micronucleate>', 'beclogged>', 'pretransmit>', 'windlassed>', 'countryborn>', 'deputised>', 'conceptionist>', 'flashiest>', 'physicomechanical>', 'nictitation>', 'mucroniform>', 'mink>', 'chemoprophylaxis>', 'unlycanthropize>', 'whose>', 'rabatos>', 'tellerout>', 'jaypie>', 'ectrotic>', 'chicqued>', 'overstridentness>', 'cherbourg>', 'whalers>', 'antsigne>', 'colloquial>', 'calinago>', 'therine>', 'cachexies>', 'stechhelm>', 'stinkiest>', 'pontist>', 'rerental>', 'alfaquin>', 'inkstone>', 'matchet>', 'terle>', 'attenuant>', 'anoxemias>', 'prebreathe>', 'tonopah>', 'sedimentary>', 'heavenliest>', 'vigilant>', 'edeodynia>', 'windshock>', 'eisteddfodau>', 'preeminently>', 'nephelite>', 'amorrow>', 'subacumination>', 'hornbeak>', 'segregation>', 'polytungstic>', 'unpermanency>', 'hemaphein>', 'cutesie>', 'metroneuria>', 'sedgewake>', 'renovations>', 'agathocles>', 'forwalk>', 'syntonised>', 'stampless>', 'censure>', 'salvifics>', 'ratiocinatory>', 'stroddle>', 'tania>', 'payess>', 'entrancedenying>', 'muffins>', 'monochronic>', 'craniostosis>', 'information>', 'radiant>', 'nightstraying>', 'lourd>', 'denazification>', 'nurturant>', 'ostracoda>', 'smirks>', 'sixply>', 'lagwort>', 'duetted>', 'rosetangle>', 'miraflores>', 'fairest>', 'toss>', 'periscopes>', 'reintervened>', 'tridacna>', 'expositional>', 'foursquareness>', 'stippledness>', 'deianeira>', 'reamputation>', 'igara>', 'hulch>', 'floccipend>', 'rebenediction>', 'comprehending>', 'fogs>', 'cobles>', 'erotization>', 'splotches>', 'jolted>', 'asarabacca>', 'eme>', 'bier>', 'coroll>', 'emblematicize>', 'macroplankton>', 'scolite>', 'gibbosely>', 'tufty>', 'lillie>', 'mabe>', 'boigid>', 'laconized>', 'gallein>', 'shrewdness>', 'nonlustrousness>', 'swattle>', 'unfeasably>', 'chuckie>', 'deadpanner>', 'overextreme>', 'nondisbursement>', 'asymbolical>', 'jonson>', 'unflaked>', 'unhereditary>', 'isinai>', 'noncotyledonal>', 'neohebraic>', 'creaker>', 'seamanite>', 'zikkurats>', 'pirojki>', 'oestrogen>', 'carroms>', 'palmerston>', 'egin>', 'osetian>', 'animastical>', 'tetracerous>', 'dearsenicize>', 'unpayable>', 'bellwind>', 'lactophosphate>', 'aetiologies>', 'uncaught>', 'crippler>', 'knapsacking>', 'unaspirated>', 'cyclism>', 'morntime>', 'fddiii>', 'programmers>', 'airboat>', 'fumose>', 'sensorimotor>', 'soakman>', 'fouett>', 'outrail>', 'dargo>', 'eunomy>', 'oenomancy>', 'unlowly>', 'lilacky>', 'automechanism>', 'ravenala>', 'glomerulitis>', 'fouroared>', 'unasked>', 'polieus>', 'halfmeant>', 'treasurership>', 'unplayful>', 'unperiphrastically>', 'ice>', 'uncrudity>', 'scopic>', 'breaded>', 'psocids>', 'struvite>', 'resynthesizes>', 'favorites>', 'entitle>', 'renotifies>', 'taxonomic>', 'deemphasized>', 'outpopulating>', 'debarked>', 'delegating>', 'vitameric>', 'craniad>', 'misauthorizing>', 'koilon>', 'intoxicatedness>', 'similative>', 'surrept>', 'devilhaired>', 'trivoli>', 'fughetta>', 'bawdstrot>', 'oxymuriatic>', 'tailage>', 'unvisibly>', 'tharp>', 'blurbing>', 'supergratified>', 'albian>', 'gentilitial>', 'connivers>', 'piache>', 'minnesingers>', 'hawaiite>', 'meteoristic>', 'undefendable>', 'hopi>', 'utensile>', 'blackbellied>', 'documents>', 'maieutical>', 'finew>', 'dilating>', 'striatal>', 'superficially>', 'unattributably>', 'munitioner>', 'boswellize>', 'facemaker>', 'poshest>', 'absohm>', 'trigram>', 'curried>', 'sablevisaged>', 'siddhartha>', 'sprinklings>', 'predamnation>', 'abreast>', 'disembrace>', 'talukdari>', 'idolised>', 'conturbation>', 'zoners>', 'hish>', 'tinting>', 'elfins>', 'tacked>', 'float>', 'faulds>', 'farmerly>', 'tartramide>', 'paleoclimatologic>', 'crownmaker>', 'infirmation>', 'ageist>', 'remittent>', 'fists>', 'microreproduction>', 'circumstellar>', 'preston>', 'dicotyledon>', 'vadimonium>', 'unsolidity>', 'unpensionableness>', 'aimlessly>', 'blackletter>', 'stundism>', 'amplifier>', 'nonnavigably>', 'hubertus>', 'rosbif>', 'misbestow>', 'seroscopy>', 'budworm>', 'understatement>', 'nonascertainable>', 'platten>', 'reintroduces>', 'chronology>', 'inherle>', 'trachypteroid>', 'ampery>', 'whiskey>', 'critic>', 'tworail>', 'polymolecular>', 'grandaddy>', 'meritocratic>', 'numinism>', 'fideism>', 'snippish>', 'stockholm>', 'tenino>', 'monatomic>', 'faunistically>', 'trinodal>', 'indigogen>', 'listed>', 'connation>', 'crabeater>', 'sweetthroat>', 'disintegrity>', 'peacepreaching>', 'eozoonal>', 'owt>', 'plaguer>', 'narcos>', 'atheous>', 'anthropolite>', 'banditry>', 'dikeria>', 'distrainable>', 'prutot>', 'megal>', 'rotatoria>', 'fedak>', 'cariacine>', 'beknown>', 'pleopod>', 'antejentacular>', 'glenus>', 'narragansett>', 'scorpii>', 'baryta>', 'wilson>', 'monosymmetric>', 'predelineating>', 'triloculate>', 'doherty>', 'bullskin>', 'patentees>', 'camise>', 'palacewards>', 'vapourimeter>', 'contused>', 'quasiorganically>', 'airliners>', 'eszencia>', 'tuberclelike>', 'spragueville>', 'reinfect>', 'rots>', 'servantcy>', 'berdichev>', 'mobbie>', 'criswell>', 'calochortaceae>', 'viviparism>', 'nonsonant>', 'scincomorpha>', 'gonalgia>', 'ampicillin>', 'ostraeacea>', 'openwork>', 'hurrisome>', 'schismatically>', 'subjugated>', 'gastrilegous>', 'phytalus>', 'almuerzo>', 'dogmeat>', 'nontourist>', 'impersuadableness>', 'twiceruined>', 'rollergrinding>', 'unbiliousness>', 'margetts>', 'uniformer>', 'organums>', 'autocracy>', 'filaria>', 'pavisse>', 'fca>', 'dasyurus>', 'bogard>', 'amidoazobenzene>', 'etra>', 'becloud>', 'nematophyton>', 'trumbash>', 'tehueco>', 'faeryfrail>', 'buxus>', 'loats>', 'jeremian>', 'mobjack>', 'asiden>', 'pubble>', 'slitdrum>', 'skirmishing>', 'bruting>', 'lockwood>', 'aorangi>', 'beautyship>', 'yellowhaired>', 'ladyship>', 'passade>', 'garrulus>', 'shallowfooted>', 'neto>', 'wraist>', 'observations>', 'eyeservice>', 'noncollusive>', 'nightjar>', 'frontispiecing>', 'liber>', 'spelled>', 'chitose>', 'roomiest>', 'hideosity>', 'scraggliness>', 'liar>', 'platinized>', 'sandweed>', 'improvise>', 'visionize>', 'polkaing>', 'nomenclatural>', 'capriccios>', 'northwesterner>', 'carrolls>', 'woodystemmed>', 'lonicera>', 'marciano>', 'acce>', 'flyflap>', 'boutylka>', 'cyclizing>', 'totting>', 'drenmatt>', 'nonepigrammatically>', 'fluoaluminic>', 'lulls>', 'poignet>', 'unswaying>', 'cenanthous>', 'mols>', 'hydrotropic>', 'chincher>', 'weewees>', 'conveyorizing>', 'rothbury>', 'secretservice>', 'polynodal>', 'takyr>', 'scance>', 'atelognathia>', 'whod>', 'trufflesque>', 'adulteration>', 'swannish>', 'octocentenary>', 'niemen>', 'wavelike>', 'preplace>', 'uchee>', 'unvicar>', 'hyperspherical>', 'clepsydras>', 'americus>', 'jodean>', 'untrigonometrically>', 'plateway>', 'extrapatriarchal>', 'wishbringer>', 'atrochal>', 'countermoved>', 'durably>', 'minigrant>', 'daile>', 'bopyridian>', 'morril>', 'dendrobatinae>', 'higley>', 'fivegaited>', 'travelerstree>', 'amidating>', 'unvouchedly>', 'reoxygenate>', 'bayards>', 'begulf>', 'frigefact>', 'approbation>', 'alternipinnate>', 'helotry>', 'astrol>', 'overblamed>', 'nickelled>', 'deuterotokous>', 'redistributive>', 'civilisational>', 'saffell>', 'brote>', 'forcite>', 'oilwell>', 'southdown>', 'thoroughfelt>', 'iteroparity>', 'baldmoney>', 'serialising>', 'chapterhouse>', 'iberite>', 'deflorescence>', 'miltonism>', 'sterigma>', 'unionizers>', 'hetaerio>', 'witchbells>', 'araneidan>', 'underhand>', 'sunsuit>', 'dovetails>', 'enamours>', 'uncurbs>', 'bosomed>', 'mutoscope>', 'stiffgrown>', 'concretize>', 'honeystucker>', 'begetter>', 'prepectoral>', 'softblowing>', 'cohabiting>', 'carf>', 'affirmative>', 'mycostatic>', 'chil>', 'margay>', 'daubster>', 'archpiece>', 'overfurnishes>', 'reaccredited>', 'quasiinnocent>', 'smush>', 'towerencircled>', 'nonappeasing>', 'connemara>', 'borghi>', 'goudy>', 'unpure>', 'postoperatively>', 'cuneus>', 'teapot>', 'nomothetes>', 'goldbraided>', 'veiledly>', 'unfattable>', 'inferobranchiate>', 'gesneraceae>', 'powerhungry>', 'campodeid>', 'exhibitor>', 'myelinogenetic>', 'generable>', 'straighter>', 'outscout>', 'heartwood>', 'overcrowdedly>', 'pseudomoral>', 'unsoldiery>', 'steelyards>', 'provocation>', 'nilghau>', 'sulphoamide>', 'sleepylooking>', 'blooddiscolored>', 'cinnamoned>', 'cloisonnist>', 'distractingly>', 'margined>', 'banner>', 'aqueduct>', 'protophilosophic>', 'swank>', 'solicitant>', 'convoluted>', 'predisadvantageously>', 'mountainer>', 'lonedell>', 'tnpk>', 'frenchwise>', 'unpretentiousness>', 'microscopical>', 'bycock>', 'translibyan>', 'readycoined>', 'theretil>', 'eggshells>', 'wellhemmed>', 'underscores>', 'pergamic>', 'yankeedoodle>', 'nonentomologic>', 'multifoliolate>', 'parures>', 'borderer>', 'peened>', 'tawie>', 'woundfevered>', 'decorousness>', 'rootmeansquare>', 'parciloquy>', 'codeword>', 'oceanographer>', 'devilkins>', 'neogaeal>', 'syosset>', 'doggnawn>', 'slumbers>', 'dom>', 'antiphony>', 'crois>', 'articulatenesses>', 'precipitation>', 'nativist>', 'manky>', 'pungle>', 'infeoffment>', 'trite>', 'loquacities>', 'errata>', 'perdition>', 'interruptor>', 'snivelling>', 'whorled>', 'gustatorily>', 'nonfactitiousness>', 'hierophanticly>', 'cornual>', 'paradisical>', 'incrosses>', 'punctured>', 'habitually>', 'sharpeared>', 'notative>', 'ctenidia>', 'mirelle>', 'nutrition>', 'stovewood>', 'decolourization>', 'wedgeformed>', 'racemisms>', 'bundahish>', 'homoeomorphy>', 'youthsome>', 'livedo>', 'onomatopoeial>', 'flathorned>', 'macegan>', 'sectarianising>', 'panoptical>', 'unpausing>', 'prerecite>', 'anacrogynae>', 'rakh>', 'nestor>', 'thermoscope>', 'exsculptate>', 'sweese>', 'selfexamination>', 'antiradiation>', 'dukuma>', 'unsecretiveness>', 'pangens>', 'endotropic>', 'rexana>', 'cinnamene>', 'recomplication>', 'unperturbing>', 'apparels>', 'styler>', 'amalgamating>', 'clithridiate>', 'acutilinguae>', 'weeders>', 'pomphus>', 'bsie>', 'jesuitocracy>', 'ultramontanist>', 'pickthankly>', 'brakemaking>', 'polychrestical>', 'waywarden>', 'deprive>', 'vignerons>', 'congregation>', 'dismisser>', 'dpmi>', 'skedgewith>', 'cantabank>', 'wisnicki>', 'juridicus>', 'archenteron>', 'streakedback>', 'raying>', 'jamesport>', 'pasul>', 'epicentre>', 'tellurize>', 'overtip>', 'venturesomely>', 'adminstrations>', 'allnourishing>', 'zoril>', 'schwing>', 'embryoscope>', 'overhumanized>', 'pipier>', 'rhapsodies>', 'northallerton>', 'serviceability>', 'coembedded>', 'stanitsa>', 'superrace>', 'russopersian>', 'pinguin>', 'objectivity>', 'creeds>', 'bayed>', 'auto>', 'serigraph>', 'canquaffing>', 'benzotrifluoride>', 'predispositions>', 'tenderfootish>', 'tastes>', 'pgnttrp>', 'allmeaningness>', 'goldrolling>', 'billi>', 'morrell>', 'utilitarianize>', 'robbinsville>', 'snottery>', 'precollusion>', 'ursuk>', 'nonponderous>', 'aspiculous>', 'myriotrichia>', 'taun>', 'arteriocapillary>', 'periodids>', 'extracardial>', 'togas>', 'scholiast>', 'basseterre>', 'selfcontraction>', 'songfests>', 'harborward>', 'draperess>', 'attentiongetting>', 'halfforgiven>', 'cyclicality>', 'infraordinary>', 'revie>', 'alkalinised>', 'galvano>', 'footful>', 'otolaryngological>', 'ousels>', 'malacaton>', 'bedrivels>', 'ranids>', 'fearsome>', 'coaling>', 'emanational>', 'monette>', 'comminuted>', 'levers>', 'xenophoridae>', 'maldigestion>', 'william>', 'unlivability>', 'incitive>', 'overreachers>', 'nonphotographical>', 'erroneousness>', 'nonadorantes>', 'beduke>', 'reapplaud>', 'substantivity>', 'nawt>', 'pinyon>', 'empusa>', 'mauryan>', 'mutined>', 'pinwheel>', 'aotes>', 'sheerest>', 'swinehead>', 'gluons>', 'reynosa>', 'tussahs>', 'lipodystrophia>', 'tarawa>', 'mear>', 'agneta>', 'natalia>', 'disparatum>', 'undepartableness>', 'fanteague>', 'uncrudely>', 'pithes>', 'unbrooding>', 'decuple>', 'supp>', 'airampo>', 'broodier>', 'xanthosis>', 'bargainhunting>', 'fascial>', 'unroaded>', 'gaycolored>', 'selfpampering>', 'upsyturvy>', 'screwplate>', 'selfmotive>', 'wilhelmstrasse>', 'laceflower>', 'fullrayed>', 'loysburg>', 'dikeside>', 'barbet>', 'hypothesi>', 'zanuck>', 'brass>', 'controllability>', 'cheerful>', 'accend>', 'hypozoan>', 'hemiprism>', 'biophysicochemical>', 'oppositiflorous>', 'awfu>', 'strangerlike>', 'nondisingenuously>', 'cryptopyrrole>', 'bewhiten>', 'verbosity>', 'maura>', 'reus>', 'oecoid>', 'unamicable>', 'aminic>', 'wenda>', 'albinic>', 'sideboard>', 'unscamped>', 'kochliarion>', 'sooter>', 'ultrafidianism>', 'anchimonomineral>', 'preministry>', 'manzu>', 'moldavian>', 'barlows>', 'dilettantes>', 'hinder>', 'shiftless>', 'diastalsis>', 'overestimated>', 'tithefree>', 'pleurobrachia>', 'soonknown>', 'remunerating>', 'smacks>', 'inaccuracies>', 'unstintingly>', 'panicstunned>', 'nontenurially>', 'noncontemptibleness>', 'mycosin>', 'chromopsia>', 'comunidad>', 'broadloom>', 'laniidae>', 'posttussive>', 'auxocyte>', 'pigskin>', 'holblitzell>', 'aperients>', 'sunback>', 'fouquieriaceae>', 'antieurope>', 'digestif>', 'gentlemandependent>', 'inevasible>', 'semipractical>', 'mudra>', 'misteuk>', 'muenster>', 'superendorsed>', 'libidinously>', 'outgallop>', 'jovita>', 'decephalize>', 'wilseyville>', 'wachaga>', 'beholding>', 'possessively>', 'chivaris>', 'socioculturally>', 'inmates>', 'suberinize>', 'resegment>', 'bullfight>', 'orante>', 'tallcolumned>', 'gordioid>', 'phaleucian>', 'pollerd>', 'semisolid>', 'fornix>', 'sixrowed>', 'gonococcocci>', 'untroubledly>', 'prosthenic>', 'steatolytic>', 'superconvenient>', 'unsanctifiedly>', 'eurodollar>', 'graphomaniacal>', 'scriptorium>', 'nq>', 'coropo>', 'sympathomimetic>', 'ladykilling>', 'shmoozed>', 'splanchnolith>', 'introthoracic>', 'uncascaded>', 'rakishness>', 'psychologian>', 'saturnism>', 'leiotriches>', 'slowworms>', 'decremented>', 'transmethylation>', 'remodels>', 'phalangic>', 'noneuphonious>', 'phonevision>', 'laparothoracoscopy>', 'rebuys>', 'prefectorian>', 'highwalled>', 'freudian>', 'theraputant>', 'unsatin>', 'hemiamb>', 'bestconditioned>', 'schorlrock>', 'vanelike>', 'sparrygrass>', 'lutts>', 'turbeh>', 'righthandedness>', 'wolfen>', 'benghazi>', 'redisburse>', 'sheth>', 'outsailed>', 'openspacedness>', 'unguentarium>', 'unobumbrated>', 'crociary>', 'preadapts>', 'lifesized>', 'panatela>', 'schismatized>', 'meningoradicular>', 'rumal>', 'fringefoot>', 'covering>', 'embed>', 'althing>', 'victualler>', 'harebrain>', 'diemaking>', 'postdysenteric>', 'selfconverse>', 'asqueal>', 'ohs>', 'sileas>', 'uninducted>', 'lifeprolonging>', 'xenogamous>', 'interradial>', 'curver>', 'peafowls>', 'octohedral>', 'guesses>', 'gonidic>', 'unembezzled>', 'wellgrown>', 'fluorinated>', 'databases>', 'numerators>', 'promptorium>', 'prefixion>', 'fessing>', 'escuages>', 'shlu>', 'castiglione>', 'africanizing>', 'appended>', 'yeara>', 'silkensandaled>', 'barkstone>', 'unbilled>', 'compluvia>', 'reenclosure>', 'philomystic>', 'curvey>', 'reeky>', 'autotriploid>', 'calambour>', 'nonabsorbing>', 'hypocoristically>', 'squali>', 'reprimanding>', 'incomprehending>', 'unexplorable>', 'chiselled>', 'maypole>', 'enraptured>', 'shareout>', 'citril>', 'kinabulu>', 'balkanite>', 'pfitzner>', 'beatus>', 'motorings>', 'swingingly>', 'aboveground>', 'alguazil>', 'eastnortheastwardly>', 'otarioid>', 'exsheath>', 'dba>', 'cassondra>', 'unthistle>', 'semicelestial>', 'quixote>', 'urucurana>', 'secularists>', 'unvertiginous>', 'lockie>', 'sequoia>', 'pbs>', 'highrunner>', 'mineralizer>', 'chinchier>', 'semipervious>', 'climates>', 'bitingness>', 'rewirable>', 'brookville>', 'significatory>', 'pedobaptism>', 'tjaden>', 'noncompliances>', 'indicans>', 'tearforced>', 'adipous>', 'rebarbarization>', 'lactivorous>', 'groutite>', 'askings>', 'yawhaw>', 'desserts>', 'ichthyo>', 'weazands>', 'miscalled>', 'calciclase>', 'karyenchyma>', 'teazelled>', 'rascalism>', 'crowsfoot>', 'sabellidae>', 'springfield>', 'ascellus>', 'coahuila>', 'arboral>', 'gravelroot>', 'preincorporating>', 'walbrzych>', 'quakier>', 'armheaded>', 'flus>', 'unappreciation>', 'camerine>', 'satinfaced>', 'tolidin>', 'outstayed>', 'pushrods>', 'kumminost>', 'beora>', 'unni>', 'timetable>', 'smallshelled>', 'gerbils>', 'echoes>', 'nontheoretical>', 'convertism>', 'outlove>', 'fylgjur>', 'priestridden>', 'readvocate>', 'crutch>', 'fauvist>', 'devoir>', 'yarth>', 'nondisparaging>', 'irreparable>', 'postingly>', 'appendixed>', 'capnoides>', 'platanistidae>', 'polytyped>', 'misdispose>', 'cerography>', 'ironlike>', 'invertors>', 'atomology>', 'commingling>', 'boxings>', 'corkish>', 'creationistic>', 'becarpet>', 'antecell>', 'attal>', 'propitiatory>', 'mermis>', 'populously>', 'circumstances>', 'lump>', 'catharina>', 'sanities>', 'fille>', 'stormtide>', 'cranage>', 'craylet>', 'flaminius>', 'verseman>', 'spearwood>', 'cylindricalness>', 'sweethearted>', 'cutisector>', 'dulls>', 'scuppering>', 'hepatoenteric>', 'autosomatognostic>', 'hematocyanin>', 'tetronic>', 'anthocarpous>', 'filatures>', 'goodbys>', 'gaedown>', 'reshape>', 'helmetpod>', 'seabound>', 'wifetobe>', 'goochland>', 'overlay>', 'undiscouraged>', 'sturkie>', 'intentions>', 'scirrhogastria>', 'predental>', 'mandora>', 'discocarpium>', 'metaurus>', 'launderability>', 'mosshorn>', 'unexpected>', 'landgavel>', 'worldpardoned>', 'dromotropic>', 'vanaheim>', 'ultraenglish>', 'ototoi>', 'paulinity>', 'cogovernment>', 'hooge>', 'premiere>', 'dispossessing>', 'divertisement>', 'uprush>', 'fullfreighted>', 'sadomasochists>', 'backlight>', 'zantewood>', 'expenses>', 'dishiest>', 'waterfowler>', 'sphaeroma>', 'punkish>', 'sweetfish>', 'gideonite>', 'allegiance>', 'disrespect>', 'pleo>', 'clothsmoothing>', 'bubukle>', 'eott>', 'erotogeneses>', 'selfdirecting>', 'sweatt>', 'cohobated>', 'vermilion>', 'quints>', 'andromonoecious>', 'shuddery>', 'suberises>', 'sequestrums>', 'neurasthenias>', 'unvoluptuously>', 'embarge>', 'proponent>', 'meakem>', 'amblyopic>', 'coercions>', 'slopesided>', 'hanapepe>', 'oologically>', 'proresearch>', 'replications>', 'specialities>', 'spiketooth>', 'bolboxalis>', 'faradays>', 'kenotron>', 'inquirance>', 'supersoft>', 'omniscriptive>', 'doublebedded>', 'xurel>', 'tolzey>', 'synonym>', 'confitent>', 'nidifier>', 'ringfinger>', 'soapboiler>', 'graynesses>', 'placingout>', 'armfuls>', 'sheaving>', 'centrifugalization>', 'gentlemenpensioners>', 'alcahests>', 'retotal>', 'cordaitaceae>', 'fallowdeer>', 'unpredictedness>', 'pomarine>', 'exminister>', 'metencephalon>', 'endotheliomas>', 'bumpingly>', 'asterisked>', 'exhortatively>', 'uncontemplated>', 'exceptant>', 'unteaselled>', 'msd>', 'archpretender>', 'crowsilk>', 'handcrushed>', 'tentacula>', 'henyard>', 'riksdaalder>', 'gangbang>', 'impingement>', 'costosuperior>', 'whitetusked>', 'autophagia>', 'dendral>', 'pregeorgian>', 'rolypoliness>', 'prickeared>', 'bohr>', 'encyst>', 'pharo>', 'hypochloremic>', 'concert>', 'encrusting>', 'selfexplaining>', 'dupes>', 'diglyph>', 'loxias>', 'tempyo>', 'inertial>', 'cycloramas>', 'manba>', 'polarisable>', 'ofttimes>', 'devise>', 'uncompassionate>', 'coped>', 'intermixt>', 'postvaccinal>', 'sluggishnesses>', 'franciscus>', 'symbolater>', 'straightfront>', 'blowoffs>', 'acosmism>', 'unlusting>', 'orgiasm>', 'autodecomposition>', 'settledly>', 'egyptogreek>', 'graecize>', 'antistadholder>', 'grundel>', 'carbonless>', 'barfed>', 'inefficiently>', 'yuri>', 'pogonip>', 'coonjine>', 'anagrammed>', 'minny>', 'ineradicably>', 'unspaniardized>', 'rattraps>', 'incontaminateness>', 'cabler>', 'protocerebral>', 'cozenage>', 'fronton>', 'agitable>', 'toothextracting>', 'pleiomery>', 'barnesville>', 'jacinda>', 'nomenclator>', 'rudimentarily>', 'abbaye>', 'nooscopic>', 'polypore>', 'enamors>', 'headcap>', 'dacryohelcosis>', 'wetterhorn>', 'allpreventing>', 'unpoetical>', 'carryings>', 'misspoken>', 'fub>', 'equirotal>', 'illjudging>', 'braggy>', 'synalephe>', 'tirade>', 'granitical>', 'practicalized>', 'paludicole>', 'hypotarsal>', 'autodestruction>', 'encarpium>', 'subsign>', 'pollinia>', 'dormy>', 'demythologization>', 'forwardnesses>', 'yelmer>', 'semisocinian>', 'scopulipedes>', 'centavo>', 'inapprehensible>', 'bathochromy>', 'airproofed>', 'woolhat>', 'insphere>', 'philoxygenous>', 'bawarchi>', 'soupling>', 'missend>', 'excommunicator>', 'epiphenomenalism>', 'scornfulness>', 'endaseh>', 'scullduggery>', 'hum>', 'stratifies>', 'grippleness>', 'malkah>', 'intoner>', 'ecblastpsis>', 'inesculent>', 'goldbrick>', 'virgula>', 'wasps>', 'nightfish>', 'ostensively>', 'hypersensitivity>', 'narcomania>', 'mesenchyma>', 'joulean>', 'tamarisks>', 'presages>', 'brownouts>', 'congenialities>', 'fusulas>', 'nonflawed>', 'catheti>', 'spirale>', 'archivault>', 'preconditioned>', 'palered>', 'nonrenunciation>', 'rsu>', 'vania>', 'pratfalls>', 'disprized>', 'holinight>', 'whitlash>', 'wilfully>', 'pickler>', 'supratemporal>', 'nayaur>', 'wellequipped>', 'pursebearer>', 'cryptomerous>', 'stackful>', 'mannopus>', 'deepflewed>', 'pentace>', 'peasantries>', 'nonhectic>', 'blowlamp>', 'yellowness>', 'unenlisted>', 'dumfounding>', 'perezone>', 'foulest>', 'prenotified>', 'hering>', 'sterculia>', 'winks>', 'subcardinal>', 'undoctrined>', 'inspectorship>', 'fourdimensional>', 'soupspoon>', 'nonstandard>', 'oligaemia>', 'nakhlite>', 'acyclic>', 'auntsary>', 'bonheur>', 'filigrained>', 'latesacked>', 'primitiveness>', 'zogo>', 'chort>', 'alkaloids>', 'subconjunctival>', 'luteous>', 'thickfooted>', 'qiviut>', 'sorrowbreathing>', 'stikine>', 'pollera>', 'peritonealized>', 'required>', 'thwittle>', 'isocracy>', 'wynd>', 'nonscriptural>', 'aldwin>', 'jardinieres>', 'oenochoae>', 'pavilion>', 'dolisie>', 'inburnt>', 'pelikai>', 'rubberised>', 'bopeep>', 'mediatrixes>', 'exceptionality>', 'caliginously>', 'phlebarteriectasia>', 'blares>', 'calcitic>', 'upflung>', 'nonempathic>', 'anticonventional>', 'odoom>', 'orthoceratitic>', 'prerational>', 'proindustrial>', 'pigswill>', 'aneurin>', 'karwan>', 'diluting>', 'coracoprocoracoid>', 'haemocyanin>', 'manderelle>', 'sportmaking>', 'inconfusedly>', 'phyllocyst>', 'blightbird>', 'unibasal>', 'eventration>', 'lucked>', 'psorospermosis>', 'mottled>', 'rems>', 'archerfishes>', 'proettes>', 'lanceproof>', 'rearend>', 'dunderfunk>', 'vindhyan>', 'cotterel>', 'dogtired>', 'halobios>', 'theogamy>', 'addressing>', 'arsacidan>', 'manson>', 'postradiation>', 'twagger>', 'constipation>', 'janissary>', 'nephrotyphus>', 'safko>', 'direful>', 'espundia>', 'bravuras>', 'seaserpent>', 'unsignificative>', 'snicker>', 'pikesville>', 'asymptotically>', 'lucrezia>', 'spunk>', 'angloamerica>', 'kantian>', 'premising>', 'napoleon>', 'tapul>', 'scopola>', 'buddleman>', 'soulfully>', 'radiophonic>', 'amentias>', 'sargo>', 'bellemina>', 'eavesdrop>', 'amorousnesses>', 'testimonializer>', 'savorer>', 'buhlwork>', 'cohol>', 'mushed>', 'magistratical>', 'movent>', 'foxship>', 'escutellate>', 'illusible>', 'increased>', 'ondogram>', 'niece>', 'violetgreen>', 'taliera>', 'revalues>', 'sxs>', 'tagore>', 'boling>', 'perroquet>', 'crucianella>', 'oglers>', 'sixty>', 'wrinkleless>', 'malacodermidae>', 'lows>', 'pontanus>', 'ulitis>', 'answerer>', 'orellin>', 'wellplumaged>', 'overdignifying>', 'hyperaspist>', 'neediness>', 'sixwheel>', 'lala>', 'gesnerad>', 'ceasmic>', 'overmedicating>', 'scapha>', 'admissory>', 'azerbaijanese>', 'sieurs>', 'caboched>', 'soncy>', 'impelled>', 'rolo>', 'ocr>', 'multiloquent>', 'superaffluence>', 'deprome>', 'bromaurate>', 'rhymeless>', 'misexplicate>', 'standin>', 'etka>', 'adaurd>', 'pejorism>', 'sabs>', 'feminism>', 'feversmitten>', 'botryopteris>', 'leatherwork>', 'hyperreverential>', 'precollector>', 'gorgoneum>', 'epagogic>', 'paramylum>', 'scorner>', 'undercarved>', 'nitrobenzol>', 'mindsick>', 'communisation>', 'talesman>', 'camala>', 'thunderstorms>', 'christianize>', 'ureteritis>', 'tridiurnal>', 'paralepsis>', 'gratelike>', 'unkennel>', 'zesty>', 'misvalue>', 'osteodynia>', 'mildrid>', 'knitting>', 'hindostani>', 'trackings>', 'gynandrarchic>', 'cohabitation>', 'chinny>', 'raconteuses>', 'exanguin>', 'tritanope>', 'oinomania>', 'underskirts>', 'tenementer>', 'whitewashes>', 'paradental>', 'embezzled>', 'papern>', 'twibills>', 'joette>', 'underface>', 'conscientiousness>', 'infinitesimalism>', 'venero>', 'scandinavia>', 'enumerations>', 'recubant>', 'complacence>', 'incomprehension>', 'carboned>', 'onamia>', 'willowed>', 'sakhalin>', 'pep>', 'murrelet>', 'bishopling>', 'hyeres>', 'krautweed>', 'iraq>', 'unprudentially>', 'casabas>', 'unhypnotising>', 'transferrable>', 'selfevidence>', 'regalness>', 'phyllopteryx>', 'elsewheres>', 'belaites>', 'philanthropize>', 'mezzomezzo>', 'orchichorea>', 'schoolgoing>', 'unrevolting>', 'subepiglottal>', 'conservator>', 'wallboard>', 'chrysaline>', 'honoria>', 'unprofessionalism>', 'unableness>', 'tedesche>', 'goo>', 'reorganizes>', 'talked>', 'coriparian>', 'lld>', 'crownation>', 'womanises>', 'infecund>', 'befilmed>', 'talismans>', 'ligulin>', 'taney>', 'prealkalic>', 'openmarket>', 'beguilements>', 'kagera>', 'ride>', 'egyptianisation>', 'ultragerman>', 'bisector>', 'haruspicy>', 'inthewool>', 'dogaressa>', 'doughiness>', 'platy>', 'blastochyle>', 'triodontes>', 'inoxidized>', 'vaporised>', 'gatewood>', 'uneatable>', 'mesoperiodic>', 'adipocyte>', 'thrist>', 'graytoned>', 'erythroxylaceae>', 'renal>', 'unfouled>', 'expectancies>', 'unelectrically>', 'morinaceae>', 'luridly>', 'kinsmen>', 'konia>', 'waistband>', 'pyridoxamine>', 'caprifoliaceae>', 'serabend>', 'debite>', 'fervescence>', 'carbon>', 'abaciscus>', 'thiazides>', 'quicksteps>', 'superjudicial>', 'oakmoss>', 'polychotomous>', 'unpulverize>', 'gelatos>', 'phreneticness>', 'electroendosmose>', 'antiauxin>', 'jingoed>', 'endophlebitis>', 'kiddos>', 'enthronements>', 'posterior>', 'phreno>', 'icelandian>', 'alinit>', 'villianesses>', 'palaeothere>', 'coequals>', 'mishumility>', 'pharyngealized>', 'baroxyton>', 'pectinated>', 'widechapped>', 'waxworks>', 'dogfoot>', 'appalling>', 'delouse>', 'sloopman>', 'toadspotted>', 'xenocratic>', 'qintar>', 'flabbergast>', 'hebetomy>', 'cumflutter>', 'backwind>', 'quasiknowledgeably>', 'quasirespectfully>', 'puritano>', 'gibberellin>', 'profaculty>', 'squamipinnes>', 'horsecart>', 'florence>', 'plossl>', 'organicalness>', 'perosomus>', 'latterday>', 'holoptychius>', 'woolskin>', 'parliamentarian>', 'uaw>', 'quahog>', 'polysemantic>', 'stupefies>', 'aboardage>', 'dopant>', 'cauld>', 'ineloquent>', 'vanatta>', 'criance>', 'dorothee>', 'selfdom>', 'oahu>', 'justino>', 'cistercian>', 'brightfaced>', 'nonna>', 'rhinotheca>', 'thickflanked>', 'gymnasiums>', 'darryn>', 'apimania>', 'asterixis>', 'rights>', 'powderpuff>', 'sauteing>', 'connubiality>', 'rebeca>', 'avellane>', 'alife>', 'saberlike>', 'ileectomy>', 'twiceimposed>', 'slipband>', 'noninjuriously>', 'churchful>', 'dorsimedian>', 'hyne>', 'halfaristotelian>', 'millenist>', 'pantihose>', 'glutathione>', 'moony>', 'nonverbally>', 'tibialis>', 'decussis>', 'dulcitone>', 'parigenin>', 'hotdrew>', 'tiersten>', 'protensively>', 'bendite>', 'pupiparous>', 'laterotemporal>', 'bedaggered>', 'tritoness>', 'krantz>', 'vermeologist>', 'smellage>', 'joust>', 'macguiness>', 'oblational>', 'eldfather>', 'ungroined>', 'dolabriform>', 'deflected>', 'bearded>', 'silicates>', 'photogenous>', 'ascophorous>', 'strobes>', 'frizette>', 'brixey>', 'dolton>', 'feyly>', 'wellfraught>', 'repolished>', 'cetera>', 'vintneress>', 'unenkindled>', 'phimoses>', 'engarb>', 'iapygii>', 'amaranthine>', 'lhospital>', 'imbibed>', 'kornerupine>', 'tbar>', 'hairraiser>', 'solzhenitsyn>', 'madra>', 'panhysterectomy>', 'romilly>', 'reconciling>', 'stifler>', 'resonances>', 'porcupinish>', 'cumulovolcano>', 'harmfulness>', 'conchospiral>', 'sheathless>', 'opisthobranch>', 'underscore>', 'largebodied>', 'savviest>', 'msgmgt>', 'selfinflicted>', 'buttercutting>', 'nyberg>', 'freehandedly>', 'overbitterly>', 'ug>', 'emmeleia>', 'inflorescence>', 'recommitted>', 'reappoint>', 'toddick>', 'decarboniser>', 'overholiness>', 'perinephria>', 'acontium>', 'underbutler>', 'rewrapping>', 'pigmew>', 'fellowsoldier>', 'overrigorous>', 'paleobotanist>', 'corresponds>', 'nonuple>', 'carty>', 'cutbank>', 'canezou>', 'wiriness>', 'purins>', 'sfree>', 'seymeria>', 'gymnospermal>', 'isbella>', 'deckels>', 'phosphorus>', 'nietzscheanism>', 'splenoid>', 'redolent>', 'euryzygous>', 'sailpropelled>', 'jargonised>', 'jointureless>', 'miscuing>', 'claspingleaved>', 'venerably>', 'yaffs>', 'reenlisting>', 'louster>', 'novice>', 'violle>', 'fiden>', 'comico>', 'befooled>', 'lifedestroying>', 'indofrench>', 'ineffectualnesses>', 'chimneyless>', 'bomos>', 'noell>', 'silvia>', 'nannybush>', 'rhomboideus>', 'lecanine>', 'autumns>', 'varietism>', 'chockfull>', 'selfconsequent>', 'notepaper>', 'coagulants>', 'laceman>', 'granting>', 'unwheeled>', 'lecoma>', 'hepatorrhoea>', 'bibliotic>', 'bureaucratically>', 'eluviating>', 'pseudoparesis>', 'vitriol>', 'enterography>', 'sclero>', 'freyr>', 'duplicability>', 'boysenberries>', 'dagame>', 'osteoclasia>', 'dodecanese>', 'metamer>', 'acoelomata>', 'waldheim>', 'maculopapular>', 'penhall>', 'nonsystematic>', 'videocassettes>', 'goliards>', 'cathartes>', 'reassembly>', 'disfavourable>', 'bises>', 'trollope>', 'isoclasite>', 'rascals>', 'excubitorium>', 'backwoodsiness>', 'bishoping>', 'insafety>', 'cannanore>', 'bacach>', 'nonelucidation>', 'unchildishness>', 'forkfuls>', 'cancrid>', 'loveless>', 'slatternness>', 'swabia>', 'levirate>', 'manicured>', 'montadale>', 'soakers>', 'irrenunciable>', 'depancreatization>', 'tungate>', 'silklike>', 'logomach>', 'presidium>', 'urds>', 'lacernas>', 'nitta>', 'purchasing>', 'poynting>', 'procyoninae>', 'unbenignness>', 'easterner>', 'temeritous>', 'suppositionally>', 'quippish>', 'epimeres>', 'prothalamiumia>', 'outprying>', 'bourgeon>', 'sweetsounded>', 'zep>', 'darrick>', 'wildwarbling>', 'bullville>', 'thunderstone>', 'referment>', 'storial>', 'nihilitic>', 'salmontrout>', 'antipasto>', 'correctioner>', 'proglottid>', 'starwort>', 'didactician>', 'monotonically>', 'milldale>', 'lipometabolic>', 'abstentionist>', 'compromission>', 'sealost>', 'albespine>', 'standardise>', 'hotheadedly>', 'mishandles>', 'selzogene>', 'eozoic>', 'quaintworded>', 'chinaberry>', 'pitless>', 'reassimilates>', 'gibsonia>', 'unadventuring>', 'detruncated>', 'anthropophagus>', 'nicasio>', 'scatoscopy>', 'resprings>', 'sassing>', 'precancellation>', 'clearvisioned>', 'hippiest>', 'matriarchist>', 'stiddy>', 'polik>', 'powerless>', 'stabroek>', 'curtailedly>', 'snarlish>', 'inundates>', 'emigration>', 'unapproaching>', 'asr>', 'alebench>', 'paracrostic>', 'meute>', 'ciapas>', 'selfcocker>', 'colleaguing>', 'interwove>', 'bechalked>', 'horripilate>', 'musketeer>', 'orlena>', 'myalism>', 'ticklish>', 'encyclopediast>', 'ploughwright>', 'excresce>', 'stockmaker>', 'prosecting>', 'shinplaster>', 'selforiginating>', 'archdeacons>', 'lefsel>', 'dogmatised>', 'bekelja>', 'warpowers>', 'enfranchiser>', 'intolerantly>', 'wataps>', 'mandoline>', 'geest>', 'eula>', 'cerracchio>', 'ducape>', 'counterstroke>', 'shortages>', 'beforetime>', 'overjudgment>', 'untrustiness>', 'patterning>', 'quasidistantly>', 'salutatories>', 'naima>', 'treponematosis>', 'zostera>', 'tallapoi>', 'intermiddle>', 'polymorphisms>', 'equiangle>', 'broad>', 'pseudodementia>', 'fatbrained>', 'widthwise>', 'worldpreserving>', 'pseudolinguistic>', 'kbar>', 'jeopardies>', 'uncrumbled>', 'chariot>', 'krystin>', 'ablute>', 'mexia>', 'thingsinthemselves>', 'inaquate>', 'frettation>', 'neurohistology>', 'overpromptness>', 'ultrafastidious>', 'yamp>', 'firelipped>', 'bucksaw>', 'faconne>', 'pretired>', 'kukluxism>', 'welltenanted>', 'unexcepted>', 'assentatious>', 'sousou>', 'antonietta>', 'overlogical>', 'steff>', 'northwards>', 'haemophiliac>', 'voltohmmilliammeter>', 'xylographer>', 'canby>', 'kinghunter>', 'extensible>', 'auriol>', 'figo>', 'ironbraced>', 'portability>', 'chlorprophenpyridamine>', 'regranted>', 'cracker>', 'thurio>', 'leeuwarden>', 'cowshard>', 'pseudophellandrene>', 'sepultural>', 'furies>', 'hookeron>', 'cadism>', 'overwrites>', 'gc>', 'goodfield>', 'fillerup>', 'curlytoed>', 'tunable>', 'liverworts>', 'reg>', 'facileness>', 'chrisoms>', 'lonouhard>', 'halfsubmerged>', 'unbequeathable>', 'mythogreen>', 'highboiling>', 'merriness>', 'micella>', 'trefoilwise>', 'chidester>', 'embolismic>', 'citify>', 'hadada>', 'halfsole>', 'perforators>', 'nondiffidently>', 'apostemate>', 'unvizarded>', 'biforin>', 'mitises>', 'tradegild>', 'sortance>', 'stomachachy>', 'pommeling>', 'playmare>', 'amblygeusia>', 'sparrowless>', 'unbrace>', 'yamstchik>', 'hasht>', 'kolos>', 'polyctenid>', 'transplacement>', 'slushcast>', 'pachydermial>', 'brothier>', 'microcircuit>', 'mandataries>', 'semisecrecy>', 'airconscious>', 'antineologian>', 'palimpset>', 'penuchles>']\n"
          ]
        }
      ],
      "source": [
        "for data in train_loader:\n",
        "    x, y, a,lx, ly = data\n",
        "    print(type(x),type(y),type(a),type(lx),type(ly))\n",
        "    print(y[0]) # desired \n",
        "\n",
        "    print(x.shape, y.shape,a.shape, len(lx), len(ly))\n",
        "    x=torch.permute(x,(1,0,2))\n",
        "    x=torch.squeeze(x)\n",
        "    print(x.shape)\n",
        "    print(transform_index_to_letter(x.numpy()))\n",
        "    print(transform_index_to_letter(a.numpy()))\n",
        "    print(transform_index_to_letter(y.numpy()))\n",
        "    break"
      ]
    },
    {
      "cell_type": "markdown",
      "metadata": {
        "id": "dfHH_lx16Bv3"
      },
      "source": [
        "##Model##"
      ]
    },
    {
      "cell_type": "code",
      "execution_count": null,
      "metadata": {
        "id": "0GSPVmZN8Oac"
      },
      "outputs": [],
      "source": [
        "import torch.nn as nn\n",
        "import torch\n",
        "import math\n",
        "import copy\n",
        "\n"
      ]
    },
    {
      "cell_type": "code",
      "execution_count": null,
      "metadata": {
        "id": "X10jKPCxoS_j"
      },
      "outputs": [],
      "source": [
        "import numpy as np\n",
        "\n",
        "import torch\n",
        "import torch.nn as nn\n",
        "import torch.nn.utils as utils\n",
        "from torch.autograd import Variable\n",
        "\n",
        "DEVICE = 'cuda' if torch.cuda.is_available() else 'cpu'\n",
        "\n",
        "\n",
        "class PyramidLSTM(nn.Module):\n",
        "    def __init__(self, input_dim, hidden_dim):\n",
        "        super(PyramidLSTM, self).__init__()\n",
        "        self.input_dim = input_dim\n",
        "        self.hidden_dim = hidden_dim\n",
        "        self.pblstm = nn.LSTM(self.input_dim, self.hidden_dim, num_layers=1, bidirectional=True)\n",
        "\n",
        "    def forward(self, x):\n",
        "        \"\"\"\n",
        "        :param x: Input sequence: (T, B, D)\n",
        "        :return: output: Output sequence: (T/2, B, D*2)\n",
        "        \"\"\"\n",
        "\n",
        "        x, lengths = utils.rnn.pad_packed_sequence(x)\n",
        "        batch_size = x.size(1)\n",
        "\n",
        "        if x.size(0) % 2 is not 0:\n",
        "            padding = torch.zeros(1, batch_size, self.hidden_dim * 2).to(DEVICE)\n",
        "            x = torch.cat((x, padding), dim=0)\n",
        "\n",
        "        new_length = int(x.size(0) / 2)\n",
        "        x = x.transpose(0, 1)  # (B, T, D)\n",
        "        x = x.reshape(batch_size, new_length, self.hidden_dim * 4)  # (B, T/2, D*2)\n",
        "        x = x.transpose(0, 1)  # (T/2, B, D*2)\n",
        "\n",
        "        for i, sample_len in enumerate(lengths):\n",
        "            if sample_len % 2 == 0:\n",
        "                sample_len = int(sample_len / 2)\n",
        "            else:\n",
        "                sample_len = int(sample_len / 2) + 1\n",
        "            lengths[i] = sample_len\n",
        "\n",
        "        x = utils.rnn.pack_padded_sequence(x, lengths, enforce_sorted=False)\n",
        "\n",
        "        output, _ = self.pblstm(x)\n",
        "        return output, lengths\n",
        "\n",
        "\n",
        "class Encoder(nn.Module):\n",
        "    def __init__(self, input_dim, hidden_dim, value_size, key_size, pyramid_layer, bidirectional=True):\n",
        "        super(Encoder, self).__init__()\n",
        "        self.input_dim = input_dim\n",
        "        self.hidden_dims = hidden_dim\n",
        "        self.pyramid_layer = pyramid_layer\n",
        "        self.value_size = value_size\n",
        "        self.key_size = key_size\n",
        "        self.bidirectional = bidirectional\n",
        "\n",
        "        self.blstm = nn.LSTM(self.input_dim, self.hidden_dims, num_layers=1, bidirectional=self.bidirectional)\n",
        "\n",
        "        self.pblstm = []\n",
        "        for _ in range(self.pyramid_layer):\n",
        "            self.pblstm.append(PyramidLSTM(self.hidden_dims * 4, self.hidden_dims))\n",
        "        self.pblstm = nn.ModuleList(self.pblstm)\n",
        "\n",
        "        self.value_network = nn.Linear(self.hidden_dims * 2, self.value_size)\n",
        "        self.key_network = nn.Linear(self.hidden_dims * 2, self.key_size)\n",
        "\n",
        "    def forward(self, x, lengths):\n",
        "        \"\"\"\n",
        "        :param x: Padded sequence of dimension (T, B, D), T is the length of the longest sequence\n",
        "        :param lengths: List of sequence lengths\n",
        "        :return: keys: keys for attention layer\n",
        "                 values: values for attention layer\n",
        "        \"\"\"\n",
        "        packed_x = utils.rnn.pack_padded_sequence(x, lengths, enforce_sorted=False)\n",
        "        outputs, _ = self.blstm(packed_x)\n",
        "\n",
        "        for i, pblstm_layer in enumerate(self.pblstm):\n",
        "            outputs, lengths = pblstm_layer(outputs)\n",
        "            outputs, out_lens = utils.rnn.pad_packed_sequence(outputs)\n",
        "            if i != self.pyramid_layer - 1:\n",
        "                outputs = utils.rnn.pack_padded_sequence(outputs, out_lens, enforce_sorted=False)\n",
        "\n",
        "        linear_input = outputs\n",
        "        keys = self.key_network(linear_input)\n",
        "        values = self.value_network(linear_input)\n",
        "        return keys, values, lengths\n",
        "\n",
        "\n",
        "class Attention(nn.Module):\n",
        "    def __init__(self):\n",
        "        super(Attention, self).__init__()\n",
        "\n",
        "        '''\n",
        "        Attention is calculated using key, value and query from Encoder and decoder.\n",
        "        Below are the set of operations you need to perform for computing attention:\n",
        "            bmm: batch matrix multiplication\n",
        "            energy = bmm(key, query) \n",
        "            attention = softmax(energy)\n",
        "            context = bmm(attention, value)\n",
        "        '''\n",
        "\n",
        "    def forward(self, query, key, value, lens):\n",
        "        \"\"\"\n",
        "        :param key:  (Max_len, B, key_size), Key projection of encoder\n",
        "        :param value: (Max_len, B, value_size), Value projection of encoder\n",
        "        :param query: (B, hidden), current state of the decoder\n",
        "        :param lens: list of sequence length of the encoder\n",
        "        :return: attention_context, attention_mask\n",
        "        \"\"\"\n",
        "        assert query.size(1) == key.size(2), 'Key dimension not matching hidden states dimension'\n",
        "        assert query.size(1) == value.size(2), 'Key dimension not matching hidden states dimension'\n",
        "        max_len = key.size(0)\n",
        "        key = key.transpose(0, 1)\n",
        "        value = value.transpose(0, 1)\n",
        "        energy = torch.bmm(key, query.unsqueeze(2))\n",
        "        attention_mask = torch.arange(max_len).unsqueeze(0) >= lens.unsqueeze(1)\n",
        "        attention_mask = attention_mask.unsqueeze(2).to(DEVICE)\n",
        "        energy.masked_fill_(attention_mask, -1e9)\n",
        "        attention = nn.functional.softmax(energy, dim=1)\n",
        "        attention_context = torch.bmm(attention.transpose(2, 1), value).squeeze(1)\n",
        "\n",
        "        return attention_context, attention\n",
        "\n",
        "\n",
        "class Decoder(nn.Module):\n",
        "    def __init__(self, vocab_size, hidden_dim, value_size, key_size, use_attention=True):\n",
        "        super(Decoder, self).__init__()\n",
        "        self.vocab_size = vocab_size\n",
        "        self.hidden_dim = hidden_dim\n",
        "        self.value_size = value_size\n",
        "        self.key_size = key_size\n",
        "        self.use_attention = use_attention\n",
        "        self.cur_p=0.5\n",
        "        self.embedding = nn.Embedding(self.vocab_size, self.hidden_dim)\n",
        "        self.lstm1 = nn.LSTMCell(input_size=hidden_dim + value_size, hidden_size=2 * hidden_dim)\n",
        "        self.lstm2 = nn.LSTMCell(input_size=2 * hidden_dim, hidden_size=key_size)\n",
        "\n",
        "        if self.use_attention:\n",
        "            self.attention = Attention()\n",
        "\n",
        "        self.linear = nn.Linear(key_size + value_size, vocab_size)\n",
        "\n",
        "    def forward(self, keys, values, lens, epoch, text=None, istrain=True,length=0,editDist=100,cur_tf=0):\n",
        "\n",
        "        \"\"\"\n",
        "        :param keys: (max_len, B, key_size) output of the encoder keys projection\n",
        "        :param values: (max_len, B, value_size) output of the encoder value projection\n",
        "        :param text: (B, max_len) batch input of text\n",
        "        :param lens: (B, ) lengths of the batch input sequences\n",
        "        :param istrain: train or evaluation mode\n",
        "        :return: predictions: character prediction probability\n",
        "        \"\"\"\n",
        "\n",
        "        batch_size = keys.size(1)\n",
        "\n",
        "        if istrain:\n",
        "            max_len = text.size(1)\n",
        "\n",
        "            embeddings = self.embedding(text)\n",
        "        else:\n",
        "            max_len = length\n",
        "        predictions = []\n",
        "        hidden_states = [None, None]\n",
        "        prediction = torch.zeros(batch_size, 1).to(DEVICE)\n",
        "        if self.use_attention:\n",
        "            context = torch.zeros(batch_size, keys.size(2)).to(DEVICE)\n",
        "        teacher_forcing=0\n",
        "        self.cur_tf=cur_tf\n",
        "        if istrain:\n",
        "          teacher_forcing=np.random.uniform(0, 1)\n",
        "        for i in range(max_len):\n",
        "\n",
        "\n",
        "            if istrain and teacher_forcing > self.cur_p:\n",
        "                embedding_letter = embeddings[:, i, :]\n",
        "            else:\n",
        "                embedding_letter = self.embedding(prediction.argmax(dim=-1))\n",
        "\n",
        "            if self.use_attention:\n",
        "                input1 = torch.cat((embedding_letter, context), dim=1)\n",
        "            else:\n",
        "                input1 = torch.cat((embedding_letter, values[i, :, :]), dim=1)\n",
        "\n",
        "            hidden_states[0] = self.lstm1(input1, hidden_states[0])\n",
        "\n",
        "            input2 = hidden_states[0][0]\n",
        "            hidden_states[1] = self.lstm2(input2, hidden_states[1])\n",
        "\n",
        "            lstm_outputs = hidden_states[1][0]\n",
        "            if self.use_attention:\n",
        "                context, mask = self.attention(lstm_outputs, keys, values, lens)\n",
        "\n",
        "            linear_input = torch.cat([lstm_outputs, context], dim=1)\n",
        "            prediction = self.linear(linear_input)\n",
        "\n",
        "            predictions.append(prediction.unsqueeze(1))\n",
        "\n",
        "        return torch.cat(predictions, dim=1)\n",
        "\n",
        "\n",
        "class Seq2Seq(nn.Module):\n",
        "    def __init__(self, input_dim, vocab_size, hidden_dim, value_size, key_size, pyramidlayers, use_attention=True):\n",
        "        super(Seq2Seq, self).__init__()\n",
        "\n",
        "        self.input_dim = input_dim\n",
        "        self.vocab_size = vocab_size\n",
        "        self.hidden_dim = hidden_dim\n",
        "        self.value_size = value_size\n",
        "        self.key_size = key_size\n",
        "        self.pyramidlayers = pyramidlayers\n",
        "        self.useattention = use_attention\n",
        "\n",
        "        self.encoder = Encoder(self.input_dim, self.hidden_dim, self.value_size, self.key_size, self.pyramidlayers)\n",
        "        self.decoder = Decoder(self.vocab_size, self.hidden_dim, self.value_size, self.key_size, self.useattention)\n",
        "\n",
        "    def forward(self, speech_input, speech_lens, epoch=0, text_input=None, istrain=True,editDist=100,cur_tf=0):\n",
        "        key, value, lens = self.encoder(speech_input, speech_lens)\n",
        "        if istrain:\n",
        "            predictions = self.decoder(keys=key, values=value, lens=lens, epoch=epoch, text=text_input, istrain=True,editDist=editDist,cur_tf=cur_tf)\n",
        "        else:\n",
        "            predictions = self.decoder(keys=key, values=value, lens=lens, epoch=None, text=text_input, istrain=False,length=speech_input.size(0))\n",
        "        return predictions\n",
        "\n"
      ]
    },
    {
      "cell_type": "code",
      "source": [
        "model="
      ],
      "metadata": {
        "id": "rxEW9fPE4-yX"
      },
      "execution_count": null,
      "outputs": []
    },
    {
      "cell_type": "markdown",
      "metadata": {
        "id": "aGuHDpckt987"
      },
      "source": [
        "##Bulid my own Loss function##"
      ]
    },
    {
      "cell_type": "code",
      "execution_count": null,
      "metadata": {
        "id": "NqKUqjse6aiE"
      },
      "outputs": [],
      "source": [
        "class MaskEntropyLoss:\n",
        "\n",
        "    def __init__(self, opt=None):\n",
        "        self.criterion = nn.CrossEntropyLoss(reduction='none')\n",
        "        self.opt = opt\n",
        "        if self.opt:\n",
        "            self.opt.optimizer.zero_grad()\n",
        "\n",
        "    def __call__(self, x, y, original_x):\n",
        "        batch_size = x.shape[0]\n",
        "\n",
        "        # loss = self.criterion(x.contiguous().view(-1, x.size(-1)),\n",
        "        #                       y.contiguous().view(-1)) / norm\n",
        "        w = torch.zeros_like(original_x)+0.1\n",
        "        one = torch.ones_like(original_x)\n",
        "        zero = torch.zeros_like(original_x)+0.1\n",
        "\n",
        "        weight=torch.where(original_x.float() > 26.5, w.float(), original_x.float())\n",
        "        weight=torch.where(weight > 0.7, one.float(), weight)\n",
        "        weight=torch.where(weight < 0.1, zero.float(), weight)\n",
        "\n",
        "        loss_across = self.criterion(x, y)\n",
        "\n",
        "        loss = loss_across.mul(weight)\n",
        "\n",
        "        loss.backward(loss.clone().detach(),retain_graph=True)\n",
        "        if self.opt is not None:\n",
        "            self.opt.step()\n",
        "            self.opt.optimizer.zero_grad()\n",
        "        return loss_across.mean()"
      ]
    },
    {
      "cell_type": "markdown",
      "metadata": {
        "id": "rSzJPb9pwB7A"
      },
      "source": [
        "##Training_setup##\n"
      ]
    },
    {
      "cell_type": "markdown",
      "metadata": {
        "id": "Nh3JrPH0vo-q"
      },
      "source": [
        "##Train##"
      ]
    },
    {
      "cell_type": "markdown",
      "source": [
        "define Levenshtein distance calculation function"
      ],
      "metadata": {
        "id": "sd3WP5kq2StJ"
      }
    },
    {
      "cell_type": "code",
      "execution_count": null,
      "metadata": {
        "colab": {
          "base_uri": "https://localhost:8080/"
        },
        "id": "T9g9NoT3yH4A",
        "outputId": "6a455156-7aba-4d65-adbe-9806c0eeac69"
      },
      "outputs": [
        {
          "output_type": "stream",
          "name": "stdout",
          "text": [
            "Collecting python-levenshtein\n",
            "  Downloading python-Levenshtein-0.12.2.tar.gz (50 kB)\n",
            "\u001b[?25l\r\u001b[K     |██████▌                         | 10 kB 39.6 MB/s eta 0:00:01\r\u001b[K     |█████████████                   | 20 kB 27.2 MB/s eta 0:00:01\r\u001b[K     |███████████████████▌            | 30 kB 19.0 MB/s eta 0:00:01\r\u001b[K     |██████████████████████████      | 40 kB 16.3 MB/s eta 0:00:01\r\u001b[K     |████████████████████████████████| 50 kB 5.8 MB/s \n",
            "\u001b[?25hRequirement already satisfied: setuptools in /usr/local/lib/python3.7/dist-packages (from python-levenshtein) (57.4.0)\n",
            "Building wheels for collected packages: python-levenshtein\n",
            "  Building wheel for python-levenshtein (setup.py) ... \u001b[?25l\u001b[?25hdone\n",
            "  Created wheel for python-levenshtein: filename=python_Levenshtein-0.12.2-cp37-cp37m-linux_x86_64.whl size=149864 sha256=d42afe43c43fc171d7431c4f8fb1240169187f7e3d2ac69fc324ad6dc3b0747a\n",
            "  Stored in directory: /root/.cache/pip/wheels/05/5f/ca/7c4367734892581bb5ff896f15027a932c551080b2abd3e00d\n",
            "Successfully built python-levenshtein\n",
            "Installing collected packages: python-levenshtein\n",
            "Successfully installed python-levenshtein-0.12.2\n"
          ]
        }
      ],
      "source": [
        "!pip install python-levenshtein\n",
        "import Levenshtein\n",
        "from Levenshtein import distance\n",
        "\n",
        "def calc_edit_dist(preds, targets):\n",
        "    res = 0.0\n",
        "    for pred, target in zip(preds, targets):\n",
        "        dist = Levenshtein.distance(pred, target)\n",
        "#         print(\"Lev dist pred {}\".format(pred))\n",
        "#         print(\"Lev dist target {}\".format(target))\n",
        "#         print(\"Lev dist {}\".format(dist))\n",
        "        res += dist\n",
        "    return res"
      ]
    },
    {
      "cell_type": "markdown",
      "source": [
        "define train and validation function"
      ],
      "metadata": {
        "id": "eC8QS3i-2PHu"
      }
    },
    {
      "cell_type": "code",
      "execution_count": null,
      "metadata": {
        "id": "pDdkvL6uvnfq"
      },
      "outputs": [],
      "source": [
        "from tqdm import tqdm\n",
        "import time\n",
        "\n",
        "\n",
        "def train(model, train_loader, criterion, optimizer, epoch, train_batch_num, writer,editDist,cur_tf):\n",
        "    batch_bar = tqdm(total=len(train_loader), dynamic_ncols=True, leave=False, position=0, desc='Train') \n",
        "\n",
        "    train_start = time.time()\n",
        "    model.train()\n",
        "\n",
        "    epoch_perplexity = 0\n",
        "    epoch_loss = 0\n",
        "\n",
        "\n",
        "    for batch, (padded_input, padded_target, padded_decoder, input_lens, target_lens) in enumerate(train_loader):\n",
        "        with torch.autograd.set_detect_anomaly(True):\n",
        "            optimizer.zero_grad()\n",
        "            batch_size = len(input_lens)\n",
        "            vocab_size = model.vocab_size\n",
        "            max_len = max(target_lens)\n",
        "            padded_input = padded_input.to(DEVICE)\n",
        "            padded_target = padded_target.type(torch.LongTensor).to(DEVICE)\n",
        "            padded_decoder = padded_decoder.type(torch.LongTensor).to(DEVICE)\n",
        "            # print('padded_input',padded_input.shape)\n",
        "            # print(padded_input[0])\n",
        "            # print(padded_input.device)\n",
        "            # print('input_lens',len(input_lens))\n",
        "            # print(input_lens[0])\n",
        "            predictions = model(padded_input, input_lens, epoch, padded_decoder,editDist=editDist,cur_tf=cur_tf)\n",
        "\n",
        "            # mask = torch.arange(max_len).unsqueeze(0) < torch.tensor(target_lens).unsqueeze(1)\n",
        "            # mask = mask.type(torch.float64)\n",
        "            # mask.requires_grad = True\n",
        "            # mask = mask.reshape(batch_size * max_len).to(DEVICE)\n",
        "\n",
        "            predictions = predictions.reshape(batch_size * max_len, vocab_size).contiguous()\n",
        "            padded_target = padded_target.reshape(batch_size * max_len).contiguous()\n",
        "\n",
        "            loss = criterion(predictions, padded_target)\n",
        "            # masked_loss = torch.sum(loss * mask)\n",
        "            # batch_loss = masked_loss / torch.sum(mask).item()\n",
        "            # batch_loss.backward()\n",
        "            loss.backward()\n",
        "            epoch_loss += loss.item()\n",
        "            torch.nn.utils.clip_grad_norm_(model.parameters(), 2)\n",
        "            optimizer.step()\n",
        "            perplexity = np.exp(loss.item())\n",
        "            epoch_perplexity += perplexity\n",
        "            #print(epoch_loss / (batch + 1))\n",
        "            batch_bar.set_postfix(\n",
        "            loss=\"{:.04f}\".format(float(epoch_loss / (batch + 1))),\n",
        "            lr=\"{:.12f}\".format(float(optimizer.param_groups[0]['lr'])))\n",
        "            batch_bar.update()\n",
        "        # break\n",
        "\n",
        "    writer.add_scalar('Loss/Train', epoch_loss / train_batch_num, epoch)\n",
        "    writer.add_scalar('Perplexity/Train', epoch_perplexity / train_batch_num, epoch)\n",
        "\n",
        "    return epoch_loss/train_batch_num\n",
        "\n",
        "def val(model, val_loader, criterion, epoch, val_batch_num, index2letter, writer):\n",
        "    model.eval()\n",
        "\n",
        "    epoch_distance = 0\n",
        "    epoch_perplexity = 0\n",
        "    epoch_loss = 0\n",
        "\n",
        "    flag=0\n",
        "    for batch, (padded_input, padded_target, padded_decoder, input_lens, target_lens) in enumerate(val_loader):\n",
        "\n",
        "        with torch.no_grad():\n",
        "\n",
        "            batch_size = len(input_lens)\n",
        "            vocab_size = model.vocab_size\n",
        "            max_len = max(target_lens)\n",
        "\n",
        "            padded_input = padded_input.to(DEVICE)\n",
        "            padded_target = padded_target.to(DEVICE)\n",
        "            padded_decoder = padded_decoder.to(DEVICE)\n",
        "\n",
        "            predictions = model(padded_input, input_lens, epoch, padded_decoder)\n",
        "            # print('predictions',predictions.shape)\n",
        "            inferences = torch.argmax(predictions, dim=2)\n",
        "            # print('inferences',inferences.shape)\n",
        "\n",
        "            targets = padded_target\n",
        "            mask = torch.arange(max_len).unsqueeze(0) < torch.tensor(target_lens).unsqueeze(1)\n",
        "            mask = mask.type(torch.float64)\n",
        "            mask = mask.reshape(batch_size * max_len).to(DEVICE)\n",
        "\n",
        "            predictions = predictions.reshape(batch_size * max_len, vocab_size)\n",
        "            padded_target = padded_target.reshape(batch_size * max_len)\n",
        "\n",
        "            loss = criterion(predictions, padded_target)\n",
        "            masked_loss = torch.sum(loss * mask)\n",
        "            batch_loss = masked_loss / torch.sum(mask).item()\n",
        "            epoch_loss += batch_loss.item()\n",
        "            perplexity = np.exp(batch_loss.item())\n",
        "            epoch_perplexity += perplexity\n",
        "            padded_input=torch.permute(padded_input,(1,0,2))\n",
        "            padded_input=torch.squeeze(padded_input)\n",
        "            inp=transform_index_to_letter(padded_input.cpu().numpy())\n",
        "            \n",
        "            cur_dis = 0\n",
        "            for i, article in enumerate(inferences):\n",
        "                flag+=1\n",
        "                inference = ''\n",
        "                for k in article:\n",
        "                    inference += index2letter[k.item()]\n",
        "                    if index2letter[k.item()] == '<eos>':\n",
        "                        break\n",
        "                inference=inference.replace(' ','')\n",
        "                \n",
        "                target = ''.join(index2letter[k.item()] for k in targets[i]).replace(' ','')\n",
        "                # print('\\nInput text:\\n', target)\n",
        "                # print('Pred text:\\n', inference)\n",
        "                # print('in:\\n',inp[i])\n",
        "                cur_dis += distance(inference, target)\n",
        "                # print(distance(inference, target))\n",
        "            epoch_distance += cur_dis\n",
        "            \n",
        "\n",
        "    writer.add_scalar('Loss/Val', epoch_loss / val_batch_num, epoch)\n",
        "    writer.add_scalar('Perplexity/Val', epoch_perplexity / val_batch_num, epoch)\n",
        "    writer.add_scalar('Distance/val', epoch_distance / val_batch_num, epoch)\n",
        "    print('dist',epoch_distance / flag, epoch)\n",
        "    return epoch_distance / flag\n"
      ]
    },
    {
      "cell_type": "code",
      "execution_count": null,
      "metadata": {
        "id": "788qG1MwP6-5",
        "colab": {
          "base_uri": "https://localhost:8080/"
        },
        "outputId": "9f4a1f73-690c-4754-a95c-f5c3718b0476"
      },
      "outputs": [
        {
          "output_type": "stream",
          "name": "stdout",
          "text": [
            "Seq2Seq(\n",
            "  (encoder): Encoder(\n",
            "    (blstm): LSTM(1, 256, bidirectional=True)\n",
            "    (pblstm): ModuleList(\n",
            "      (0): PyramidLSTM(\n",
            "        (pblstm): LSTM(1024, 256, bidirectional=True)\n",
            "      )\n",
            "      (1): PyramidLSTM(\n",
            "        (pblstm): LSTM(1024, 256, bidirectional=True)\n",
            "      )\n",
            "      (2): PyramidLSTM(\n",
            "        (pblstm): LSTM(1024, 256, bidirectional=True)\n",
            "      )\n",
            "    )\n",
            "    (value_network): Linear(in_features=512, out_features=32, bias=True)\n",
            "    (key_network): Linear(in_features=512, out_features=32, bias=True)\n",
            "  )\n",
            "  (decoder): Decoder(\n",
            "    (embedding): Embedding(31, 256)\n",
            "    (lstm1): LSTMCell(288, 512)\n",
            "    (lstm2): LSTMCell(512, 32)\n",
            "    (attention): Attention()\n",
            "    (linear): Linear(in_features=64, out_features=31, bias=True)\n",
            "  )\n",
            ")\n"
          ]
        }
      ],
      "source": [
        "n_epochs = 100\n",
        "mode = 'train'\n",
        "model = Seq2Seq(input_dim=1,vocab_size=len(LETTER_LIST),hidden_dim=256,value_size=32, key_size=32,pyramidlayers=3)\n",
        "print(model)\n",
        "from torch.utils.tensorboard import SummaryWriter\n",
        "# check=torch.load(\"/content/gdrive/MyDrive/hangman/v1/checkpoint/init_epoch_ensemble79.txt\")\n",
        "# model.load_state_dict(check[\"model_state_dict\"])"
      ]
    },
    {
      "cell_type": "markdown",
      "source": [
        "tran model"
      ],
      "metadata": {
        "id": "o2-Zi2Vu2MmT"
      }
    },
    {
      "cell_type": "code",
      "execution_count": null,
      "metadata": {
        "id": "Cp-WzDQixaEz",
        "colab": {
          "base_uri": "https://localhost:8080/",
          "height": 540
        },
        "outputId": "34b7ce42-0d54-478a-b04c-d532a92fdae5"
      },
      "outputs": [
        {
          "output_type": "stream",
          "name": "stdout",
          "text": [
            "Number of Params: 10162207\n",
            "<class 'torch.Tensor'> <class 'torch.Tensor'> <class 'torch.Tensor'> <class 'list'> <class 'list'>\n",
            "torch.Size([22, 4096, 1]) torch.Size([4096, 24]) torch.Size([4096, 24]) 4096 4096\n",
            "tensor([19,  1,  3, 18, 25, 28,  0,  0,  0,  0,  0,  0,  0,  0,  0,  0,  0,  0,\n",
            "         0,  0,  0,  0,  0,  0])\n",
            "Start Train \t0 Epoch\n"
          ]
        },
        {
          "output_type": "stream",
          "name": "stderr",
          "text": [
            "Train:  58%|█████▊    | 26/45 [00:27<00:19,  1.04s/it, loss=1.5692, lr=0.001000000000]"
          ]
        },
        {
          "output_type": "error",
          "ename": "KeyboardInterrupt",
          "evalue": "ignored",
          "traceback": [
            "\u001b[0;31m---------------------------------------------------------------------------\u001b[0m",
            "\u001b[0;31mKeyboardInterrupt\u001b[0m                         Traceback (most recent call last)",
            "\u001b[0;32m<ipython-input-16-27a709a868d9>\u001b[0m in \u001b[0;36m<module>\u001b[0;34m()\u001b[0m\n\u001b[1;32m     38\u001b[0m \u001b[0;34m\u001b[0m\u001b[0m\n\u001b[1;32m     39\u001b[0m     \u001b[0mprint\u001b[0m\u001b[0;34m(\u001b[0m\u001b[0;34m\"Start Train \\t{} Epoch\"\u001b[0m\u001b[0;34m.\u001b[0m\u001b[0mformat\u001b[0m\u001b[0;34m(\u001b[0m\u001b[0mepoch\u001b[0m\u001b[0;34m)\u001b[0m\u001b[0;34m)\u001b[0m\u001b[0;34m\u001b[0m\u001b[0;34m\u001b[0m\u001b[0m\n\u001b[0;32m---> 40\u001b[0;31m     \u001b[0mtrain_perp\u001b[0m \u001b[0;34m=\u001b[0m \u001b[0mtrain\u001b[0m\u001b[0;34m(\u001b[0m\u001b[0mmodel\u001b[0m\u001b[0;34m,\u001b[0m \u001b[0mtrain_loader\u001b[0m\u001b[0;34m,\u001b[0m \u001b[0mcriterion\u001b[0m\u001b[0;34m,\u001b[0m \u001b[0moptimizer\u001b[0m\u001b[0;34m,\u001b[0m \u001b[0mepoch\u001b[0m\u001b[0;34m,\u001b[0m \u001b[0mtrain_batch_num\u001b[0m\u001b[0;34m,\u001b[0m \u001b[0mwriter\u001b[0m\u001b[0;34m,\u001b[0m\u001b[0meditDist\u001b[0m\u001b[0;34m,\u001b[0m\u001b[0mcur_tf\u001b[0m\u001b[0;34m=\u001b[0m\u001b[0mcur_tf\u001b[0m\u001b[0;34m)\u001b[0m\u001b[0;34m\u001b[0m\u001b[0;34m\u001b[0m\u001b[0m\n\u001b[0m\u001b[1;32m     41\u001b[0m     \u001b[0;31m# Save checkpoint\u001b[0m\u001b[0;34m\u001b[0m\u001b[0;34m\u001b[0m\u001b[0;34m\u001b[0m\u001b[0m\n\u001b[1;32m     42\u001b[0m     \u001b[0mprint\u001b[0m\u001b[0;34m(\u001b[0m\u001b[0;34m\"*** Saving Checkpoint ***\"\u001b[0m\u001b[0;34m)\u001b[0m\u001b[0;34m\u001b[0m\u001b[0;34m\u001b[0m\u001b[0m\n",
            "\u001b[0;32m<ipython-input-13-fc373ff65427>\u001b[0m in \u001b[0;36mtrain\u001b[0;34m(model, train_loader, criterion, optimizer, epoch, train_batch_num, writer, editDist, cur_tf)\u001b[0m\n\u001b[1;32m     41\u001b[0m             \u001b[0;31m# batch_loss = masked_loss / torch.sum(mask).item()\u001b[0m\u001b[0;34m\u001b[0m\u001b[0;34m\u001b[0m\u001b[0;34m\u001b[0m\u001b[0m\n\u001b[1;32m     42\u001b[0m             \u001b[0;31m# batch_loss.backward()\u001b[0m\u001b[0;34m\u001b[0m\u001b[0;34m\u001b[0m\u001b[0;34m\u001b[0m\u001b[0m\n\u001b[0;32m---> 43\u001b[0;31m             \u001b[0mloss\u001b[0m\u001b[0;34m.\u001b[0m\u001b[0mbackward\u001b[0m\u001b[0;34m(\u001b[0m\u001b[0;34m)\u001b[0m\u001b[0;34m\u001b[0m\u001b[0;34m\u001b[0m\u001b[0m\n\u001b[0m\u001b[1;32m     44\u001b[0m             \u001b[0mepoch_loss\u001b[0m \u001b[0;34m+=\u001b[0m \u001b[0mloss\u001b[0m\u001b[0;34m.\u001b[0m\u001b[0mitem\u001b[0m\u001b[0;34m(\u001b[0m\u001b[0;34m)\u001b[0m\u001b[0;34m\u001b[0m\u001b[0;34m\u001b[0m\u001b[0m\n\u001b[1;32m     45\u001b[0m             \u001b[0mtorch\u001b[0m\u001b[0;34m.\u001b[0m\u001b[0mnn\u001b[0m\u001b[0;34m.\u001b[0m\u001b[0mutils\u001b[0m\u001b[0;34m.\u001b[0m\u001b[0mclip_grad_norm_\u001b[0m\u001b[0;34m(\u001b[0m\u001b[0mmodel\u001b[0m\u001b[0;34m.\u001b[0m\u001b[0mparameters\u001b[0m\u001b[0;34m(\u001b[0m\u001b[0;34m)\u001b[0m\u001b[0;34m,\u001b[0m \u001b[0;36m2\u001b[0m\u001b[0;34m)\u001b[0m\u001b[0;34m\u001b[0m\u001b[0;34m\u001b[0m\u001b[0m\n",
            "\u001b[0;32m/usr/local/lib/python3.7/dist-packages/torch/_tensor.py\u001b[0m in \u001b[0;36mbackward\u001b[0;34m(self, gradient, retain_graph, create_graph, inputs)\u001b[0m\n\u001b[1;32m    361\u001b[0m                 \u001b[0mcreate_graph\u001b[0m\u001b[0;34m=\u001b[0m\u001b[0mcreate_graph\u001b[0m\u001b[0;34m,\u001b[0m\u001b[0;34m\u001b[0m\u001b[0;34m\u001b[0m\u001b[0m\n\u001b[1;32m    362\u001b[0m                 inputs=inputs)\n\u001b[0;32m--> 363\u001b[0;31m         \u001b[0mtorch\u001b[0m\u001b[0;34m.\u001b[0m\u001b[0mautograd\u001b[0m\u001b[0;34m.\u001b[0m\u001b[0mbackward\u001b[0m\u001b[0;34m(\u001b[0m\u001b[0mself\u001b[0m\u001b[0;34m,\u001b[0m \u001b[0mgradient\u001b[0m\u001b[0;34m,\u001b[0m \u001b[0mretain_graph\u001b[0m\u001b[0;34m,\u001b[0m \u001b[0mcreate_graph\u001b[0m\u001b[0;34m,\u001b[0m \u001b[0minputs\u001b[0m\u001b[0;34m=\u001b[0m\u001b[0minputs\u001b[0m\u001b[0;34m)\u001b[0m\u001b[0;34m\u001b[0m\u001b[0;34m\u001b[0m\u001b[0m\n\u001b[0m\u001b[1;32m    364\u001b[0m \u001b[0;34m\u001b[0m\u001b[0m\n\u001b[1;32m    365\u001b[0m     \u001b[0;32mdef\u001b[0m \u001b[0mregister_hook\u001b[0m\u001b[0;34m(\u001b[0m\u001b[0mself\u001b[0m\u001b[0;34m,\u001b[0m \u001b[0mhook\u001b[0m\u001b[0;34m)\u001b[0m\u001b[0;34m:\u001b[0m\u001b[0;34m\u001b[0m\u001b[0;34m\u001b[0m\u001b[0m\n",
            "\u001b[0;32m/usr/local/lib/python3.7/dist-packages/torch/autograd/__init__.py\u001b[0m in \u001b[0;36mbackward\u001b[0;34m(tensors, grad_tensors, retain_graph, create_graph, grad_variables, inputs)\u001b[0m\n\u001b[1;32m    173\u001b[0m     Variable._execution_engine.run_backward(  # Calls into the C++ engine to run the backward pass\n\u001b[1;32m    174\u001b[0m         \u001b[0mtensors\u001b[0m\u001b[0;34m,\u001b[0m \u001b[0mgrad_tensors_\u001b[0m\u001b[0;34m,\u001b[0m \u001b[0mretain_graph\u001b[0m\u001b[0;34m,\u001b[0m \u001b[0mcreate_graph\u001b[0m\u001b[0;34m,\u001b[0m \u001b[0minputs\u001b[0m\u001b[0;34m,\u001b[0m\u001b[0;34m\u001b[0m\u001b[0;34m\u001b[0m\u001b[0m\n\u001b[0;32m--> 175\u001b[0;31m         allow_unreachable=True, accumulate_grad=True)  # Calls into the C++ engine to run the backward pass\n\u001b[0m\u001b[1;32m    176\u001b[0m \u001b[0;34m\u001b[0m\u001b[0m\n\u001b[1;32m    177\u001b[0m def grad(\n",
            "\u001b[0;31mKeyboardInterrupt\u001b[0m: "
          ]
        }
      ],
      "source": [
        "\n",
        "\n",
        "model.to(DEVICE)\n",
        "import torch.optim as optim\n",
        "from torch.optim import lr_scheduler\n",
        "\n",
        "DEVICE = 'cuda' if torch.cuda.is_available() else 'cpu'\n",
        "\n",
        "optimizer = optim.Adam(model.parameters(), lr=0.001)\n",
        "#criterion = MaskEntropyLoss()\n",
        "# criterion = nn.CrossEntropyLoss()\n",
        "criterion = nn.CrossEntropyLoss().to(DEVICE)\n",
        "\n",
        "scheduler = optim.lr_scheduler.ReduceLROnPlateau(optimizer, factor=0.99, patience=1, verbose=True, threshold=1e-2)\n",
        "num_trainable_parameters = 0\n",
        "for p in model.parameters():\n",
        "    num_trainable_parameters += p.numel()\n",
        "print(\"Number of Params: {}\".format(num_trainable_parameters))\n",
        "# checkpoint = torch.load(\"/content/gdrive/MyDrive/hangman/v1/checkpoint/init_epoch4.txt\")\n",
        "# model.load_state_dict(checkpoint[\"model_state_dict\"])\n",
        "model.to(DEVICE)\n",
        "train_batch_num = int(len(train_data) / batch_size) + 1\n",
        "\n",
        "writer = SummaryWriter('content')\n",
        "for data in train_loader:\n",
        "    \n",
        "    x, y, a,lx, ly = data\n",
        "    print(type(x),type(y),type(a),type(lx),type(ly))\n",
        "    print(x.shape, y.shape,a.shape, len(lx), len(ly))\n",
        "    print(y[0]) # desired \n",
        "    break\n",
        "val_batch_num = int(len(val_loader) / batch_size) + 1\n",
        "editDist=100\n",
        "cur_tf=0\n",
        "n_epochs = 100\n",
        "\n",
        "for epoch in range(n_epochs):\n",
        "    \n",
        "    print(\"Start Train \\t{} Epoch\".format(epoch))\n",
        "    train_perp = train(model, train_loader, criterion, optimizer, epoch, train_batch_num, writer,editDist,cur_tf=cur_tf)\n",
        "    # Save checkpoint\n",
        "    print(\"*** Saving Checkpoint ***\")\n",
        "    path = \"{}init_epoch_ensemble{}.txt\".format('/content/gdrive/MyDrive/hangman/v1/checkpoint/', epoch)\n",
        "    torch.save({\n",
        "        'epoch':epoch,\n",
        "        'model_state_dict':model.state_dict(),\n",
        "        'optimizer_state_dict': optimizer.state_dict()}, path)\n",
        "    editDist = val(model, val_loader, criterion, epoch, val_batch_num, index2letter, writer)\n",
        "    print(editDist)\n",
        "    scheduler.step(editDist)\n",
        "    if(editDist<2.2):\n",
        "      cur_tf+=0.05"
      ]
    }
  ],
  "metadata": {
    "accelerator": "GPU",
    "colab": {
      "machine_shape": "hm",
      "provenance": []
    },
    "kernelspec": {
      "display_name": "Python 3 (ipykernel)",
      "language": "python",
      "name": "python3"
    },
    "language_info": {
      "codemirror_mode": {
        "name": "ipython",
        "version": 3
      },
      "file_extension": ".py",
      "mimetype": "text/x-python",
      "name": "python",
      "nbconvert_exporter": "python",
      "pygments_lexer": "ipython3",
      "version": "3.8.13"
    }
  },
  "nbformat": 4,
  "nbformat_minor": 0
}